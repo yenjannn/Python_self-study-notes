{
 "cells": [
  {
   "cell_type": "code",
   "execution_count": 14,
   "metadata": {},
   "outputs": [],
   "source": [
    "%matplotlib inline\n",
    "\n",
    "import numpy as np\n",
    "import matplotlib.pyplot as plt"
   ]
  },
  {
   "cell_type": "markdown",
   "metadata": {},
   "source": [
    "### 7. Python的資料型態\n",
    "* 動態資料型態 dynamically typed：不用宣告，動態即時決定資料型態。\n",
    "* 整數`int`、浮點數`float`、字串`string`、串列`list`。"
   ]
  },
  {
   "cell_type": "code",
   "execution_count": 1,
   "metadata": {},
   "outputs": [],
   "source": [
    "spam = 87\n",
    "egg = \"hello\"\n",
    "ham = [9, 4, 8, 7]"
   ]
  },
  {
   "cell_type": "code",
   "execution_count": 2,
   "metadata": {},
   "outputs": [
    {
     "data": {
      "text/plain": [
       "'hello'"
      ]
     },
     "execution_count": 2,
     "metadata": {},
     "output_type": "execute_result"
    }
   ],
   "source": [
    "egg"
   ]
  },
  {
   "cell_type": "code",
   "execution_count": 3,
   "metadata": {},
   "outputs": [
    {
     "data": {
      "text/plain": [
       "'hellohellohello'"
      ]
     },
     "execution_count": 3,
     "metadata": {},
     "output_type": "execute_result"
    }
   ],
   "source": [
    "egg * 3"
   ]
  },
  {
   "cell_type": "code",
   "execution_count": 4,
   "metadata": {},
   "outputs": [
    {
     "data": {
      "text/plain": [
       "[9, 4, 8, 7, 9, 4, 8, 7, 9, 4, 8, 7]"
      ]
     },
     "execution_count": 4,
     "metadata": {},
     "output_type": "execute_result"
    }
   ],
   "source": [
    "ham * 3"
   ]
  },
  {
   "cell_type": "code",
   "execution_count": 5,
   "metadata": {},
   "outputs": [
    {
     "ename": "TypeError",
     "evalue": "can only concatenate str (not \"int\") to str",
     "output_type": "error",
     "traceback": [
      "\u001b[1;31m----------------------------------------------------------------------\u001b[0m",
      "\u001b[1;31mTypeError\u001b[0m                            Traceback (most recent call last)",
      "\u001b[1;32m<ipython-input-5-64cb583c2999>\u001b[0m in \u001b[0;36m<module>\u001b[1;34m\u001b[0m\n\u001b[1;32m----> 1\u001b[1;33m \u001b[0megg\u001b[0m \u001b[1;33m+\u001b[0m \u001b[1;36m87\u001b[0m\u001b[1;33m\u001b[0m\u001b[1;33m\u001b[0m\u001b[0m\n\u001b[0m",
      "\u001b[1;31mTypeError\u001b[0m: can only concatenate str (not \"int\") to str"
     ]
    }
   ],
   "source": [
    "egg + 87"
   ]
  },
  {
   "cell_type": "code",
   "execution_count": 6,
   "metadata": {},
   "outputs": [
    {
     "data": {
      "text/plain": [
       "'hello87'"
      ]
     },
     "execution_count": 6,
     "metadata": {},
     "output_type": "execute_result"
    }
   ],
   "source": [
    "egg + \"87\""
   ]
  },
  {
   "cell_type": "code",
   "execution_count": 7,
   "metadata": {},
   "outputs": [
    {
     "data": {
      "text/plain": [
       "'878787'"
      ]
     },
     "execution_count": 7,
     "metadata": {},
     "output_type": "execute_result"
    }
   ],
   "source": [
    "\"87\" * 3"
   ]
  },
  {
   "cell_type": "code",
   "execution_count": 9,
   "metadata": {},
   "outputs": [
    {
     "name": "stdout",
     "output_type": "stream",
     "text": [
      "請輸入您的您齡：28\n",
      "請輸入您的身高(公尺)：1.66\n",
      "請輸入您的體重(公斤)：52\n",
      "您今年28歲，BMI值為 18.9 。\n"
     ]
    }
   ],
   "source": [
    "age = input(\"請輸入您的您齡：\")\n",
    "h = float(input(\"請輸入您的身高(公尺)：\"))\n",
    "w = float(input(\"請輸入您的體重(公斤)：\"))\n",
    "BMI = w/h**2\n",
    "print(\"您今年\" + age + \"歲，BMI值為\",'%.1f'%BMI,\"。\")"
   ]
  },
  {
   "cell_type": "markdown",
   "metadata": {},
   "source": [
    "### 8. 重要的字典資料型態\n",
    "* 整數`int`、浮點數`float`、字串`string`、串列`list`、字典`dict`。"
   ]
  },
  {
   "cell_type": "code",
   "execution_count": 10,
   "metadata": {},
   "outputs": [],
   "source": [
    "my_dict = {'spam':'午餐肉', 'egg':'雞蛋', 'ham':'火腿'}"
   ]
  },
  {
   "cell_type": "code",
   "execution_count": 11,
   "metadata": {},
   "outputs": [
    {
     "data": {
      "text/plain": [
       "'火腿'"
      ]
     },
     "execution_count": 11,
     "metadata": {},
     "output_type": "execute_result"
    }
   ],
   "source": [
    "# 索引的時候都是用中括號\n",
    "my_dict['ham']"
   ]
  },
  {
   "cell_type": "code",
   "execution_count": 12,
   "metadata": {},
   "outputs": [],
   "source": [
    "# 新增一筆資料\n",
    "my_dict['apple'] = '蘋果'"
   ]
  },
  {
   "cell_type": "code",
   "execution_count": 13,
   "metadata": {},
   "outputs": [
    {
     "data": {
      "text/plain": [
       "{'spam': '午餐肉', 'egg': '雞蛋', 'ham': '火腿', 'apple': '蘋果'}"
      ]
     },
     "execution_count": 13,
     "metadata": {},
     "output_type": "execute_result"
    }
   ],
   "source": [
    "my_dict"
   ]
  },
  {
   "cell_type": "code",
   "execution_count": 14,
   "metadata": {},
   "outputs": [
    {
     "data": {
      "text/plain": [
       "{'spam': '午餐肉', 'egg': '雞蛋', 'apple': '蘋果'}"
      ]
     },
     "execution_count": 14,
     "metadata": {},
     "output_type": "execute_result"
    }
   ],
   "source": [
    "# 刪除一筆資料\n",
    "del my_dict['ham']\n",
    "my_dict"
   ]
  },
  {
   "cell_type": "code",
   "execution_count": 15,
   "metadata": {},
   "outputs": [
    {
     "ename": "SyntaxError",
     "evalue": "invalid syntax (<ipython-input-15-9fed832a24c0>, line 1)",
     "output_type": "error",
     "traceback": [
      "\u001b[1;36m  File \u001b[1;32m\"<ipython-input-15-9fed832a24c0>\"\u001b[1;36m, line \u001b[1;32m1\u001b[0m\n\u001b[1;33m    my_dict. # 按tab鍵快速瀏覽可用的功能\u001b[0m\n\u001b[1;37m                             ^\u001b[0m\n\u001b[1;31mSyntaxError\u001b[0m\u001b[1;31m:\u001b[0m invalid syntax\n"
     ]
    }
   ],
   "source": [
    "my_dict. # 按tab鍵快速瀏覽可用的功能"
   ]
  },
  {
   "cell_type": "code",
   "execution_count": 16,
   "metadata": {},
   "outputs": [
    {
     "data": {
      "text/plain": [
       "dict_keys(['spam', 'egg', 'apple'])"
      ]
     },
     "execution_count": 16,
     "metadata": {},
     "output_type": "execute_result"
    }
   ],
   "source": [
    "my_dict.keys()"
   ]
  },
  {
   "cell_type": "code",
   "execution_count": 17,
   "metadata": {},
   "outputs": [
    {
     "data": {
      "text/plain": [
       "dict_values(['午餐肉', '雞蛋', '蘋果'])"
      ]
     },
     "execution_count": 17,
     "metadata": {},
     "output_type": "execute_result"
    }
   ],
   "source": [
    "my_dict.values()"
   ]
  },
  {
   "cell_type": "markdown",
   "metadata": {},
   "source": [
    "### 10. Hello, World!"
   ]
  },
  {
   "cell_type": "code",
   "execution_count": 18,
   "metadata": {},
   "outputs": [
    {
     "name": "stdout",
     "output_type": "stream",
     "text": [
      "Hello, World!\n"
     ]
    }
   ],
   "source": [
    "print(\"Hello, World!\")"
   ]
  },
  {
   "cell_type": "code",
   "execution_count": 19,
   "metadata": {},
   "outputs": [
    {
     "name": "stdout",
     "output_type": "stream",
     "text": [
      "Hello,Jan!\n"
     ]
    }
   ],
   "source": [
    "name = \"Jan\"\n",
    "print(\"Hello,\" + name + \"!\")"
   ]
  },
  {
   "cell_type": "code",
   "execution_count": 20,
   "metadata": {},
   "outputs": [
    {
     "data": {
      "text/plain": [
       "'於是 我\\n發現\\n\\n你\\n忘記 我的\\n思念'"
      ]
     },
     "execution_count": 20,
     "metadata": {},
     "output_type": "execute_result"
    }
   ],
   "source": [
    "# 可以換行的三引號字串\n",
    "message = '''於是 我\n",
    "發現\n",
    "\n",
    "你\n",
    "忘記 我的\n",
    "思念'''\n",
    "\n",
    "message"
   ]
  },
  {
   "cell_type": "code",
   "execution_count": 21,
   "metadata": {},
   "outputs": [
    {
     "name": "stdout",
     "output_type": "stream",
     "text": [
      "於是 我\n",
      "發現\n",
      "\n",
      "你\n",
      "忘記 我的\n",
      "思念\n"
     ]
    }
   ],
   "source": [
    "print(message)"
   ]
  },
  {
   "cell_type": "code",
   "execution_count": 22,
   "metadata": {},
   "outputs": [
    {
     "name": "stdout",
     "output_type": "stream",
     "text": [
      "( ￣ 3￣)y▂ξ\n"
     ]
    }
   ],
   "source": [
    "face = \"( ￣ 3￣)y▂ξ\"\n",
    "print(face)"
   ]
  },
  {
   "cell_type": "code",
   "execution_count": 23,
   "metadata": {},
   "outputs": [
    {
     "name": "stdout",
     "output_type": "stream",
     "text": [
      "( ￣ 3￣)y▂ξ( ￣ 3￣)y▂ξ( ￣ 3￣)y▂ξ( ￣ 3￣)y▂ξ( ￣ 3￣)y▂ξ\n"
     ]
    }
   ],
   "source": [
    "print(face*5)"
   ]
  },
  {
   "cell_type": "code",
   "execution_count": 25,
   "metadata": {},
   "outputs": [
    {
     "name": "stdout",
     "output_type": "stream",
     "text": [
      "10 次\n",
      "( ￣ 3￣)y▂ξ( ￣ 3￣)y▂ξ( ￣ 3￣)y▂ξ( ￣ 3￣)y▂ξ( ￣ 3￣)y▂ξ( ￣ 3￣)y▂ξ( ￣ 3￣)y▂ξ( ￣ 3￣)y▂ξ( ￣ 3￣)y▂ξ( ￣ 3￣)y▂ξ\n"
     ]
    }
   ],
   "source": [
    "n = np.random.randint(1, 24)\n",
    "print(n,\"次\")\n",
    "print(face*n)"
   ]
  },
  {
   "cell_type": "markdown",
   "metadata": {},
   "source": [
    "### 11. 拍拍機器人"
   ]
  },
  {
   "cell_type": "code",
   "execution_count": 26,
   "metadata": {},
   "outputs": [
    {
     "name": "stdout",
     "output_type": "stream",
     "text": [
      "請輸入你的名字: Jan\n"
     ]
    }
   ],
   "source": [
    "name = input(\"請輸入你的名字: \")"
   ]
  },
  {
   "cell_type": "code",
   "execution_count": 27,
   "metadata": {},
   "outputs": [
    {
     "data": {
      "text/plain": [
       "'Jan'"
      ]
     },
     "execution_count": 27,
     "metadata": {},
     "output_type": "execute_result"
    }
   ],
   "source": [
    "name"
   ]
  },
  {
   "cell_type": "code",
   "execution_count": 28,
   "metadata": {},
   "outputs": [
    {
     "name": "stdout",
     "output_type": "stream",
     "text": [
      "請輸入你的名字:然\n",
      "然，你好!\n"
     ]
    }
   ],
   "source": [
    "# 變數輸入的資料型態一定是字串\n",
    "name = input(\"請輸入你的名字:\")\n",
    "print(name + \"，你好!\")"
   ]
  },
  {
   "cell_type": "code",
   "execution_count": 29,
   "metadata": {},
   "outputs": [
    {
     "name": "stdout",
     "output_type": "stream",
     "text": [
      "請輸入日圓金額: 500\n"
     ]
    },
    {
     "ename": "TypeError",
     "evalue": "can't multiply sequence by non-int of type 'float'",
     "output_type": "error",
     "traceback": [
      "\u001b[1;31m----------------------------------------------------------------------\u001b[0m",
      "\u001b[1;31mTypeError\u001b[0m                            Traceback (most recent call last)",
      "\u001b[1;32m<ipython-input-29-ca7a71839af8>\u001b[0m in \u001b[0;36m<module>\u001b[1;34m\u001b[0m\n\u001b[0;32m      1\u001b[0m \u001b[0mc\u001b[0m \u001b[1;33m=\u001b[0m \u001b[1;36m0.272174\u001b[0m\u001b[1;33m\u001b[0m\u001b[1;33m\u001b[0m\u001b[0m\n\u001b[0;32m      2\u001b[0m \u001b[0mjpy\u001b[0m \u001b[1;33m=\u001b[0m \u001b[0minput\u001b[0m\u001b[1;33m(\u001b[0m\u001b[1;34m\"請輸入日圓金額: \"\u001b[0m\u001b[1;33m)\u001b[0m\u001b[1;33m\u001b[0m\u001b[1;33m\u001b[0m\u001b[0m\n\u001b[1;32m----> 3\u001b[1;33m \u001b[0mprint\u001b[0m\u001b[1;33m(\u001b[0m\u001b[1;34m\"換算成台幣為\"\u001b[0m\u001b[1;33m,\u001b[0m \u001b[0mjpy\u001b[0m \u001b[1;33m*\u001b[0m \u001b[0mc\u001b[0m\u001b[1;33m)\u001b[0m\u001b[1;33m\u001b[0m\u001b[1;33m\u001b[0m\u001b[0m\n\u001b[0m",
      "\u001b[1;31mTypeError\u001b[0m: can't multiply sequence by non-int of type 'float'"
     ]
    }
   ],
   "source": [
    "c = 0.272174\n",
    "jpy = input(\"請輸入日圓金額: \")\n",
    "print(\"換算成台幣為\", jpy * c)"
   ]
  },
  {
   "cell_type": "code",
   "execution_count": 30,
   "metadata": {},
   "outputs": [
    {
     "data": {
      "text/plain": [
       "'500'"
      ]
     },
     "execution_count": 30,
     "metadata": {},
     "output_type": "execute_result"
    }
   ],
   "source": [
    "jpy"
   ]
  },
  {
   "cell_type": "code",
   "execution_count": 31,
   "metadata": {},
   "outputs": [
    {
     "data": {
      "text/plain": [
       "500.0"
      ]
     },
     "execution_count": 31,
     "metadata": {},
     "output_type": "execute_result"
    }
   ],
   "source": [
    "float(jpy)"
   ]
  },
  {
   "cell_type": "code",
   "execution_count": 32,
   "metadata": {},
   "outputs": [
    {
     "data": {
      "text/plain": [
       "500"
      ]
     },
     "execution_count": 32,
     "metadata": {},
     "output_type": "execute_result"
    }
   ],
   "source": [
    "int(jpy)"
   ]
  },
  {
   "cell_type": "code",
   "execution_count": 33,
   "metadata": {},
   "outputs": [
    {
     "name": "stdout",
     "output_type": "stream",
     "text": [
      "請輸入日圓金額: 500\n",
      "換算成台幣為 136.08700000000002\n"
     ]
    }
   ],
   "source": [
    "c = 0.272174\n",
    "jpy = input(\"請輸入日圓金額: \")\n",
    "print(\"換算成台幣為\", float(jpy) * c)"
   ]
  },
  {
   "cell_type": "code",
   "execution_count": 34,
   "metadata": {},
   "outputs": [
    {
     "name": "stdout",
     "output_type": "stream",
     "text": [
      "請輸入日圓金額: 500\n",
      "換算成台幣為 136.08700000000002\n"
     ]
    }
   ],
   "source": [
    "# 也可以在使用前就先調整好資料型態\n",
    "c = 0.272174\n",
    "jpy = input(\"請輸入日圓金額: \")\n",
    "jpy = float(jpy)\n",
    "print(\"換算成台幣為\", jpy * c)"
   ]
  },
  {
   "cell_type": "code",
   "execution_count": 35,
   "metadata": {},
   "outputs": [
    {
     "name": "stdout",
     "output_type": "stream",
     "text": [
      "請輸入日圓金額: 500\n",
      "換算成台幣為 136.08700000000002\n"
     ]
    }
   ],
   "source": [
    "# 也可以在input收到資料的時候，就直接改好資料型態\n",
    "c = 0.272174\n",
    "jpy = float(input(\"請輸入日圓金額: \"))\n",
    "print(\"換算成台幣為\", jpy * c)"
   ]
  },
  {
   "cell_type": "code",
   "execution_count": 36,
   "metadata": {},
   "outputs": [
    {
     "name": "stdout",
     "output_type": "stream",
     "text": [
      "> 哈哈\n",
      "( ￣ 3￣)y▂ξ: 拍拍\n"
     ]
    }
   ],
   "source": [
    "# 正式進入拍拍機器人\n",
    "\n",
    "message = input(\"> \")\n",
    "print(\"( ￣ 3￣)y▂ξ: 拍拍\")"
   ]
  },
  {
   "cell_type": "code",
   "execution_count": 37,
   "metadata": {},
   "outputs": [
    {
     "name": "stdout",
     "output_type": "stream",
     "text": [
      "> 哈哈\n",
      "( ￣ 3￣)y▂ξ:  我瞭解\n"
     ]
    }
   ],
   "source": [
    "# 隨機選擇回應\n",
    "message = input(\"> \")\n",
    "egg = ['拍拍', '我瞭解', '多找我聊聊']\n",
    "n = np.random.randint(0,2)\n",
    "print(\"( ￣ 3￣)y▂ξ: \", egg[n])"
   ]
  },
  {
   "cell_type": "code",
   "execution_count": 38,
   "metadata": {},
   "outputs": [
    {
     "name": "stdout",
     "output_type": "stream",
     "text": [
      "請輸入身高(公尺): 1.66\n",
      "請輸入體重(公斤): 52\n",
      "您的BMI值為:  18.87\n"
     ]
    }
   ],
   "source": [
    "# BMI\n",
    "h = float(input(\"請輸入身高(公尺): \"))\n",
    "w = float(input(\"請輸入體重(公斤): \"))\n",
    "BMI = w/h**2\n",
    "print(\"您的BMI值為: \", '%.2f' %BMI)"
   ]
  },
  {
   "cell_type": "code",
   "execution_count": 39,
   "metadata": {},
   "outputs": [
    {
     "name": "stdout",
     "output_type": "stream",
     "text": [
      "請輸入你的幸運數字: 7\n",
      "您的今日運勢: ★☆☆☆☆\n"
     ]
    }
   ],
   "source": [
    "# 輸入幸運數字，隨機回應運勢(用星星表示)\n",
    "num = int(input(\"請輸入你的幸運數字: \"))\n",
    "n = np.random.randint(1, 5)\n",
    "print(\"您的今日運勢: \" + '★' * n + '☆' * (5-n))"
   ]
  },
  {
   "cell_type": "markdown",
   "metadata": {},
   "source": [
    "### 12. 邏輯判斷"
   ]
  },
  {
   "cell_type": "code",
   "execution_count": 40,
   "metadata": {},
   "outputs": [
    {
     "data": {
      "text/plain": [
       "True"
      ]
     },
     "execution_count": 40,
     "metadata": {},
     "output_type": "execute_result"
    }
   ],
   "source": [
    "2 < 3"
   ]
  },
  {
   "cell_type": "code",
   "execution_count": 41,
   "metadata": {},
   "outputs": [
    {
     "data": {
      "text/plain": [
       "False"
      ]
     },
     "execution_count": 41,
     "metadata": {},
     "output_type": "execute_result"
    }
   ],
   "source": [
    "3 < 2"
   ]
  },
  {
   "cell_type": "code",
   "execution_count": 42,
   "metadata": {},
   "outputs": [],
   "source": [
    "# 設定變數\n",
    "a = 7"
   ]
  },
  {
   "cell_type": "code",
   "execution_count": 43,
   "metadata": {},
   "outputs": [
    {
     "data": {
      "text/plain": [
       "False"
      ]
     },
     "execution_count": 43,
     "metadata": {},
     "output_type": "execute_result"
    }
   ],
   "source": [
    "# 判斷變數a是否與後者相等\n",
    "a == 8"
   ]
  },
  {
   "cell_type": "code",
   "execution_count": 44,
   "metadata": {},
   "outputs": [
    {
     "data": {
      "text/plain": [
       "True"
      ]
     },
     "execution_count": 44,
     "metadata": {},
     "output_type": "execute_result"
    }
   ],
   "source": [
    "# 判斷變數a是否與後者不相等\n",
    "a != 8"
   ]
  },
  {
   "cell_type": "code",
   "execution_count": 45,
   "metadata": {},
   "outputs": [
    {
     "data": {
      "text/plain": [
       "True"
      ]
     },
     "execution_count": 45,
     "metadata": {},
     "output_type": "execute_result"
    }
   ],
   "source": [
    "a >= 6"
   ]
  },
  {
   "cell_type": "code",
   "execution_count": 46,
   "metadata": {},
   "outputs": [
    {
     "data": {
      "text/plain": [
       "False"
      ]
     },
     "execution_count": 46,
     "metadata": {},
     "output_type": "execute_result"
    }
   ],
   "source": [
    "a <= 6"
   ]
  },
  {
   "cell_type": "code",
   "execution_count": 47,
   "metadata": {},
   "outputs": [
    {
     "name": "stdout",
     "output_type": "stream",
     "text": [
      "及格了!\n",
      "再接再厲!\n"
     ]
    }
   ],
   "source": [
    "# 使用if指令做條件判斷\n",
    "grade = 87\n",
    "\n",
    "if grade >= 60:\n",
    "    print(\"及格了!\")\n",
    "    print(\"再接再厲!\")"
   ]
  },
  {
   "cell_type": "code",
   "execution_count": 48,
   "metadata": {},
   "outputs": [
    {
     "name": "stdout",
     "output_type": "stream",
     "text": [
      "及格了!\n"
     ]
    }
   ],
   "source": [
    "# 進階版if指令:加入條件不成立時執行的任務\n",
    "grade = 87\n",
    "\n",
    "if grade >= 60:\n",
    "    print(\"及格了!\")\n",
    "else:\n",
    "    print(\"再接再厲!\")"
   ]
  },
  {
   "cell_type": "code",
   "execution_count": 49,
   "metadata": {},
   "outputs": [
    {
     "name": "stdout",
     "output_type": "stream",
     "text": [
      "及格了!\n"
     ]
    }
   ],
   "source": [
    "# 利用elif加入更多層的判斷\n",
    "grade = 66\n",
    "\n",
    "if grade >= 80:\n",
    "    print(\"太神了!\")\n",
    "elif grade >= 60:\n",
    "    print(\"及格了!\")\n",
    "elif grade > 50:\n",
    "    print(\"差一點點，再加油!\")\n",
    "else:\n",
    "    print(\"不要灰心，記得多問問題，再努力一些!\")"
   ]
  },
  {
   "cell_type": "code",
   "execution_count": 50,
   "metadata": {},
   "outputs": [
    {
     "name": "stdout",
     "output_type": "stream",
     "text": [
      "請輸入您的成績: 20\n",
      "( ￣ 3￣)y▂ξ: 不要灰心，記得多問問題，再努力一些!\n"
     ]
    }
   ],
   "source": [
    "grade = int(input(\"請輸入您的成績: \"))\n",
    "\n",
    "if grade >= 80:\n",
    "    print(\"( ￣ 3￣)y▂ξ: 太神了!\")\n",
    "elif grade >= 60:\n",
    "    print(\"( ￣ 3￣)y▂ξ: 及格了!\")\n",
    "elif grade > 50:\n",
    "    print(\"( ￣ 3￣)y▂ξ: 差一點點，再加油!\")\n",
    "else:\n",
    "    print(\"( ￣ 3￣)y▂ξ: 不要灰心，記得多問問題，再努力一些!\")"
   ]
  },
  {
   "cell_type": "code",
   "execution_count": 51,
   "metadata": {},
   "outputs": [
    {
     "data": {
      "text/plain": [
       "True"
      ]
     },
     "execution_count": 51,
     "metadata": {},
     "output_type": "execute_result"
    }
   ],
   "source": [
    "# 字串也可以比大小\n",
    "'Z' > 'B'"
   ]
  },
  {
   "cell_type": "code",
   "execution_count": 52,
   "metadata": {},
   "outputs": [
    {
     "data": {
      "text/plain": [
       "True"
      ]
     },
     "execution_count": 52,
     "metadata": {},
     "output_type": "execute_result"
    }
   ],
   "source": [
    "'zoo' > 'zip'"
   ]
  },
  {
   "cell_type": "code",
   "execution_count": 53,
   "metadata": {},
   "outputs": [
    {
     "data": {
      "text/plain": [
       "True"
      ]
     },
     "execution_count": 53,
     "metadata": {},
     "output_type": "execute_result"
    }
   ],
   "source": [
    "# 判斷單字是否在句子中\n",
    "'悲傷' in '我今天很悲傷'"
   ]
  },
  {
   "cell_type": "code",
   "execution_count": 54,
   "metadata": {},
   "outputs": [
    {
     "name": "stdout",
     "output_type": "stream",
     "text": [
      "> 很快樂\n",
      "( ￣ 3￣)y▂ξ: 太棒了\n"
     ]
    }
   ],
   "source": [
    "message = input(\"> \")\n",
    "\n",
    "if '悲傷' in message:\n",
    "    print(\"( ￣ 3￣)y▂ξ: 拍拍\")\n",
    "elif '很快樂' in message:\n",
    "    print(\"( ￣ 3￣)y▂ξ: 太棒了\")\n",
    "else:\n",
    "    print(\"( ￣ 3￣)y▂ξ: 嗯嗯\")"
   ]
  },
  {
   "cell_type": "code",
   "execution_count": 57,
   "metadata": {},
   "outputs": [
    {
     "name": "stdout",
     "output_type": "stream",
     "text": [
      "請輸入身高(公尺): 1.66\n",
      "請輸入體重(公斤): 52\n",
      "( ￣ 3￣)y▂ξ: 您的BMI值為:  18.87\n",
      "( ￣ 3￣)y▂ξ: 恭喜您，體態維持良好，BMI值正常!\n"
     ]
    }
   ],
   "source": [
    "# 判斷使用者的BMI是否正常\n",
    "h = float(input(\"請輸入身高(公尺): \"))\n",
    "w = float(input(\"請輸入體重(公斤): \"))\n",
    "BMI = w/h**2\n",
    "print(\"( ￣ 3￣)y▂ξ: 您的BMI值為: \", '%.2f' %BMI)\n",
    "if BMI >= 24:\n",
    "    print(\"( ￣ 3￣)y▂ξ: 您的BMI值過高，可能有糖尿病、心血管疾病、惡性腫瘤等慢性疾病的風險。\")\n",
    "elif BMI >= 18.5:\n",
    "    print(\"( ￣ 3￣)y▂ξ: 恭喜您，體態維持良好，BMI值正常!\")\n",
    "else:\n",
    "    print(\"( ￣ 3￣)y▂ξ: 您的BMI值過低，可能有營養不良、骨質疏鬆等健康問題。\")"
   ]
  },
  {
   "cell_type": "markdown",
   "metadata": {},
   "source": [
    "### 13. 串列索引和生成\n",
    "利用`range(i,j)`快速生成`list`，但要注意範圍是$i \\leq k < j$。     \n",
    "以及如果起始值是0可以省略。\n",
    "\n",
    "### 16. 用append打造需要的串列\n",
    "需要先給定一個空的串列(list)，`L = []`。     \n",
    "`L.append(item)`：將item放入L這個串列中。\n",
    "\n",
    "### 17. list comprehension串列表示式打造需要的串列\n",
    "有點類似集合的表示方法，例如想表示1,3,5,7,9五個奇數：$$\\{2k+1|k \\in \\{0,1,2,3,4\\}\\}$$"
   ]
  },
  {
   "cell_type": "markdown",
   "metadata": {},
   "source": [
    "13"
   ]
  },
  {
   "cell_type": "code",
   "execution_count": 58,
   "metadata": {},
   "outputs": [
    {
     "data": {
      "text/plain": [
       "range(0, 10)"
      ]
     },
     "execution_count": 58,
     "metadata": {},
     "output_type": "execute_result"
    }
   ],
   "source": [
    "range(10) # 就是range(0,10)。\n",
    "# range不會直接產生串列，但基本上還是跟串列很像，只要用list指令就可以把它變成真正的串列。"
   ]
  },
  {
   "cell_type": "code",
   "execution_count": 59,
   "metadata": {},
   "outputs": [
    {
     "data": {
      "text/plain": [
       "[0, 1, 2, 3, 4, 5, 6, 7, 8, 9]"
      ]
     },
     "execution_count": 59,
     "metadata": {},
     "output_type": "execute_result"
    }
   ],
   "source": [
    "# range是連續數字\n",
    "list(range(10))"
   ]
  },
  {
   "cell_type": "code",
   "execution_count": 60,
   "metadata": {},
   "outputs": [],
   "source": [
    "egg = list(range(10))"
   ]
  },
  {
   "cell_type": "code",
   "execution_count": 66,
   "metadata": {},
   "outputs": [
    {
     "data": {
      "text/plain": [
       "[0, 1, 2, 3, 4, 5, 6, 7, 8, 9]"
      ]
     },
     "execution_count": 66,
     "metadata": {},
     "output_type": "execute_result"
    }
   ],
   "source": [
    "egg"
   ]
  },
  {
   "cell_type": "code",
   "execution_count": 64,
   "metadata": {},
   "outputs": [
    {
     "data": {
      "text/plain": [
       "[1, 6, 2, 2, 2]"
      ]
     },
     "execution_count": 64,
     "metadata": {},
     "output_type": "execute_result"
    }
   ],
   "source": [
    "# 自己嘗試利用在0~9之間隨機取5個整數並存成list。\n",
    "list(np.random.randint(0, 9, 5)) "
   ]
  },
  {
   "cell_type": "code",
   "execution_count": 65,
   "metadata": {},
   "outputs": [
    {
     "data": {
      "text/plain": [
       "array([4, 4, 8, 5, 6])"
      ]
     },
     "execution_count": 65,
     "metadata": {},
     "output_type": "execute_result"
    }
   ],
   "source": [
    "np.random.randint(0, 9, 5)"
   ]
  },
  {
   "cell_type": "code",
   "execution_count": 67,
   "metadata": {},
   "outputs": [
    {
     "data": {
      "text/plain": [
       "[2, 3, 4, 5, 6, 7, 8, 9]"
      ]
     },
     "execution_count": 67,
     "metadata": {},
     "output_type": "execute_result"
    }
   ],
   "source": [
    "# 指定起始值\n",
    "list(range(2, 10))"
   ]
  },
  {
   "cell_type": "code",
   "execution_count": 71,
   "metadata": {},
   "outputs": [
    {
     "data": {
      "text/plain": [
       "[1, 3, 5, 7, 9, 11, 13, 15]"
      ]
     },
     "execution_count": 71,
     "metadata": {},
     "output_type": "execute_result"
    }
   ],
   "source": [
    "# 也可以指定間隔\n",
    "list(range(1, 16, 2))"
   ]
  },
  {
   "cell_type": "code",
   "execution_count": 69,
   "metadata": {},
   "outputs": [
    {
     "data": {
      "text/plain": [
       "[1, 4, 7, 10, 13]"
      ]
     },
     "execution_count": 69,
     "metadata": {},
     "output_type": "execute_result"
    }
   ],
   "source": [
    "list(range(1, 15, 3))"
   ]
  },
  {
   "cell_type": "code",
   "execution_count": 72,
   "metadata": {},
   "outputs": [],
   "source": [
    "# 串列中可以有各種資料型態，甚至串列中有串列也可以。 \n",
    "混搭的串列 = [37, 85, [2, 3, 6], 'cat', 49] "
   ]
  },
  {
   "cell_type": "code",
   "execution_count": 73,
   "metadata": {},
   "outputs": [
    {
     "data": {
      "text/plain": [
       "[37, 85, [2, 3, 6], 'cat', 49]"
      ]
     },
     "execution_count": 73,
     "metadata": {},
     "output_type": "execute_result"
    }
   ],
   "source": [
    "混搭的串列"
   ]
  },
  {
   "cell_type": "code",
   "execution_count": 74,
   "metadata": {},
   "outputs": [],
   "source": [
    "ham = 'ABCDEFGHIJK'"
   ]
  },
  {
   "cell_type": "code",
   "execution_count": 75,
   "metadata": {},
   "outputs": [
    {
     "data": {
      "text/plain": [
       "['A', 'B', 'C', 'D', 'E', 'F', 'G', 'H', 'I', 'J', 'K']"
      ]
     },
     "execution_count": 75,
     "metadata": {},
     "output_type": "execute_result"
    }
   ],
   "source": [
    "list(ham)"
   ]
  },
  {
   "cell_type": "code",
   "execution_count": 76,
   "metadata": {},
   "outputs": [],
   "source": [
    "XZ = list('肖煙四起，為戰而來。')"
   ]
  },
  {
   "cell_type": "code",
   "execution_count": 77,
   "metadata": {},
   "outputs": [
    {
     "data": {
      "text/plain": [
       "['肖', '煙', '四', '起', '，', '為', '戰', '而', '來', '。']"
      ]
     },
     "execution_count": 77,
     "metadata": {},
     "output_type": "execute_result"
    }
   ],
   "source": [
    "XZ"
   ]
  },
  {
   "cell_type": "code",
   "execution_count": 79,
   "metadata": {},
   "outputs": [
    {
     "data": {
      "text/plain": [
       "['Y',\n",
       " 'L',\n",
       " 'i',\n",
       " ' ',\n",
       " 'i',\n",
       " 's',\n",
       " ' ',\n",
       " 's',\n",
       " 'o',\n",
       " ' ',\n",
       " 'h',\n",
       " 'a',\n",
       " 'n',\n",
       " 'd',\n",
       " 's',\n",
       " 'o',\n",
       " 'm',\n",
       " 'e',\n",
       " '.']"
      ]
     },
     "execution_count": 79,
     "metadata": {},
     "output_type": "execute_result"
    }
   ],
   "source": [
    "test = list('YLi is so handsome.')\n",
    "test"
   ]
  },
  {
   "cell_type": "code",
   "execution_count": 81,
   "metadata": {},
   "outputs": [
    {
     "data": {
      "text/plain": [
       "['Y',\n",
       " 'L',\n",
       " 'i',\n",
       " ' ',\n",
       " 'i',\n",
       " 's',\n",
       " ' ',\n",
       " 's',\n",
       " 'o',\n",
       " ' ',\n",
       " 'h',\n",
       " 'a',\n",
       " 'n',\n",
       " 'd',\n",
       " 's',\n",
       " 'o',\n",
       " 'm',\n",
       " 'e',\n",
       " '.',\n",
       " '好',\n",
       " '胖',\n",
       " '胖']"
      ]
     },
     "execution_count": 81,
     "metadata": {},
     "output_type": "execute_result"
    }
   ],
   "source": [
    "test1 = list('YLi is so handsome.好胖胖')\n",
    "test1"
   ]
  },
  {
   "cell_type": "code",
   "execution_count": 82,
   "metadata": {},
   "outputs": [
    {
     "data": {
      "text/plain": [
       "'四'"
      ]
     },
     "execution_count": 82,
     "metadata": {},
     "output_type": "execute_result"
    }
   ],
   "source": [
    "# 化為串列後各自擁有編號，從左邊開始編號0逐個遞增，從右邊開始編號-1逐個遞減。\n",
    "XZ[2]"
   ]
  },
  {
   "cell_type": "code",
   "execution_count": 83,
   "metadata": {},
   "outputs": [
    {
     "data": {
      "text/plain": [
       "'來'"
      ]
     },
     "execution_count": 83,
     "metadata": {},
     "output_type": "execute_result"
    }
   ],
   "source": [
    "XZ[-2]"
   ]
  },
  {
   "cell_type": "code",
   "execution_count": 84,
   "metadata": {},
   "outputs": [
    {
     "data": {
      "text/plain": [
       "['起', '，', '為']"
      ]
     },
     "execution_count": 84,
     "metadata": {},
     "output_type": "execute_result"
    }
   ],
   "source": [
    "# 指定範圍將範圍內的資料都顯示出來。\n",
    "XZ[3:6]"
   ]
  },
  {
   "cell_type": "code",
   "execution_count": 85,
   "metadata": {},
   "outputs": [
    {
     "data": {
      "text/plain": [
       "['，', '為', '戰', '而', '來', '。']"
      ]
     },
     "execution_count": 85,
     "metadata": {},
     "output_type": "execute_result"
    }
   ],
   "source": [
    "XZ[4:]"
   ]
  },
  {
   "cell_type": "code",
   "execution_count": 86,
   "metadata": {},
   "outputs": [
    {
     "data": {
      "text/plain": [
       "['肖', '煙', '四', '起', '，']"
      ]
     },
     "execution_count": 86,
     "metadata": {},
     "output_type": "execute_result"
    }
   ],
   "source": [
    "XZ[:5]"
   ]
  },
  {
   "cell_type": "code",
   "execution_count": 87,
   "metadata": {},
   "outputs": [
    {
     "data": {
      "text/plain": [
       "['肖', '煙', '四', '起']"
      ]
     },
     "execution_count": 87,
     "metadata": {},
     "output_type": "execute_result"
    }
   ],
   "source": [
    "XZ[:-6]"
   ]
  },
  {
   "cell_type": "code",
   "execution_count": 88,
   "metadata": {},
   "outputs": [
    {
     "data": {
      "text/plain": [
       "['肖', '煙', '四', '起', '，', '為', '戰', '而', '來', '。']"
      ]
     },
     "execution_count": 88,
     "metadata": {},
     "output_type": "execute_result"
    }
   ],
   "source": [
    "XZ[:]"
   ]
  },
  {
   "cell_type": "code",
   "execution_count": 92,
   "metadata": {},
   "outputs": [
    {
     "data": {
      "text/plain": [
       "['肖', '四', '，', '戰', '來']"
      ]
     },
     "execution_count": 92,
     "metadata": {},
     "output_type": "execute_result"
    }
   ],
   "source": [
    "XZ[::2]"
   ]
  },
  {
   "cell_type": "code",
   "execution_count": 89,
   "metadata": {},
   "outputs": [
    {
     "data": {
      "text/plain": [
       "'ABCDEFGHIJK'"
      ]
     },
     "execution_count": 89,
     "metadata": {},
     "output_type": "execute_result"
    }
   ],
   "source": [
    "# 串列跟字串真的也很像，對字元的編號方式一模一樣。\n",
    "ham"
   ]
  },
  {
   "cell_type": "code",
   "execution_count": 90,
   "metadata": {},
   "outputs": [
    {
     "data": {
      "text/plain": [
       "'ABCDE'"
      ]
     },
     "execution_count": 90,
     "metadata": {},
     "output_type": "execute_result"
    }
   ],
   "source": [
    "ham[:-6]"
   ]
  },
  {
   "cell_type": "code",
   "execution_count": 91,
   "metadata": {},
   "outputs": [
    {
     "data": {
      "text/plain": [
       "'ACEGIK'"
      ]
     },
     "execution_count": 91,
     "metadata": {},
     "output_type": "execute_result"
    }
   ],
   "source": [
    "# 不一定要連續，下方表示從頭到尾每兩個取一次。\n",
    "ham[::2]"
   ]
  },
  {
   "cell_type": "code",
   "execution_count": 93,
   "metadata": {},
   "outputs": [
    {
     "data": {
      "text/plain": [
       "'KJIHGFEDCBA'"
      ]
     },
     "execution_count": 93,
     "metadata": {},
     "output_type": "execute_result"
    }
   ],
   "source": [
    "# 「給定一個字串，產生一個新的字串，是原字串倒過來排列。」這個任務對Python而言輕輕鬆鬆。\n",
    "ham[::-1]"
   ]
  },
  {
   "cell_type": "code",
   "execution_count": 94,
   "metadata": {},
   "outputs": [
    {
     "data": {
      "text/plain": [
       "['。', '來', '而', '戰', '為', '，', '起', '四', '煙', '肖']"
      ]
     },
     "execution_count": 94,
     "metadata": {},
     "output_type": "execute_result"
    }
   ],
   "source": [
    "XZ[::-1]"
   ]
  },
  {
   "cell_type": "markdown",
   "metadata": {},
   "source": [
    "16"
   ]
  },
  {
   "cell_type": "code",
   "execution_count": 2,
   "metadata": {},
   "outputs": [],
   "source": [
    "# 計算商品的瑞士法郎價格轉台幣價格\n",
    "price = [3000, 2500, 100]\n",
    "c = 31.4862596 # 1法郎合台幣的匯率\n",
    "\n",
    "price_tw = []\n",
    "for p in price:\n",
    "    ptw = p * c\n",
    "    price_tw.append(ptw)"
   ]
  },
  {
   "cell_type": "code",
   "execution_count": 3,
   "metadata": {},
   "outputs": [
    {
     "data": {
      "text/plain": [
       "[94458.7788, 78715.649, 3148.62596]"
      ]
     },
     "execution_count": 3,
     "metadata": {},
     "output_type": "execute_result"
    }
   ],
   "source": [
    "price_tw"
   ]
  },
  {
   "cell_type": "markdown",
   "metadata": {},
   "source": [
    "#### 利用`split`將資料按照我們想要的分隔符號切割"
   ]
  },
  {
   "cell_type": "code",
   "execution_count": 4,
   "metadata": {},
   "outputs": [],
   "source": [
    "st = \"23,68,99\""
   ]
  },
  {
   "cell_type": "code",
   "execution_count": 5,
   "metadata": {},
   "outputs": [
    {
     "data": {
      "text/plain": [
       "['23', '68', '99']"
      ]
     },
     "execution_count": 5,
     "metadata": {},
     "output_type": "execute_result"
    }
   ],
   "source": [
    "st.split(',')"
   ]
  },
  {
   "cell_type": "code",
   "execution_count": 6,
   "metadata": {},
   "outputs": [],
   "source": [
    "st = \"23,68,99\"\n",
    "spam = st.split(',')\n",
    "egg = []\n",
    "\n",
    "for x in spam:\n",
    "    k = int(x)\n",
    "    egg.append(k)"
   ]
  },
  {
   "cell_type": "code",
   "execution_count": 7,
   "metadata": {},
   "outputs": [
    {
     "data": {
      "text/plain": [
       "[23, 68, 99]"
      ]
     },
     "execution_count": 7,
     "metadata": {},
     "output_type": "execute_result"
    }
   ],
   "source": [
    "egg"
   ]
  },
  {
   "cell_type": "code",
   "execution_count": 9,
   "metadata": {},
   "outputs": [],
   "source": [
    "ham = []\n",
    "\n",
    "for x in st.split(','):\n",
    "    ham.append(int(x))"
   ]
  },
  {
   "cell_type": "code",
   "execution_count": 10,
   "metadata": {},
   "outputs": [
    {
     "data": {
      "text/plain": [
       "[23, 68, 99]"
      ]
     },
     "execution_count": 10,
     "metadata": {},
     "output_type": "execute_result"
    }
   ],
   "source": [
    "ham"
   ]
  },
  {
   "cell_type": "code",
   "execution_count": 11,
   "metadata": {},
   "outputs": [
    {
     "name": "stdout",
     "output_type": "stream",
     "text": [
      "總和為 190\n"
     ]
    }
   ],
   "source": [
    "s = 0\n",
    "\n",
    "for k in egg:\n",
    "    s = s + k\n",
    "\n",
    "print(\"總和為\", s)"
   ]
  },
  {
   "cell_type": "code",
   "execution_count": 12,
   "metadata": {},
   "outputs": [
    {
     "data": {
      "text/plain": [
       "190"
      ]
     },
     "execution_count": 12,
     "metadata": {},
     "output_type": "execute_result"
    }
   ],
   "source": [
    "# 補充求總和的最快速作法\n",
    "sum(egg)"
   ]
  },
  {
   "cell_type": "code",
   "execution_count": 13,
   "metadata": {},
   "outputs": [
    {
     "data": {
      "text/plain": [
       "3"
      ]
     },
     "execution_count": 13,
     "metadata": {},
     "output_type": "execute_result"
    }
   ],
   "source": [
    "# 補充如何顯示串列或字串的長度\n",
    "len(egg)"
   ]
  },
  {
   "cell_type": "code",
   "execution_count": 25,
   "metadata": {},
   "outputs": [
    {
     "name": "stdout",
     "output_type": "stream",
     "text": [
      "請輸入一個正整數: 27\n",
      "[27, 82, 41, 124, 62, 31, 94, 47, 142, 71, 214, 107, 322, 161, 484, 242, 121, 364, 182, 91, 274, 137, 412, 206, 103, 310, 155, 466, 233, 700, 350, 175, 526, 263, 790, 395, 1186, 593, 1780, 890, 445, 1336, 668, 334, 167, 502, 251, 754, 377, 1132, 566, 283, 850, 425, 1276, 638, 319, 958, 479, 1438, 719, 2158, 1079, 3238, 1619, 4858, 2429, 7288, 3644, 1822, 911, 2734, 1367, 4102, 2051, 6154, 3077, 9232, 4616, 2308, 1154, 577, 1732, 866, 433, 1300, 650, 325, 976, 488, 244, 122, 61, 184, 92, 46, 23, 70, 35, 106, 53, 160, 80, 40, 20, 10, 5, 16, 8, 4, 2, 1]\n"
     ]
    },
    {
     "data": {
      "image/png": "[encoded data removed]",
      "text/plain": [
       "<Figure size 432x288 with 1 Axes>"
      ]
     },
     "metadata": {
      "needs_background": "light"
     },
     "output_type": "display_data"
    }
   ],
   "source": [
    "# 冰雹數列\n",
    "a = int(input(\"請輸入一個正整數: \"))\n",
    "ice = []\n",
    "ice.append(a)\n",
    "\n",
    "while a != 1:\n",
    "    if (a % 2) == 0:\n",
    "        a = int(a/2)\n",
    "        ice.append(a)\n",
    "    elif (a % 2) == 1:\n",
    "        a = int(3 *a + 1)\n",
    "        ice.append(a)\n",
    "print(ice)\n",
    "plt.plot(ice)\n",
    "plt.show()"
   ]
  },
  {
   "cell_type": "markdown",
   "metadata": {},
   "source": [
    "17"
   ]
  },
  {
   "cell_type": "code",
   "execution_count": 26,
   "metadata": {},
   "outputs": [
    {
     "data": {
      "text/plain": [
       "[1, 3, 5, 7, 9]"
      ]
     },
     "execution_count": 26,
     "metadata": {},
     "output_type": "execute_result"
    }
   ],
   "source": [
    "[2*k+1 for k in range(5)]"
   ]
  },
  {
   "cell_type": "code",
   "execution_count": 27,
   "metadata": {},
   "outputs": [],
   "source": [
    "price = [3000, 2500, 100]\n",
    "c = 31.4862596\n",
    "\n",
    "price_tw = [p*c for p in price]"
   ]
  },
  {
   "cell_type": "code",
   "execution_count": 28,
   "metadata": {},
   "outputs": [
    {
     "data": {
      "text/plain": [
       "[94458.7788, 78715.649, 3148.62596]"
      ]
     },
     "execution_count": 28,
     "metadata": {},
     "output_type": "execute_result"
    }
   ],
   "source": [
    "price_tw"
   ]
  },
  {
   "cell_type": "code",
   "execution_count": 30,
   "metadata": {},
   "outputs": [],
   "source": [
    "st = \"23,68,99\"\n",
    "egg = [int(x) for x in st.split(',')]"
   ]
  },
  {
   "cell_type": "code",
   "execution_count": 31,
   "metadata": {},
   "outputs": [
    {
     "data": {
      "text/plain": [
       "[23, 68, 99]"
      ]
     },
     "execution_count": 31,
     "metadata": {},
     "output_type": "execute_result"
    }
   ],
   "source": [
    "egg"
   ]
  },
  {
   "cell_type": "code",
   "execution_count": 32,
   "metadata": {},
   "outputs": [],
   "source": [
    "suit = list(\"♣♠♥♦\")\n",
    "rank = \"A,2,3,4,5,6,7,8,9,10,J,Q,K\".split(',')"
   ]
  },
  {
   "cell_type": "code",
   "execution_count": 33,
   "metadata": {},
   "outputs": [
    {
     "data": {
      "text/plain": [
       "['♣', '♠', '♥', '♦']"
      ]
     },
     "execution_count": 33,
     "metadata": {},
     "output_type": "execute_result"
    }
   ],
   "source": [
    "suit"
   ]
  },
  {
   "cell_type": "code",
   "execution_count": 34,
   "metadata": {},
   "outputs": [
    {
     "data": {
      "text/plain": [
       "['A', '2', '3', '4', '5', '6', '7', '8', '9', '10', 'J', 'Q', 'K']"
      ]
     },
     "execution_count": 34,
     "metadata": {},
     "output_type": "execute_result"
    }
   ],
   "source": [
    "rank"
   ]
  },
  {
   "cell_type": "code",
   "execution_count": 35,
   "metadata": {},
   "outputs": [],
   "source": [
    "card = [(s, r) for s in suit for r in rank]"
   ]
  },
  {
   "cell_type": "code",
   "execution_count": 36,
   "metadata": {},
   "outputs": [
    {
     "data": {
      "text/plain": [
       "[('♣', 'A'),\n",
       " ('♣', '2'),\n",
       " ('♣', '3'),\n",
       " ('♣', '4'),\n",
       " ('♣', '5'),\n",
       " ('♣', '6'),\n",
       " ('♣', '7'),\n",
       " ('♣', '8'),\n",
       " ('♣', '9'),\n",
       " ('♣', '10'),\n",
       " ('♣', 'J'),\n",
       " ('♣', 'Q'),\n",
       " ('♣', 'K'),\n",
       " ('♠', 'A'),\n",
       " ('♠', '2'),\n",
       " ('♠', '3'),\n",
       " ('♠', '4'),\n",
       " ('♠', '5'),\n",
       " ('♠', '6'),\n",
       " ('♠', '7'),\n",
       " ('♠', '8'),\n",
       " ('♠', '9'),\n",
       " ('♠', '10'),\n",
       " ('♠', 'J'),\n",
       " ('♠', 'Q'),\n",
       " ('♠', 'K'),\n",
       " ('♥', 'A'),\n",
       " ('♥', '2'),\n",
       " ('♥', '3'),\n",
       " ('♥', '4'),\n",
       " ('♥', '5'),\n",
       " ('♥', '6'),\n",
       " ('♥', '7'),\n",
       " ('♥', '8'),\n",
       " ('♥', '9'),\n",
       " ('♥', '10'),\n",
       " ('♥', 'J'),\n",
       " ('♥', 'Q'),\n",
       " ('♥', 'K'),\n",
       " ('♦', 'A'),\n",
       " ('♦', '2'),\n",
       " ('♦', '3'),\n",
       " ('♦', '4'),\n",
       " ('♦', '5'),\n",
       " ('♦', '6'),\n",
       " ('♦', '7'),\n",
       " ('♦', '8'),\n",
       " ('♦', '9'),\n",
       " ('♦', '10'),\n",
       " ('♦', 'J'),\n",
       " ('♦', 'Q'),\n",
       " ('♦', 'K')]"
      ]
     },
     "execution_count": 36,
     "metadata": {},
     "output_type": "execute_result"
    }
   ],
   "source": [
    "card"
   ]
  },
  {
   "cell_type": "code",
   "execution_count": null,
   "metadata": {},
   "outputs": [],
   "source": [
    "# 隨機抽取5張不重複的撲克牌"
   ]
  },
  {
   "cell_type": "markdown",
   "metadata": {},
   "source": [
    "#### 關於數據分析中常用到的資料結構：矩陣\n",
    "基本上就是個串列的串列，一列列蒐集起來。"
   ]
  },
  {
   "cell_type": "code",
   "execution_count": 95,
   "metadata": {},
   "outputs": [],
   "source": [
    "A = [[1, 2], [3, 4]]"
   ]
  },
  {
   "cell_type": "code",
   "execution_count": 96,
   "metadata": {},
   "outputs": [
    {
     "data": {
      "text/plain": [
       "[1, 2]"
      ]
     },
     "execution_count": 96,
     "metadata": {},
     "output_type": "execute_result"
    }
   ],
   "source": [
    "# Python是從第0列開始計算\n",
    "A[0]"
   ]
  },
  {
   "cell_type": "code",
   "execution_count": 99,
   "metadata": {},
   "outputs": [
    {
     "data": {
      "text/plain": [
       "2"
      ]
     },
     "execution_count": 99,
     "metadata": {},
     "output_type": "execute_result"
    }
   ],
   "source": [
    "# 列行式(以第一列第二行的元素為例)\n",
    "A[0][1]"
   ]
  },
  {
   "cell_type": "code",
   "execution_count": 101,
   "metadata": {},
   "outputs": [
    {
     "name": "stdout",
     "output_type": "stream",
     "text": [
      "請輸入一段文字: 喔喔哈哈\n",
      "可惜，這只是一段普通的文字。\n"
     ]
    }
   ],
   "source": [
    "# 判斷是否為回文\n",
    "message = input(\"請輸入一段文字: \")\n",
    "\n",
    "if message == message[::-1]:\n",
    "    print(\"太神奇啦~這是一個回文!\")\n",
    "else:\n",
    "    print(\"可惜，這只是一段普通的文字。\")"
   ]
  },
  {
   "cell_type": "markdown",
   "metadata": {},
   "source": [
    "### 14. 用串列控制for迴圈"
   ]
  },
  {
   "cell_type": "code",
   "execution_count": 102,
   "metadata": {},
   "outputs": [],
   "source": [
    "spam = ['豬', '狗', '牛']"
   ]
  },
  {
   "cell_type": "code",
   "execution_count": 103,
   "metadata": {},
   "outputs": [
    {
     "name": "stdout",
     "output_type": "stream",
     "text": [
      "豬\n",
      "狗\n",
      "牛\n"
     ]
    }
   ],
   "source": [
    "for i in spam:\n",
    "    print(i)"
   ]
  },
  {
   "cell_type": "code",
   "execution_count": 104,
   "metadata": {},
   "outputs": [
    {
     "name": "stdout",
     "output_type": "stream",
     "text": [
      "0\n",
      "1\n",
      "2\n",
      "3\n",
      "4\n"
     ]
    }
   ],
   "source": [
    "for i in range(5):\n",
    "    print(i) #預設是換行"
   ]
  },
  {
   "cell_type": "code",
   "execution_count": 107,
   "metadata": {},
   "outputs": [
    {
     "name": "stdout",
     "output_type": "stream",
     "text": [
      "0 1 2 3 4 5 6 7 8 9 "
     ]
    }
   ],
   "source": [
    "# 印在同一排\n",
    "for i in range(10):\n",
    "    print(i , end = ' ')"
   ]
  },
  {
   "cell_type": "code",
   "execution_count": 109,
   "metadata": {},
   "outputs": [
    {
     "name": "stdout",
     "output_type": "stream",
     "text": [
      "0123456789"
     ]
    }
   ],
   "source": [
    "for i in range(10):\n",
    "    print(i , end = '')"
   ]
  },
  {
   "cell_type": "code",
   "execution_count": 110,
   "metadata": {},
   "outputs": [
    {
     "name": "stdout",
     "output_type": "stream",
     "text": [
      "0, 1, 2, 3, 4, 5, 6, 7, 8, 9, "
     ]
    }
   ],
   "source": [
    "for i in range(10):\n",
    "    print(i , end = ', ') #多印一個end留待之後解決。"
   ]
  },
  {
   "cell_type": "code",
   "execution_count": 111,
   "metadata": {},
   "outputs": [
    {
     "name": "stdout",
     "output_type": "stream",
     "text": [
      "\n",
      "( ￣ 3￣)y▂ξ\n",
      "( ￣ 3￣)y▂ξ( ￣ 3￣)y▂ξ\n",
      "( ￣ 3￣)y▂ξ( ￣ 3￣)y▂ξ( ￣ 3￣)y▂ξ\n",
      "( ￣ 3￣)y▂ξ( ￣ 3￣)y▂ξ( ￣ 3￣)y▂ξ( ￣ 3￣)y▂ξ\n",
      "( ￣ 3￣)y▂ξ( ￣ 3￣)y▂ξ( ￣ 3￣)y▂ξ( ￣ 3￣)y▂ξ( ￣ 3￣)y▂ξ\n"
     ]
    }
   ],
   "source": [
    "face = \"( ￣ 3￣)y▂ξ\"\n",
    "\n",
    "for i in range(6):\n",
    "    print(face * i)"
   ]
  },
  {
   "cell_type": "code",
   "execution_count": 114,
   "metadata": {},
   "outputs": [
    {
     "name": "stdout",
     "output_type": "stream",
     "text": [
      "1 + 2 + ... + 100 =  5050\n"
     ]
    }
   ],
   "source": [
    "# 讓程式計算1加到100\n",
    "s = 0\n",
    "\n",
    "for i in range(1,101):\n",
    "    s = s + i\n",
    "    \n",
    "print('1 + 2 + ... + 100 = ', s)"
   ]
  },
  {
   "cell_type": "code",
   "execution_count": 115,
   "metadata": {},
   "outputs": [
    {
     "name": "stdout",
     "output_type": "stream",
     "text": [
      "1 + 2 + ... + 100 =  5050\n"
     ]
    }
   ],
   "source": [
    "s = 0\n",
    "\n",
    "for i in range(1,101):\n",
    "    s += i\n",
    "    \n",
    "print('1 + 2 + ... + 100 = ', s)"
   ]
  },
  {
   "cell_type": "code",
   "execution_count": 121,
   "metadata": {},
   "outputs": [
    {
     "name": "stdout",
     "output_type": "stream",
     "text": [
      "*\n",
      "***\n",
      "*****\n",
      "*******\n",
      "*********\n"
     ]
    }
   ],
   "source": [
    "#畫出一棵聖誕樹\n",
    "for i in range(1, 10, 2):\n",
    "    print('*' * i)"
   ]
  },
  {
   "cell_type": "code",
   "execution_count": 123,
   "metadata": {},
   "outputs": [
    {
     "name": "stdout",
     "output_type": "stream",
     "text": [
      "每個人應付 121 元\n"
     ]
    }
   ],
   "source": [
    "price = [100, 150, 120, 90, 145]\n",
    "\n",
    "s = 0\n",
    "for p in price:\n",
    "    s += p\n",
    "print(\"每個人應付\", int(s/len(price)), \"元\")"
   ]
  },
  {
   "cell_type": "code",
   "execution_count": 124,
   "metadata": {},
   "outputs": [
    {
     "name": "stdout",
     "output_type": "stream",
     "text": [
      "> 哈哈\n",
      "哈哈\n",
      "> 喔喔\n",
      "拍拍\n",
      "> 耶耶\n",
      "哈哈\n",
      "> 哈哈\n",
      "哈哈\n",
      "> 喔喔\n",
      "拍拍\n"
     ]
    }
   ],
   "source": [
    "reply = ['拍拍', '哈哈', '嗯嗯']\n",
    "for i in range(5):\n",
    "    message = input(\"> \")\n",
    "    n = np.random.randint(0, 2)\n",
    "    print(reply[n])"
   ]
  },
  {
   "cell_type": "markdown",
   "metadata": {},
   "source": [
    "### 15. 加入while迴圈，讓拍拍機器人等我說再見\n",
    "符合條件才執行的`while`迴圈。     \n",
    "cf. 連續執行的`for`迴圈。"
   ]
  },
  {
   "cell_type": "code",
   "execution_count": 125,
   "metadata": {},
   "outputs": [
    {
     "name": "stdout",
     "output_type": "stream",
     "text": [
      "◢▆▅▄崩╰(〒皿〒)╯潰▃▄▅▇◣\n",
      "◢▆▅▄崩╰(〒皿〒)╯潰▃▄▅▇◣◢▆▅▄崩╰(〒皿〒)╯潰▃▄▅▇◣\n",
      "◢▆▅▄崩╰(〒皿〒)╯潰▃▄▅▇◣◢▆▅▄崩╰(〒皿〒)╯潰▃▄▅▇◣◢▆▅▄崩╰(〒皿〒)╯潰▃▄▅▇◣\n",
      "◢▆▅▄崩╰(〒皿〒)╯潰▃▄▅▇◣◢▆▅▄崩╰(〒皿〒)╯潰▃▄▅▇◣◢▆▅▄崩╰(〒皿〒)╯潰▃▄▅▇◣◢▆▅▄崩╰(〒皿〒)╯潰▃▄▅▇◣\n",
      "◢▆▅▄崩╰(〒皿〒)╯潰▃▄▅▇◣◢▆▅▄崩╰(〒皿〒)╯潰▃▄▅▇◣◢▆▅▄崩╰(〒皿〒)╯潰▃▄▅▇◣◢▆▅▄崩╰(〒皿〒)╯潰▃▄▅▇◣◢▆▅▄崩╰(〒皿〒)╯潰▃▄▅▇◣\n"
     ]
    }
   ],
   "source": [
    "face = \"◢▆▅▄崩╰(〒皿〒)╯潰▃▄▅▇◣\"\n",
    "\n",
    "i = 1\n",
    "while i <= 5:\n",
    "    print(face * i)\n",
    "    i = i + 1"
   ]
  },
  {
   "cell_type": "code",
   "execution_count": 126,
   "metadata": {},
   "outputs": [
    {
     "name": "stdout",
     "output_type": "stream",
     "text": [
      "\n",
      "( ￣ 3￣)y▂ξ\n",
      "( ￣ 3￣)y▂ξ( ￣ 3￣)y▂ξ\n",
      "( ￣ 3￣)y▂ξ( ￣ 3￣)y▂ξ( ￣ 3￣)y▂ξ\n",
      "( ￣ 3￣)y▂ξ( ￣ 3￣)y▂ξ( ￣ 3￣)y▂ξ( ￣ 3￣)y▂ξ\n",
      "( ￣ 3￣)y▂ξ( ￣ 3￣)y▂ξ( ￣ 3￣)y▂ξ( ￣ 3￣)y▂ξ( ￣ 3￣)y▂ξ\n"
     ]
    }
   ],
   "source": [
    "face = \"( ￣ 3￣)y▂ξ\"\n",
    "\n",
    "for i in range(6):\n",
    "    print(face * i)"
   ]
  },
  {
   "cell_type": "code",
   "execution_count": 131,
   "metadata": {},
   "outputs": [
    {
     "name": "stdout",
     "output_type": "stream",
     "text": [
      "> cc\n",
      "哈哈\n",
      "> Bye\n",
      "Bye\n"
     ]
    }
   ],
   "source": [
    "# 拍拍機器人等我說Bye\n",
    "reply = ['拍拍', '哈哈', '嗯嗯']\n",
    "\n",
    "message = ''\n",
    "while message != 'Bye':\n",
    "    message = input(\"> \")\n",
    "    if message != 'Bye':\n",
    "        n = np.random.randint(0, 2)\n",
    "        print(reply[n])\n",
    "    elif message == 'Bye':\n",
    "        print('Bye')"
   ]
  },
  {
   "cell_type": "code",
   "execution_count": 45,
   "metadata": {},
   "outputs": [
    {
     "name": "stdout",
     "output_type": "stream",
     "text": [
      "請輸入剪刀、石頭或布，結束遊戲請輸入Bye: Bye\n",
      "Bye,歡迎下次再來玩!\n"
     ]
    }
   ],
   "source": [
    "# 跟電腦猜拳\n",
    "import numpy as np\n",
    "\n",
    "player = {'Bye':0, '剪刀':1, '石頭':2, '布':3}\n",
    "computer = {1:'剪刀', 2:'石頭', 3:'布'}\n",
    "win = [2, 1, -2]\n",
    "\n",
    "message = ''\n",
    "while message != 'Bye':\n",
    "    message = input(\"請輸入剪刀、石頭或布，結束遊戲請輸入Bye: \")\n",
    "    n = np.random.randint(1, 3)\n",
    "    p = player[message]\n",
    "    result = n - p\n",
    "    if message != 'Bye':\n",
    "        if result in win:\n",
    "            print(\"您出\", message, \"，電腦出\", computer[n])\n",
    "            print(\"您輸了Q_Q\")\n",
    "            print()\n",
    "        elif result == 0:\n",
    "            print(\"您出\", message, \"，電腦出\", computer[n])\n",
    "            print(\"平手!\")\n",
    "            print()\n",
    "        elif result == -1:\n",
    "            print(\"您出\", message, \"，電腦出\", computer[n])\n",
    "            print(\"您贏了，恭喜^皿^\")\n",
    "            print()\n",
    "    elif message == 'Bye':\n",
    "        print(\"Bye,歡迎下次再來玩!\")\n",
    "        \n",
    "# 輸入錯誤的時候，如果想顯示輸入錯誤該怎麼做"
   ]
  },
  {
   "cell_type": "code",
   "execution_count": 46,
   "metadata": {},
   "outputs": [
    {
     "name": "stdout",
     "output_type": "stream",
     "text": [
      "File `rock-paper-scissors.py` exists. Overwrite (y/[N])?  y\n",
      "The following commands were written to file `rock-paper-scissors.py`:\n",
      "# 跟電腦猜拳\n",
      "import numpy as np\n",
      "\n",
      "player = {'Bye':0, '剪刀':1, '石頭':2, '布':3}\n",
      "computer = {1:'剪刀', 2:'石頭', 3:'布'}\n",
      "win = [2, 1, -2]\n",
      "\n",
      "message = ''\n",
      "while message != 'Bye':\n",
      "    message = input(\"請輸入剪刀、石頭或布，結束遊戲請輸入Bye: \")\n",
      "    n = np.random.randint(1, 3)\n",
      "    p = player[message]\n",
      "    result = n - p\n",
      "    if message != 'Bye':\n",
      "        if result in win:\n",
      "            print(\"您出\", message, \"，電腦出\", computer[n])\n",
      "            print(\"您輸了Q_Q\")\n",
      "            print()\n",
      "        elif result == 0:\n",
      "            print(\"您出\", message, \"，電腦出\", computer[n])\n",
      "            print(\"平手!\")\n",
      "            print()\n",
      "        elif result == -1:\n",
      "            print(\"您出\", message, \"，電腦出\", computer[n])\n",
      "            print(\"您贏了，恭喜^皿^\")\n",
      "            print()\n",
      "    elif message == 'Bye':\n",
      "        print(\"Bye,歡迎下次再來玩!\")\n",
      "        \n",
      "# 輸入錯誤的時候，如果想顯示輸入錯誤該怎麼做\n"
     ]
    }
   ],
   "source": [
    "%save \"rock-paper-scissors.py\" 45"
   ]
  },
  {
   "cell_type": "code",
   "execution_count": null,
   "metadata": {},
   "outputs": [],
   "source": []
  }
 ],
 "metadata": {
  "kernelspec": {
   "display_name": "Python 3",
   "language": "python",
   "name": "python3"
  },
  "language_info": {
   "codemirror_mode": {
    "name": "ipython",
    "version": 3
   },
   "file_extension": ".py",
   "mimetype": "text/x-python",
   "name": "python",
   "nbconvert_exporter": "python",
   "pygments_lexer": "ipython3",
   "version": "3.7.6"
  }
 },
 "nbformat": 4,
 "nbformat_minor": 4
}
