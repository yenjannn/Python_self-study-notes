{
 "cells": [
  {
   "cell_type": "markdown",
   "metadata": {},
   "source": [
    "## 基礎篇I_用Markdown做美美的筆記"
   ]
  },
  {
   "cell_type": "code",
   "execution_count": 1,
   "metadata": {},
   "outputs": [],
   "source": [
    "# 我的夢幻鏡頭列表\n",
    "lenses = {'12-100mm f4':32927,\n",
    "          '300mm f4':78191,\n",
    "          '40-150mm f2.8':30581}\n",
    "\n",
    "# 字典的格式不管key或value都不一定要是字串，數字或其他資料型態也都可以！"
   ]
  },
  {
   "cell_type": "code",
   "execution_count": 2,
   "metadata": {},
   "outputs": [],
   "source": [
    "usd = 29.94 # 美金對台幣匯率\n",
    "jpy = 0.27 # 日圓對台幣匯率"
   ]
  },
  {
   "cell_type": "markdown",
   "metadata": {},
   "source": [
    "# 我們來學Markdown"
   ]
  },
  {
   "cell_type": "markdown",
   "metadata": {},
   "source": [
    "## 第二大的標題\n",
    "### 第三大的標題\n",
    "\n",
    "正常的內文"
   ]
  },
  {
   "cell_type": "markdown",
   "metadata": {},
   "source": [
    "### 進入Meta模式\n",
    "\n",
    "其實就是命令模式，可按ctrl+M或Esc進入，接著在按M切換成Markdown模式(按Y則切換成Code模式)"
   ]
  },
  {
   "cell_type": "markdown",
   "metadata": {},
   "source": [
    "我們要學以下幾個套件：\n",
    "\n",
    "* `matplotlib`\n",
    "* `numpy`\n",
    "* `pandas`\n",
    "* `scikit-learn`\n",
    "\n",
    "或是要標上編號~\n",
    "\n",
    "1. `matplotlib`\n",
    "2. `numpy`\n",
    "3. `pandas`\n",
    "4. `scikit-learn`"
   ]
  },
  {
   "cell_type": "markdown",
   "metadata": {},
   "source": [
    "### 做超連結\n",
    "\n",
    "[炎龍老師的Blog](https://yenlung.blog)\n",
    "\n",
    "\n",
    "[網頁名稱](網址)\n",
    "![圖片說明](檔名)\n",
    "注意：檔案需要與.ipynb檔相同資料夾。"
   ]
  },
  {
   "cell_type": "markdown",
   "metadata": {},
   "source": [
    "### 分享程式碼\n",
    "\n",
    "有兩種方法：\n",
    "1. 每行前面都加入幾個空格。\n",
    "\n",
    "        for i in range(10):\n",
    "            print(i)\n",
    "        \n",
    "2. 用三個倒斜線引號(`)，意思是括起來的段落，連同enter都要全照著我們指定的格式列出，也可以指定程式語言。\n",
    "\n",
    "```python\n",
    "for i in range(10):\n",
    "    print(i)\n",
    "```"
   ]
  },
  {
   "cell_type": "markdown",
   "metadata": {},
   "source": [
    "### 快速做表格\n",
    "\n",
    "一定要包含三個部分：標題列、分隔線、內容。\n",
    "\n",
    "魔術指令 | 功能\n",
    "--------|-----\n",
    "cd | 變換目前工作資料夾\n",
    "ls | 列出當前資料夾下的檔案\n",
    "save | 儲存檔案\n",
    "\n",
    "* 分隔線的---及空格數都不用自己對得很精確，只要方便自己閱讀即可。\n",
    "* 預設是靠右對齊，也可以用不同的分隔線控制某一欄要靠左、靠右或置中。\n",
    "    1. :---  靠左\n",
    "    2. :---: 置中\n",
    "    3. ---:  靠右\n",
    "\n",
    "魔術指令 | 功能\n",
    ":--------:|:-----\n",
    "cd | 變換目前工作資料夾\n",
    "ls | 列出當前資料夾下的檔案\n",
    "save | 儲存檔案"
   ]
  },
  {
   "cell_type": "markdown",
   "metadata": {},
   "source": [
    "### 輸入數學式子(支援LaTeX語法)\n",
    "\n",
    "有兩種方法：\n",
    "1. 隨文模式-在前後加上$字號\n",
    "\n",
    "設我們有函數 $f(x) = x^3 - 2x + 5$\n",
    "\n",
    "2. 特別強調(獨立一行置中)-在前後加上兩個$字號\n",
    "\n",
    "我們來算個積分: $$\\int_a^b f(x) \\, dx$$"
   ]
  },
  {
   "cell_type": "code",
   "execution_count": null,
   "metadata": {},
   "outputs": [],
   "source": []
  }
 ],
 "metadata": {
  "kernelspec": {
   "display_name": "Python 3",
   "language": "python",
   "name": "python3"
  },
  "language_info": {
   "codemirror_mode": {
    "name": "ipython",
    "version": 3
   },
   "file_extension": ".py",
   "mimetype": "text/x-python",
   "name": "python",
   "nbconvert_exporter": "python",
   "pygments_lexer": "ipython3",
   "version": "3.8.10"
  }
 },
 "nbformat": 4,
 "nbformat_minor": 4
}
