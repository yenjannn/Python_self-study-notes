{
 "cells": [
  {
   "cell_type": "markdown",
   "metadata": {},
   "source": [
    "## 數據篇I_進階技巧(map,filter,class,print,display,for,存檔,matplotlib顯示中文)"
   ]
  },
  {
   "cell_type": "code",
   "execution_count": 1,
   "metadata": {},
   "outputs": [],
   "source": [
    "%matplotlib inline\n",
    "\n",
    "import numpy as np\n",
    "import matplotlib.pyplot as plt"
   ]
  },
  {
   "cell_type": "markdown",
   "metadata": {},
   "source": [
    "### 21. `map`和`fliter`\n",
    "* `map(函式, 串列)`：可以一次將串列中所有的元素丟入函式運算，替代for迴圈。\n",
    "* `lambda 輸入:輸出`：快速定義函式。\n",
    "* `filter(函式, 串列)`：定義一個輸出為布林值(True/False)的函式，過濾出串列中符合所需條件的物件。"
   ]
  },
  {
   "cell_type": "code",
   "execution_count": 1,
   "metadata": {},
   "outputs": [],
   "source": [
    "# 匯率轉換函數\n",
    "\n",
    "c = 20.5408283\n",
    "\n",
    "def aud2twd(m):\n",
    "    return c*m"
   ]
  },
  {
   "cell_type": "code",
   "execution_count": 2,
   "metadata": {},
   "outputs": [
    {
     "data": {
      "text/plain": [
       "4108.165660000001"
      ]
     },
     "execution_count": 2,
     "metadata": {},
     "output_type": "execute_result"
    }
   ],
   "source": [
    "aud2twd(200)"
   ]
  },
  {
   "cell_type": "code",
   "execution_count": 3,
   "metadata": {},
   "outputs": [],
   "source": [
    "price_aud = [200, 450, 35]"
   ]
  },
  {
   "cell_type": "code",
   "execution_count": 8,
   "metadata": {},
   "outputs": [
    {
     "data": {
      "text/plain": [
       "<map at 0x19a10185d48>"
      ]
     },
     "execution_count": 8,
     "metadata": {},
     "output_type": "execute_result"
    }
   ],
   "source": [
    "map(aud2twd, price_aud)"
   ]
  },
  {
   "cell_type": "code",
   "execution_count": 6,
   "metadata": {},
   "outputs": [],
   "source": [
    "# 需要將map運算的結果作資料型態轉換\n",
    "price_twd = list(map(aud2twd, price_aud))"
   ]
  },
  {
   "cell_type": "code",
   "execution_count": 7,
   "metadata": {},
   "outputs": [
    {
     "data": {
      "text/plain": [
       "[4108.165660000001, 9243.372735, 718.9289905]"
      ]
     },
     "execution_count": 7,
     "metadata": {},
     "output_type": "execute_result"
    }
   ],
   "source": [
    "price_twd"
   ]
  },
  {
   "cell_type": "code",
   "execution_count": 10,
   "metadata": {},
   "outputs": [
    {
     "data": {
      "text/plain": [
       "[4108.165660000001, 9243.372735, 718.9289905]"
      ]
     },
     "execution_count": 10,
     "metadata": {},
     "output_type": "execute_result"
    }
   ],
   "source": [
    "# 利用lambda快速定義函式\n",
    "list(map(lambda m:c*m, price_aud))"
   ]
  },
  {
   "cell_type": "code",
   "execution_count": 11,
   "metadata": {},
   "outputs": [],
   "source": [
    "# 除了利用def寫函式，也可以利用lambda速寫\n",
    "egg = lambda m:c*m"
   ]
  },
  {
   "cell_type": "code",
   "execution_count": 12,
   "metadata": {},
   "outputs": [
    {
     "data": {
      "text/plain": [
       "2054.0828300000003"
      ]
     },
     "execution_count": 12,
     "metadata": {},
     "output_type": "execute_result"
    }
   ],
   "source": [
    "egg(100)"
   ]
  },
  {
   "cell_type": "code",
   "execution_count": 13,
   "metadata": {},
   "outputs": [
    {
     "data": {
      "text/plain": [
       "[1, 2, 3, 4, 5, 6, 7, 8, 9, 10, 11, 12, 13, 14, 15, 16, 17, 18, 19, 20]"
      ]
     },
     "execution_count": 13,
     "metadata": {},
     "output_type": "execute_result"
    }
   ],
   "source": [
    "# filter過濾串列取所需\n",
    "egg = list(range(1, 21))\n",
    "egg"
   ]
  },
  {
   "cell_type": "code",
   "execution_count": 14,
   "metadata": {},
   "outputs": [],
   "source": [
    "def isEven(n):\n",
    "    return n%2 == 0"
   ]
  },
  {
   "cell_type": "code",
   "execution_count": 15,
   "metadata": {},
   "outputs": [
    {
     "data": {
      "text/plain": [
       "True"
      ]
     },
     "execution_count": 15,
     "metadata": {},
     "output_type": "execute_result"
    }
   ],
   "source": [
    "isEven(94)"
   ]
  },
  {
   "cell_type": "code",
   "execution_count": 16,
   "metadata": {},
   "outputs": [
    {
     "data": {
      "text/plain": [
       "False"
      ]
     },
     "execution_count": 16,
     "metadata": {},
     "output_type": "execute_result"
    }
   ],
   "source": [
    "isEven(3)"
   ]
  },
  {
   "cell_type": "code",
   "execution_count": 17,
   "metadata": {},
   "outputs": [
    {
     "data": {
      "text/plain": [
       "<filter at 0x19a1030b688>"
      ]
     },
     "execution_count": 17,
     "metadata": {},
     "output_type": "execute_result"
    }
   ],
   "source": [
    "filter(isEven, egg)"
   ]
  },
  {
   "cell_type": "code",
   "execution_count": 18,
   "metadata": {},
   "outputs": [
    {
     "data": {
      "text/plain": [
       "[2, 4, 6, 8, 10, 12, 14, 16, 18, 20]"
      ]
     },
     "execution_count": 18,
     "metadata": {},
     "output_type": "execute_result"
    }
   ],
   "source": [
    "list(filter(isEven, egg))"
   ]
  },
  {
   "cell_type": "code",
   "execution_count": 19,
   "metadata": {},
   "outputs": [
    {
     "data": {
      "text/plain": [
       "[2, 4, 6, 8, 10, 12, 14, 16, 18, 20]"
      ]
     },
     "execution_count": 19,
     "metadata": {},
     "output_type": "execute_result"
    }
   ],
   "source": [
    "# 結合lambda快速定義函式\n",
    "list(filter(lambda n:n%2 == 0, egg))"
   ]
  },
  {
   "cell_type": "code",
   "execution_count": 20,
   "metadata": {},
   "outputs": [
    {
     "data": {
      "text/plain": [
       "[2, 4, 6, 8, 10, 12, 14, 16, 18, 20]"
      ]
     },
     "execution_count": 20,
     "metadata": {},
     "output_type": "execute_result"
    }
   ],
   "source": [
    "# 複習串列生成法，可以達到一樣的效果(條條大路通羅馬)\n",
    "[n for n in egg if n%2 == 0]"
   ]
  },
  {
   "cell_type": "markdown",
   "metadata": {},
   "source": [
    "#### 冒險旅程21"
   ]
  },
  {
   "cell_type": "code",
   "execution_count": 23,
   "metadata": {},
   "outputs": [],
   "source": [
    "ham = [1, 11, 111, 1111, 11111, 111111, 1111111, 11111111, 111111111, 1111111111, 11111111111, 111111111111, 1111111111111]"
   ]
  },
  {
   "cell_type": "code",
   "execution_count": 24,
   "metadata": {},
   "outputs": [
    {
     "data": {
      "text/plain": [
       "[1,\n",
       " 121,\n",
       " 12321,\n",
       " 1234321,\n",
       " 123454321,\n",
       " 12345654321,\n",
       " 1234567654321,\n",
       " 123456787654321,\n",
       " 12345678987654321,\n",
       " 1234567900987654321,\n",
       " 123456790120987654321,\n",
       " 12345679012320987654321,\n",
       " 1234567901234320987654321]"
      ]
     },
     "execution_count": 24,
     "metadata": {},
     "output_type": "execute_result"
    }
   ],
   "source": [
    "[k**2 for k in ham]"
   ]
  },
  {
   "cell_type": "code",
   "execution_count": 25,
   "metadata": {},
   "outputs": [],
   "source": [
    "# 透過價格條件篩出符合條件的商品\n",
    "spam = [1350, 2400, 800, 7980, 5000]\n",
    "spam_dict = {1350:'A', 2400:'B', 800:'C', 7980:'D', 5000:'E'}"
   ]
  },
  {
   "cell_type": "code",
   "execution_count": 30,
   "metadata": {},
   "outputs": [],
   "source": [
    "def canBuy(price):\n",
    "    return price <= 2000"
   ]
  },
  {
   "cell_type": "code",
   "execution_count": 31,
   "metadata": {},
   "outputs": [
    {
     "data": {
      "text/plain": [
       "[1350, 800]"
      ]
     },
     "execution_count": 31,
     "metadata": {},
     "output_type": "execute_result"
    }
   ],
   "source": [
    "list(filter(canBuy,spam))"
   ]
  },
  {
   "cell_type": "code",
   "execution_count": 32,
   "metadata": {},
   "outputs": [],
   "source": [
    "def findProduct(k):\n",
    "    return spam_dict[k]"
   ]
  },
  {
   "cell_type": "code",
   "execution_count": 33,
   "metadata": {},
   "outputs": [
    {
     "data": {
      "text/plain": [
       "['A', 'C']"
      ]
     },
     "execution_count": 33,
     "metadata": {},
     "output_type": "execute_result"
    }
   ],
   "source": [
    "list(map(findProduct, list(filter(canBuy,spam))))"
   ]
  },
  {
   "cell_type": "markdown",
   "metadata": {},
   "source": [
    "### 22. 打造自己的資料型態\n",
    "`class`：自訂資料型態(類別)。"
   ]
  },
  {
   "cell_type": "code",
   "execution_count": 36,
   "metadata": {},
   "outputs": [],
   "source": [
    "st = 'hello world'"
   ]
  },
  {
   "cell_type": "code",
   "execution_count": null,
   "metadata": {},
   "outputs": [],
   "source": [
    "st. # 按tab鍵可以看到字串這個類別中可用的methods"
   ]
  },
  {
   "cell_type": "code",
   "execution_count": 37,
   "metadata": {},
   "outputs": [],
   "source": [
    "class Card:\n",
    "    suit = 3\n",
    "    rank = 5  #隨便給定的methods預設值嗎?"
   ]
  },
  {
   "cell_type": "code",
   "execution_count": 38,
   "metadata": {},
   "outputs": [],
   "source": [
    "card01 = Card()"
   ]
  },
  {
   "cell_type": "code",
   "execution_count": 39,
   "metadata": {},
   "outputs": [],
   "source": [
    "# 紅心6\n",
    "card01.suit = 2\n",
    "card01.rank = 5"
   ]
  },
  {
   "cell_type": "code",
   "execution_count": 40,
   "metadata": {},
   "outputs": [
    {
     "data": {
      "text/plain": [
       "__main__.Card"
      ]
     },
     "execution_count": 40,
     "metadata": {},
     "output_type": "execute_result"
    }
   ],
   "source": [
    "type(card01)"
   ]
  },
  {
   "cell_type": "code",
   "execution_count": 42,
   "metadata": {},
   "outputs": [],
   "source": [
    "# 黑桃J\n",
    "card02 = Card()\n",
    "\n",
    "card01.suit = 3\n",
    "card01.rank = 10"
   ]
  },
  {
   "cell_type": "markdown",
   "metadata": {},
   "source": [
    "#### 利用`__init__`定義一個class的實例時會呼叫的函式\n",
    "由於上述方法過於繁瑣，為了能夠像這樣快速地義一張牌`card02 = Card(3, 10)`，可用特殊方法`__init__`。"
   ]
  },
  {
   "cell_type": "code",
   "execution_count": 43,
   "metadata": {},
   "outputs": [],
   "source": [
    "# 定義class時，一定要引用實例本身\n",
    "class Card:\n",
    "    def __init__(self, s, r):\n",
    "        self.suit = s\n",
    "        self.rank = r"
   ]
  },
  {
   "cell_type": "code",
   "execution_count": 44,
   "metadata": {},
   "outputs": [],
   "source": [
    "card01 = Card(2, 3)\n",
    "card02 = Card(3, 10)"
   ]
  },
  {
   "cell_type": "code",
   "execution_count": 45,
   "metadata": {},
   "outputs": [
    {
     "data": {
      "text/plain": [
       "2"
      ]
     },
     "execution_count": 45,
     "metadata": {},
     "output_type": "execute_result"
    }
   ],
   "source": [
    "card01.suit"
   ]
  },
  {
   "cell_type": "code",
   "execution_count": 46,
   "metadata": {},
   "outputs": [
    {
     "data": {
      "text/plain": [
       "3"
      ]
     },
     "execution_count": 46,
     "metadata": {},
     "output_type": "execute_result"
    }
   ],
   "source": [
    "card01.rank"
   ]
  },
  {
   "cell_type": "code",
   "execution_count": 50,
   "metadata": {},
   "outputs": [],
   "source": [
    "# 美化 show\n",
    "class Card:\n",
    "    SUITS = [\"♣\", \"♠\", \"♥\", \"♦\"]\n",
    "    RANKS = [\"A\",\"2\",\"3\",\"4\",\"5\",\"6\",\"7\",\"8\",\"9\",\"10\",\"J\",\"Q\",\"K\"]\n",
    "    \n",
    "    def __init__(self, s, r):\n",
    "        self.suit = s\n",
    "        self.rank = r\n",
    "    \n",
    "    def show(self):\n",
    "        print(self.SUITS[self.suit] + self.RANKS[self.rank])"
   ]
  },
  {
   "cell_type": "code",
   "execution_count": 51,
   "metadata": {},
   "outputs": [],
   "source": [
    "card01 = Card(2, 3)"
   ]
  },
  {
   "cell_type": "code",
   "execution_count": 52,
   "metadata": {},
   "outputs": [
    {
     "name": "stdout",
     "output_type": "stream",
     "text": [
      "♥4\n"
     ]
    }
   ],
   "source": [
    "card01.show()"
   ]
  },
  {
   "cell_type": "code",
   "execution_count": 53,
   "metadata": {},
   "outputs": [
    {
     "data": {
      "text/plain": [
       "<__main__.Card at 0x19a111c6cc8>"
      ]
     },
     "execution_count": 53,
     "metadata": {},
     "output_type": "execute_result"
    }
   ],
   "source": [
    "card01"
   ]
  },
  {
   "cell_type": "code",
   "execution_count": 54,
   "metadata": {},
   "outputs": [
    {
     "name": "stdout",
     "output_type": "stream",
     "text": [
      "<__main__.Card object at 0x0000019A111C6CC8>\n"
     ]
    }
   ],
   "source": [
    "print(card01)"
   ]
  },
  {
   "cell_type": "code",
   "execution_count": 58,
   "metadata": {},
   "outputs": [],
   "source": [
    "# 定義呈現方式 __repr__\n",
    "class Card:\n",
    "    SUITS = [\"♣\", \"♠\", \"♥\", \"♦\"]\n",
    "    RANKS = [\"A\",\"2\",\"3\",\"4\",\"5\",\"6\",\"7\",\"8\",\"9\",\"10\",\"J\",\"Q\",\"K\"]\n",
    "    \n",
    "    def __init__(self, s, r):\n",
    "        self.suit = s\n",
    "        self.rank = r\n",
    "    \n",
    "    def __repr__(self):\n",
    "        return self.SUITS[self.suit] + self.RANKS[self.rank]"
   ]
  },
  {
   "cell_type": "code",
   "execution_count": 59,
   "metadata": {},
   "outputs": [],
   "source": [
    "card01 = Card(2, 3)"
   ]
  },
  {
   "cell_type": "code",
   "execution_count": 60,
   "metadata": {},
   "outputs": [
    {
     "data": {
      "text/plain": [
       "♥4"
      ]
     },
     "execution_count": 60,
     "metadata": {},
     "output_type": "execute_result"
    }
   ],
   "source": [
    "card01"
   ]
  },
  {
   "cell_type": "code",
   "execution_count": 61,
   "metadata": {},
   "outputs": [
    {
     "name": "stdout",
     "output_type": "stream",
     "text": [
      "♥4\n"
     ]
    }
   ],
   "source": [
    "print(card01)"
   ]
  },
  {
   "cell_type": "markdown",
   "metadata": {},
   "source": [
    "### 23. `print`的進階操作"
   ]
  },
  {
   "cell_type": "code",
   "execution_count": 2,
   "metadata": {},
   "outputs": [
    {
     "name": "stdout",
     "output_type": "stream",
     "text": [
      "正確答案: 9487\n"
     ]
    }
   ],
   "source": [
    "egg = \"正確答案: \"\n",
    "ham = 9487\n",
    "\n",
    "# 同資料型態用'+'\n",
    "print(egg + str(ham))"
   ]
  },
  {
   "cell_type": "code",
   "execution_count": 3,
   "metadata": {},
   "outputs": [
    {
     "name": "stdout",
     "output_type": "stream",
     "text": [
      "正確答案:  9487\n"
     ]
    }
   ],
   "source": [
    "# 不同資料型態用','\n",
    "print(egg, ham)"
   ]
  },
  {
   "cell_type": "code",
   "execution_count": 4,
   "metadata": {},
   "outputs": [
    {
     "name": "stdout",
     "output_type": "stream",
     "text": [
      "0,1,2,3,4,5,6,7,8,9,"
     ]
    }
   ],
   "source": [
    "# 利用end指令將輸出都以指定符號分開並印在同一行\n",
    "# 但仍然會讓最後一項多一個指定符號\n",
    "for i in range(10):\n",
    "    print(i, end = ',')"
   ]
  },
  {
   "cell_type": "markdown",
   "metadata": {},
   "source": [
    "#### 利用字串專屬的`.join`指令，將指定的字串連結起來\n",
    "`指定符號.join(egg)`"
   ]
  },
  {
   "cell_type": "code",
   "execution_count": 5,
   "metadata": {},
   "outputs": [],
   "source": [
    "egg = [\"寫程式\", \"算數學\", \"練英文\"]"
   ]
  },
  {
   "cell_type": "code",
   "execution_count": 7,
   "metadata": {},
   "outputs": [
    {
     "data": {
      "text/plain": [
       "'寫程式,算數學,練英文'"
      ]
     },
     "execution_count": 7,
     "metadata": {},
     "output_type": "execute_result"
    }
   ],
   "source": [
    "\",\".join(egg)"
   ]
  },
  {
   "cell_type": "code",
   "execution_count": 9,
   "metadata": {},
   "outputs": [
    {
     "name": "stdout",
     "output_type": "stream",
     "text": [
      "寫程式,算數學,練英文\n"
     ]
    }
   ],
   "source": [
    "print(\",\".join(egg))"
   ]
  },
  {
   "cell_type": "code",
   "execution_count": 13,
   "metadata": {},
   "outputs": [
    {
     "ename": "TypeError",
     "evalue": "sequence item 0: expected str instance, int found",
     "output_type": "error",
     "traceback": [
      "\u001b[1;31m----------------------------------------------------------------------\u001b[0m",
      "\u001b[1;31mTypeError\u001b[0m                            Traceback (most recent call last)",
      "\u001b[1;32m<ipython-input-13-88a4aa95cb12>\u001b[0m in \u001b[0;36m<module>\u001b[1;34m\u001b[0m\n\u001b[1;32m----> 1\u001b[1;33m \u001b[0mprint\u001b[0m\u001b[1;33m(\u001b[0m\u001b[1;34m','\u001b[0m\u001b[1;33m.\u001b[0m\u001b[0mjoin\u001b[0m\u001b[1;33m(\u001b[0m\u001b[0mrange\u001b[0m\u001b[1;33m(\u001b[0m\u001b[1;36m10\u001b[0m\u001b[1;33m)\u001b[0m\u001b[1;33m)\u001b[0m\u001b[1;33m)\u001b[0m\u001b[1;33m\u001b[0m\u001b[1;33m\u001b[0m\u001b[0m\n\u001b[0m",
      "\u001b[1;31mTypeError\u001b[0m: sequence item 0: expected str instance, int found"
     ]
    }
   ],
   "source": [
    "print(','.join(range(10)))"
   ]
  },
  {
   "cell_type": "code",
   "execution_count": 12,
   "metadata": {},
   "outputs": [
    {
     "name": "stdout",
     "output_type": "stream",
     "text": [
      "0,1,2,3,4,5,6,7,8,9\n"
     ]
    }
   ],
   "source": [
    "print(','.join(map(str, range(10))))"
   ]
  },
  {
   "cell_type": "code",
   "execution_count": 14,
   "metadata": {},
   "outputs": [],
   "source": [
    "name = \"Jan\"\n",
    "age = 28"
   ]
  },
  {
   "cell_type": "code",
   "execution_count": 16,
   "metadata": {},
   "outputs": [
    {
     "name": "stdout",
     "output_type": "stream",
     "text": [
      "你好，我是Jan今年28歲。\n"
     ]
    }
   ],
   "source": [
    "print(\"你好，我是\" + name + \"今年\" + str(age) + \"歲。\")\n",
    "# 程式碼略顯複雜"
   ]
  },
  {
   "cell_type": "markdown",
   "metadata": {},
   "source": [
    "#### Python提供格式化字串的三種方式\n",
    "* 第一代老派方法：`%s`代表字串、`%d`代表整數、`%f`代表浮點數。\n",
    "* 第二代`format`法：直接用`{}`代替，不須標註資料型態。\n",
    "* 第三代全新`f-string`法：`{想放的變數}`。"
   ]
  },
  {
   "cell_type": "code",
   "execution_count": 17,
   "metadata": {},
   "outputs": [
    {
     "name": "stdout",
     "output_type": "stream",
     "text": [
      "你好，我是Jan，今年28歲。\n"
     ]
    }
   ],
   "source": [
    "# 第一代\n",
    "message = \"你好，我是%s，今年%d歲。\" %(name, age)\n",
    "print(message)"
   ]
  },
  {
   "cell_type": "code",
   "execution_count": 18,
   "metadata": {},
   "outputs": [
    {
     "name": "stdout",
     "output_type": "stream",
     "text": [
      "你好，我是Jan，今年28歲。\n"
     ]
    }
   ],
   "source": [
    "# 第二代\n",
    "message = \"你好，我是{}，今年{}歲。\".format(name, age)\n",
    "print(message)"
   ]
  },
  {
   "cell_type": "code",
   "execution_count": 21,
   "metadata": {},
   "outputs": [
    {
     "name": "stdout",
     "output_type": "stream",
     "text": [
      "你好，我是Jan，今年28歲，真的28歲！\n"
     ]
    }
   ],
   "source": [
    "# 第二代還可以透過編號呼叫變數\n",
    "message = \"你好，我是{0}，今年{1}歲，真的{1}歲！\".format(name, age)\n",
    "print(message)"
   ]
  },
  {
   "cell_type": "code",
   "execution_count": 20,
   "metadata": {},
   "outputs": [
    {
     "name": "stdout",
     "output_type": "stream",
     "text": [
      "你好，我是Jan，今年28歲。\n"
     ]
    }
   ],
   "source": [
    "# 第三代\n",
    "message = f\"你好，我是{name}，今年{age}歲。\"\n",
    "print(message)"
   ]
  },
  {
   "cell_type": "code",
   "execution_count": 24,
   "metadata": {},
   "outputs": [
    {
     "name": "stdout",
     "output_type": "stream",
     "text": [
      "1美元合台幣30.0327357元。\n"
     ]
    }
   ],
   "source": [
    "# 第三代衍生\n",
    "c = 30.0327357\n",
    "print(f\"1美元合台幣{c}元。\")"
   ]
  },
  {
   "cell_type": "code",
   "execution_count": 28,
   "metadata": {},
   "outputs": [
    {
     "name": "stdout",
     "output_type": "stream",
     "text": [
      "1美元合台幣30.03元。\n"
     ]
    }
   ],
   "source": [
    "print(f\"1美元合台幣{c:.2f}元。\")"
   ]
  },
  {
   "cell_type": "code",
   "execution_count": 29,
   "metadata": {},
   "outputs": [
    {
     "name": "stdout",
     "output_type": "stream",
     "text": [
      "1美元合台幣30.033元。\n"
     ]
    }
   ],
   "source": [
    "# 會自動四捨五入\n",
    "print(f\"1美元合台幣{c:.3f}元。\")"
   ]
  },
  {
   "cell_type": "markdown",
   "metadata": {},
   "source": [
    "#### 浮點數的修飾語法\n",
    "`{變數:(含小數點)共m格.到小數點後n位}`        \n",
    "除了可以控制顯示的字元數(缺項空白)，也可以控制靠左或靠右對齊。"
   ]
  },
  {
   "cell_type": "code",
   "execution_count": 30,
   "metadata": {},
   "outputs": [
    {
     "name": "stdout",
     "output_type": "stream",
     "text": [
      "1美元合台幣     30.03元。\n"
     ]
    }
   ],
   "source": [
    "print(f\"1美元合台幣{c:10.2f}元。\")"
   ]
  },
  {
   "cell_type": "code",
   "execution_count": 32,
   "metadata": {},
   "outputs": [
    {
     "name": "stdout",
     "output_type": "stream",
     "text": [
      "*        ⊞\n"
     ]
    }
   ],
   "source": [
    "print(f\"{star:9s}⊞\")"
   ]
  },
  {
   "cell_type": "code",
   "execution_count": 31,
   "metadata": {},
   "outputs": [
    {
     "name": "stdout",
     "output_type": "stream",
     "text": [
      "        *⊞\n"
     ]
    }
   ],
   "source": [
    "# 靠右對齊\n",
    "star = \"*\"\n",
    "print(f\"{star:>9s}⊞\")"
   ]
  },
  {
   "cell_type": "code",
   "execution_count": 33,
   "metadata": {},
   "outputs": [
    {
     "name": "stdout",
     "output_type": "stream",
     "text": [
      "*        ⊞\n"
     ]
    }
   ],
   "source": [
    "# 靠左對齊\n",
    "print(f\"{star:<9s}⊞\")"
   ]
  },
  {
   "cell_type": "code",
   "execution_count": 34,
   "metadata": {},
   "outputs": [
    {
     "name": "stdout",
     "output_type": "stream",
     "text": [
      "    *    ⊞\n"
     ]
    }
   ],
   "source": [
    "# 置中\n",
    "print(f\"{star:^9s}⊞\")"
   ]
  },
  {
   "cell_type": "code",
   "execution_count": 35,
   "metadata": {},
   "outputs": [
    {
     "name": "stdout",
     "output_type": "stream",
     "text": [
      "........*⊞\n"
     ]
    }
   ],
   "source": [
    "# 用指定符號填滿空格，並靠右對齊\n",
    "print(f\"{star:.>9s}⊞\")"
   ]
  },
  {
   "cell_type": "code",
   "execution_count": 36,
   "metadata": {},
   "outputs": [
    {
     "name": "stdout",
     "output_type": "stream",
     "text": [
      "日期是03月08日。\n"
     ]
    }
   ],
   "source": [
    "m = 3\n",
    "d = 8\n",
    "\n",
    "print(f\"日期是{m:0>2d}月{d:0>2d}日。\")"
   ]
  },
  {
   "cell_type": "code",
   "execution_count": 39,
   "metadata": {},
   "outputs": [
    {
     "name": "stdout",
     "output_type": "stream",
     "text": [
      "日期是03月08日。\n"
     ]
    }
   ],
   "source": [
    "# 由於捕0太常見，故有內建功能.zfill\n",
    "print(\"日期是\" + str(m).zfill(2) + \"月\" + str(d).zfill(2) + \"日。\")"
   ]
  },
  {
   "cell_type": "code",
   "execution_count": 40,
   "metadata": {},
   "outputs": [
    {
     "name": "stdout",
     "output_type": "stream",
     "text": [
      "      *      \n",
      "     ***     \n",
      "    *****    \n",
      "   *******   \n",
      "  *********  \n",
      " *********** \n",
      "*************\n"
     ]
    }
   ],
   "source": [
    "# 之前的聖誕樹作業\n",
    "for i in range(1, 14, 2):\n",
    "    stars = \"*\" * i\n",
    "    print(f\"{stars:^13s}\")"
   ]
  },
  {
   "cell_type": "markdown",
   "metadata": {},
   "source": [
    "#### 冒險旅程23"
   ]
  },
  {
   "cell_type": "code",
   "execution_count": 47,
   "metadata": {},
   "outputs": [],
   "source": [
    "num = list(range(10))"
   ]
  },
  {
   "cell_type": "code",
   "execution_count": 48,
   "metadata": {},
   "outputs": [
    {
     "data": {
      "text/plain": [
       "[0, 1, 2, 3, 4, 5, 6, 7, 8, 9]"
      ]
     },
     "execution_count": 48,
     "metadata": {},
     "output_type": "execute_result"
    }
   ],
   "source": [
    "num"
   ]
  },
  {
   "cell_type": "code",
   "execution_count": 63,
   "metadata": {},
   "outputs": [
    {
     "data": {
      "text/plain": [
       "[7, 5, 1, 6]"
      ]
     },
     "execution_count": 63,
     "metadata": {},
     "output_type": "execute_result"
    }
   ],
   "source": [
    "list(np.random.choice(num, 4, replace = False))"
   ]
  },
  {
   "cell_type": "code",
   "execution_count": null,
   "metadata": {},
   "outputs": [],
   "source": []
  },
  {
   "cell_type": "code",
   "execution_count": null,
   "metadata": {},
   "outputs": [],
   "source": []
  },
  {
   "cell_type": "code",
   "execution_count": null,
   "metadata": {},
   "outputs": [],
   "source": []
  },
  {
   "cell_type": "markdown",
   "metadata": {},
   "source": [
    "### 24. 會寫詩的文青機器人"
   ]
  },
  {
   "cell_type": "code",
   "execution_count": 41,
   "metadata": {},
   "outputs": [],
   "source": [
    "rawdata = '''我\n",
    "我的\n",
    "眼睛\n",
    "你\n",
    "你的\n",
    "心\n",
    "溫柔\n",
    "日子\n",
    "雨\n",
    "風\n",
    "天空\n",
    "雲\n",
    "等待\n",
    "哭泣\n",
    "戀愛\n",
    "相遇\n",
    "分離\n",
    "忘記\n",
    "心碎\n",
    "驀然\n",
    "吹過\n",
    "思念\n",
    "靈魂\n",
    "停止'''"
   ]
  },
  {
   "cell_type": "code",
   "execution_count": 42,
   "metadata": {},
   "outputs": [],
   "source": [
    "words = rawdata.split('\\n')"
   ]
  },
  {
   "cell_type": "code",
   "execution_count": 43,
   "metadata": {},
   "outputs": [
    {
     "data": {
      "text/plain": [
       "['我',\n",
       " '我的',\n",
       " '眼睛',\n",
       " '你',\n",
       " '你的',\n",
       " '心',\n",
       " '溫柔',\n",
       " '日子',\n",
       " '雨',\n",
       " '風',\n",
       " '天空',\n",
       " '雲',\n",
       " '等待',\n",
       " '哭泣',\n",
       " '戀愛',\n",
       " '相遇',\n",
       " '分離',\n",
       " '忘記',\n",
       " '心碎',\n",
       " '驀然',\n",
       " '吹過',\n",
       " '思念',\n",
       " '靈魂',\n",
       " '停止']"
      ]
     },
     "execution_count": 43,
     "metadata": {},
     "output_type": "execute_result"
    }
   ],
   "source": [
    "words"
   ]
  },
  {
   "cell_type": "markdown",
   "metadata": {},
   "source": [
    "`np.random.choice(串列, 選取m個, replace = False(不可重複)/True(可重複，也可省略不打))`"
   ]
  },
  {
   "cell_type": "code",
   "execution_count": 45,
   "metadata": {},
   "outputs": [
    {
     "data": {
      "text/plain": [
       "array(['天空', '風', '眼睛', '你的', '哭泣'], dtype='<U2')"
      ]
     },
     "execution_count": 45,
     "metadata": {},
     "output_type": "execute_result"
    }
   ],
   "source": [
    "np.random.choice(words, 5, replace = False) # replace = False代表不可重複，如可重複就省略或改成True"
   ]
  },
  {
   "cell_type": "code",
   "execution_count": 56,
   "metadata": {},
   "outputs": [
    {
     "data": {
      "text/plain": [
       "'哭泣 眼睛 驀然 相遇 日子'"
      ]
     },
     "execution_count": 56,
     "metadata": {},
     "output_type": "execute_result"
    }
   ],
   "source": [
    "' '.join(np.random.choice(words, 5, replace = False))"
   ]
  },
  {
   "cell_type": "code",
   "execution_count": 64,
   "metadata": {},
   "outputs": [
    {
     "name": "stdout",
     "output_type": "stream",
     "text": [
      "戀愛 心 風\n",
      "哭泣 驀然 我的 吹過\n",
      "忘記 天空\n",
      "吹過 雲\n"
     ]
    }
   ],
   "source": [
    "n = np.random.randint(2, 8) # 2-7句，決定有幾句\n",
    "\n",
    "for i in range(n):\n",
    "    m = np.random.randint(1, 6) #決定每句長度\n",
    "    sentence = np.random.choice(words, m, replace = False)\n",
    "    print(\" \".join(sentence))"
   ]
  },
  {
   "cell_type": "code",
   "execution_count": 69,
   "metadata": {},
   "outputs": [],
   "source": [
    "import numpy as np"
   ]
  },
  {
   "cell_type": "code",
   "execution_count": 66,
   "metadata": {},
   "outputs": [],
   "source": [
    "def poem():\n",
    "    n = np.random.randint(2, 8) # 2-7句，決定有幾句\n",
    "\n",
    "    for i in range(n):\n",
    "        m = np.random.randint(1, 6) #決定每句長度\n",
    "        sentence = np.random.choice(words, m, replace = False)\n",
    "        print(\" \".join(sentence))"
   ]
  },
  {
   "cell_type": "code",
   "execution_count": 67,
   "metadata": {},
   "outputs": [
    {
     "name": "stdout",
     "output_type": "stream",
     "text": [
      "忘記 我\n",
      "眼睛 天空 靈魂 溫柔\n",
      "我的 戀愛 天空 日子 雲\n",
      "眼睛 驀然 日子\n",
      "靈魂 你的\n",
      "雲 日子\n",
      "溫柔\n"
     ]
    }
   ],
   "source": [
    "poem()"
   ]
  },
  {
   "cell_type": "code",
   "execution_count": 72,
   "metadata": {},
   "outputs": [
    {
     "name": "stdout",
     "output_type": "stream",
     "text": [
      "File `poem.py` exists. Overwrite (y/[N])?  y\n",
      "The following commands were written to file `poem.py`:\n",
      "rawdata = '''我\n",
      "我的\n",
      "眼睛\n",
      "你\n",
      "你的\n",
      "心\n",
      "溫柔\n",
      "日子\n",
      "雨\n",
      "風\n",
      "天空\n",
      "雲\n",
      "等待\n",
      "哭泣\n",
      "戀愛\n",
      "相遇\n",
      "分離\n",
      "忘記\n",
      "心碎\n",
      "驀然\n",
      "吹過\n",
      "思念\n",
      "靈魂\n",
      "停止'''\n",
      "words = rawdata.split('\\n')\n",
      "import numpy as np\n",
      "def poem():\n",
      "    n = np.random.randint(2, 8) # 2-7句，決定有幾句\n",
      "\n",
      "    for i in range(n):\n",
      "        m = np.random.randint(1, 6) #決定每句長度\n",
      "        sentence = np.random.choice(words, m, replace = False)\n",
      "        print(\" \".join(sentence))\n",
      "poem()\n"
     ]
    }
   ],
   "source": [
    "%save \"poem.py\" 41-42 69 66 67"
   ]
  },
  {
   "cell_type": "markdown",
   "metadata": {},
   "source": [
    "### 25. 漂亮`display`所有物件"
   ]
  },
  {
   "cell_type": "code",
   "execution_count": 73,
   "metadata": {},
   "outputs": [],
   "source": [
    "from IPython.display import display"
   ]
  },
  {
   "cell_type": "code",
   "execution_count": 74,
   "metadata": {},
   "outputs": [
    {
     "data": {
      "text/plain": [
       "'瑞斯尼克4P教育理論'"
      ]
     },
     "metadata": {},
     "output_type": "display_data"
    }
   ],
   "source": [
    "ham = \"瑞斯尼克4P教育理論\"\n",
    "display(ham)"
   ]
  },
  {
   "cell_type": "code",
   "execution_count": 75,
   "metadata": {},
   "outputs": [
    {
     "data": {
      "text/plain": [
       "['專案', '熱情', '社群', '玩心']"
      ]
     },
     "metadata": {},
     "output_type": "display_data"
    }
   ],
   "source": [
    "egg = ['專案', '熱情', '社群', '玩心']\n",
    "display(egg)"
   ]
  },
  {
   "cell_type": "code",
   "execution_count": 76,
   "metadata": {},
   "outputs": [],
   "source": [
    "from IPython.display import HTML, Markdown, Image, YouTubeVideo"
   ]
  },
  {
   "cell_type": "code",
   "execution_count": 77,
   "metadata": {},
   "outputs": [],
   "source": [
    "egg = r\"## 你好！\""
   ]
  },
  {
   "cell_type": "code",
   "execution_count": 78,
   "metadata": {},
   "outputs": [],
   "source": [
    "# 需要宣告前面的字串是屬於哪一個語法\n",
    "pancake = Markdown(egg)"
   ]
  },
  {
   "cell_type": "code",
   "execution_count": 79,
   "metadata": {},
   "outputs": [
    {
     "data": {
      "text/markdown": [
       "## 你好！"
      ],
      "text/plain": [
       "<IPython.core.display.Markdown object>"
      ]
     },
     "metadata": {},
     "output_type": "display_data"
    }
   ],
   "source": [
    "display(pancake)"
   ]
  },
  {
   "cell_type": "code",
   "execution_count": 83,
   "metadata": {},
   "outputs": [
    {
     "name": "stdout",
     "output_type": "stream",
     "text": [
      "請問 1 加 1 等於多少？2\n"
     ]
    },
    {
     "data": {
      "text/markdown": [
       "## 太神了！你真是天才！"
      ],
      "text/plain": [
       "<IPython.core.display.Markdown object>"
      ]
     },
     "metadata": {},
     "output_type": "display_data"
    }
   ],
   "source": [
    "ans = input(\"請問 1 加 1 等於多少？\")\n",
    "display(Markdown(r\"## 太神了！你真是天才！\"))"
   ]
  },
  {
   "cell_type": "code",
   "execution_count": 82,
   "metadata": {},
   "outputs": [
    {
     "name": "stdout",
     "output_type": "stream",
     "text": [
      "請問 1 加 1 等於多少？3\n"
     ]
    },
    {
     "data": {
      "text/markdown": [
       "## 喔喔！猜錯了！"
      ],
      "text/plain": [
       "<IPython.core.display.Markdown object>"
      ]
     },
     "metadata": {},
     "output_type": "display_data"
    }
   ],
   "source": [
    "ans = input(\"請問 1 加 1 等於多少？\")\n",
    "if int(ans) == 2:\n",
    "    display(Markdown(r\"## 太神了！你真是天才！\"))\n",
    "else:\n",
    "    display(Markdown(r\"## 喔喔！猜錯了！\"))"
   ]
  },
  {
   "cell_type": "code",
   "execution_count": 84,
   "metadata": {},
   "outputs": [
    {
     "data": {
      "text/markdown": [
       "請把下列這個多項式\n",
       "## $$f(x) = x^2 -1$$\n",
       "做因式分解。\n"
      ],
      "text/plain": [
       "<IPython.core.display.Markdown object>"
      ]
     },
     "metadata": {},
     "output_type": "display_data"
    },
    {
     "name": "stdout",
     "output_type": "stream",
     "text": [
      "\n"
     ]
    },
    {
     "data": {
      "text/markdown": [
       "答案是: $(x-1)(x+1)$"
      ],
      "text/plain": [
       "<IPython.core.display.Markdown object>"
      ]
     },
     "metadata": {},
     "output_type": "display_data"
    }
   ],
   "source": [
    "egg = r'''請把下列這個多項式\n",
    "## $$f(x) = x^2 -1$$\n",
    "做因式分解。\n",
    "'''\n",
    "\n",
    "problem = Markdown(egg)\n",
    "display(problem)\n",
    "\n",
    "useless = input()\n",
    "\n",
    "ans = Markdown(r\"答案是: $(x-1)(x+1)$\")\n",
    "display(ans)"
   ]
  },
  {
   "cell_type": "code",
   "execution_count": 87,
   "metadata": {},
   "outputs": [
    {
     "data": {
      "image/jpeg": "[encoded data removed]",
      "text/plain": [
       "<IPython.core.display.Image object>"
      ]
     },
     "metadata": {},
     "output_type": "display_data"
    }
   ],
   "source": [
    "rabbit = Image('HDYVoKa.jpg')\n",
    "display(rabbit)"
   ]
  },
  {
   "cell_type": "code",
   "execution_count": 88,
   "metadata": {},
   "outputs": [
    {
     "data": {
      "image/jpeg": "[encoded data removed]",
      "text/html": [
       "\n",
       "        <iframe\n",
       "            width=\"400\"\n",
       "            height=\"300\"\n",
       "            src=\"https://www.youtube.com/embed/pWqncp-fgSQ\"\n",
       "            frameborder=\"0\"\n",
       "            allowfullscreen\n",
       "        ></iframe>\n",
       "        "
      ],
      "text/plain": [
       "<IPython.lib.display.YouTubeVideo at 0x2413cb83148>"
      ]
     },
     "metadata": {},
     "output_type": "display_data"
    }
   ],
   "source": [
    "Jan = YouTubeVideo('pWqncp-fgSQ')\n",
    "display(Jan)"
   ]
  },
  {
   "cell_type": "code",
   "execution_count": 89,
   "metadata": {},
   "outputs": [
    {
     "data": {
      "text/html": [
       "<h2>你好！</2>"
      ],
      "text/plain": [
       "<IPython.core.display.HTML object>"
      ]
     },
     "metadata": {},
     "output_type": "display_data"
    }
   ],
   "source": [
    "egg = r\"<h2>你好！</2>\"\n",
    "pancake = HTML(egg)\n",
    "display(pancake)"
   ]
  },
  {
   "cell_type": "code",
   "execution_count": 90,
   "metadata": {},
   "outputs": [
    {
     "data": {
      "text/html": [
       "<h2 style ='color:red;'>你好！</h2>"
      ],
      "text/plain": [
       "<IPython.core.display.HTML object>"
      ]
     },
     "metadata": {},
     "output_type": "display_data"
    }
   ],
   "source": [
    "egg = r\"<h2 style ='color:red;'>你好！</h2>\"\n",
    "display(HTML(egg))"
   ]
  },
  {
   "cell_type": "markdown",
   "metadata": {},
   "source": [
    "HTML及CSS語法學習資源：[W3Schools](http://www.w3schools.com/)"
   ]
  },
  {
   "cell_type": "code",
   "execution_count": 91,
   "metadata": {},
   "outputs": [],
   "source": [
    "from time import sleep\n",
    "from IPython.display import clear_output"
   ]
  },
  {
   "cell_type": "code",
   "execution_count": 93,
   "metadata": {},
   "outputs": [
    {
     "data": {
      "text/html": [
       "&nbsp&nbsp&nbsp&nbsp&nbsp&nbsp&nbsp&nbsp&nbsp&nbsp&nbsp&nbsp&nbsp&nbsp&nbsp&nbsp&nbsp&nbsp&nbsp&nbsp&nbsp&nbsp&nbsp&nbsp&nbsp&nbsp&nbsp&nbsp&nbsp&nbsp&nbsp&nbsp&nbsp&nbsp&nbsp&nbsp&nbsp&nbsp&nbsp<img src = \"rabbit.png\" style = \"display:inline;\"/>"
      ],
      "text/plain": [
       "<IPython.core.display.HTML object>"
      ]
     },
     "metadata": {},
     "output_type": "display_data"
    }
   ],
   "source": [
    "sp = r'&nbsp'\n",
    "rabbit = r'<img src = \"rabbit.png\" style = \"display:inline;\"/>'\n",
    "for i in range(1,40):\n",
    "    egg = sp*i + rabbit\n",
    "    clear_output()\n",
    "    display(HTML(egg))\n",
    "    sleep(0.5)"
   ]
  },
  {
   "cell_type": "markdown",
   "metadata": {},
   "source": [
    "#### 冒險旅程25"
   ]
  },
  {
   "cell_type": "code",
   "execution_count": null,
   "metadata": {},
   "outputs": [],
   "source": []
  },
  {
   "cell_type": "code",
   "execution_count": null,
   "metadata": {},
   "outputs": [],
   "source": []
  },
  {
   "cell_type": "code",
   "execution_count": null,
   "metadata": {},
   "outputs": [],
   "source": []
  },
  {
   "cell_type": "code",
   "execution_count": null,
   "metadata": {},
   "outputs": [],
   "source": []
  },
  {
   "cell_type": "code",
   "execution_count": null,
   "metadata": {},
   "outputs": [],
   "source": []
  },
  {
   "cell_type": "markdown",
   "metadata": {},
   "source": [
    "### 26.`for`迴圈的進階技巧"
   ]
  },
  {
   "cell_type": "code",
   "execution_count": 94,
   "metadata": {},
   "outputs": [
    {
     "name": "stdout",
     "output_type": "stream",
     "text": [
      "a\n",
      "b\n",
      "c\n"
     ]
    }
   ],
   "source": [
    "egg = ['a', 'b', 'c']\n",
    "\n",
    "for item in egg:\n",
    "    print(item)"
   ]
  },
  {
   "cell_type": "code",
   "execution_count": 95,
   "metadata": {},
   "outputs": [
    {
     "name": "stdout",
     "output_type": "stream",
     "text": [
      "編號0的元素是a。\n",
      "編號1的元素是b。\n",
      "編號2的元素是c。\n"
     ]
    }
   ],
   "source": [
    "for i in range(3):\n",
    "    print(f\"編號{i}的元素是{egg[i]}。\")"
   ]
  },
  {
   "cell_type": "markdown",
   "metadata": {},
   "source": [
    "`enumerate()`：幫我找元素編號，資料型態是串列的元組(tuple)。"
   ]
  },
  {
   "cell_type": "code",
   "execution_count": 96,
   "metadata": {},
   "outputs": [
    {
     "data": {
      "text/plain": [
       "[(0, 'a'), (1, 'b'), (2, 'c')]"
      ]
     },
     "execution_count": 96,
     "metadata": {},
     "output_type": "execute_result"
    }
   ],
   "source": [
    "list(enumerate(egg))"
   ]
  },
  {
   "cell_type": "code",
   "execution_count": 97,
   "metadata": {},
   "outputs": [
    {
     "name": "stdout",
     "output_type": "stream",
     "text": [
      "(0, 'a')\n",
      "(1, 'b')\n",
      "(2, 'c')\n"
     ]
    }
   ],
   "source": [
    "for pack in enumerate(egg):\n",
    "    print(pack)"
   ]
  },
  {
   "cell_type": "code",
   "execution_count": 99,
   "metadata": {},
   "outputs": [
    {
     "name": "stdout",
     "output_type": "stream",
     "text": [
      "編號0的元素是a。\n",
      "編號1的元素是b。\n",
      "編號2的元素是c。\n"
     ]
    }
   ],
   "source": [
    "for item in enumerate(egg):\n",
    "    print(f\"編號{item[0]}的元素是{item[1]}。\")"
   ]
  },
  {
   "cell_type": "markdown",
   "metadata": {},
   "source": [
    "#### Python的開箱(unpacking)技巧\n",
    "把好幾個物件放到一個串列或是元素裡叫包裝(packing)，就好像要把寄出去的東西打包到一個箱子。     \n",
    "那反過來我們自然可以叫開箱！不論是元組或是串列，我們都可以用一樣的方式開箱。"
   ]
  },
  {
   "cell_type": "code",
   "execution_count": 100,
   "metadata": {},
   "outputs": [],
   "source": [
    "console, game = ('Switch', '健身環大冒險')"
   ]
  },
  {
   "cell_type": "code",
   "execution_count": 102,
   "metadata": {},
   "outputs": [
    {
     "name": "stdout",
     "output_type": "stream",
     "text": [
      "遊戲機： Switch\n",
      "遊戲： 健身環大冒險\n"
     ]
    }
   ],
   "source": [
    "print(\"遊戲機：\", console)\n",
    "print(\"遊戲：\", game)"
   ]
  },
  {
   "cell_type": "code",
   "execution_count": 103,
   "metadata": {},
   "outputs": [
    {
     "name": "stdout",
     "output_type": "stream",
     "text": [
      "編號0的元素是a。\n",
      "編號1的元素是b。\n",
      "編號2的元素是c。\n"
     ]
    }
   ],
   "source": [
    "for i, item in enumerate(egg):\n",
    "    print(f\"編號{i}的元素是{item}。\")"
   ]
  },
  {
   "cell_type": "markdown",
   "metadata": {},
   "source": [
    "#### 冒險旅程26"
   ]
  },
  {
   "cell_type": "code",
   "execution_count": 104,
   "metadata": {},
   "outputs": [],
   "source": [
    "Days = [\"星期日\", \"星期一\", \"星期二\", \"星期三\", \"星期四\", \"星期五\", \"星期六\" ]\n",
    "actions = [\"「可以」\", \"不可以\"]"
   ]
  },
  {
   "cell_type": "code",
   "execution_count": null,
   "metadata": {},
   "outputs": [],
   "source": [
    "ID = input(\"請輸入您的身分證字號末兩碼：\")\n",
    "reply = r\"\"\n",
    "\n",
    "if ID%2 == 0:\n",
    "    display"
   ]
  },
  {
   "cell_type": "code",
   "execution_count": null,
   "metadata": {},
   "outputs": [],
   "source": []
  },
  {
   "cell_type": "code",
   "execution_count": null,
   "metadata": {},
   "outputs": [],
   "source": []
  },
  {
   "cell_type": "code",
   "execution_count": null,
   "metadata": {},
   "outputs": [],
   "source": []
  },
  {
   "cell_type": "markdown",
   "metadata": {},
   "source": [
    "### 27. 資料存檔"
   ]
  },
  {
   "cell_type": "code",
   "execution_count": 106,
   "metadata": {},
   "outputs": [],
   "source": [
    "vocabulary = {\"decrease\":\"減少、降低\",\n",
    "              \"accumulation\":\"累積\",\n",
    "              \"aggregate\":\"合計\"}"
   ]
  },
  {
   "cell_type": "code",
   "execution_count": 107,
   "metadata": {},
   "outputs": [
    {
     "data": {
      "text/plain": [
       "dict_keys(['decrease', 'accumulation', 'aggregate'])"
      ]
     },
     "execution_count": 107,
     "metadata": {},
     "output_type": "execute_result"
    }
   ],
   "source": [
    "vocabulary.keys()"
   ]
  },
  {
   "cell_type": "code",
   "execution_count": 108,
   "metadata": {},
   "outputs": [
    {
     "name": "stdout",
     "output_type": "stream",
     "text": [
      "decrease,減少、降低\n",
      "accumulation,累積\n",
      "aggregate,合計\n"
     ]
    }
   ],
   "source": [
    "for eng in vocabulary.keys():\n",
    "    print(f\"{eng},{vocabulary[eng]}\")"
   ]
  },
  {
   "cell_type": "code",
   "execution_count": 109,
   "metadata": {},
   "outputs": [],
   "source": [
    "f = open(\"vocabulary.csv\",'w')"
   ]
  },
  {
   "cell_type": "code",
   "execution_count": 110,
   "metadata": {},
   "outputs": [],
   "source": [
    "for eng in vocabulary.keys():\n",
    "    print(f\"{eng},{vocabulary[eng]}\", file = f) #file = f意思是輸出指向檔案f，不用印出來。"
   ]
  },
  {
   "cell_type": "code",
   "execution_count": 111,
   "metadata": {},
   "outputs": [],
   "source": [
    "f.close()  # 一定要養成有開就有關的好習慣"
   ]
  },
  {
   "cell_type": "code",
   "execution_count": 112,
   "metadata": {},
   "outputs": [
    {
     "name": "stdout",
     "output_type": "stream",
     "text": [
      " 磁碟區 C 中的磁碟是 Acer\n",
      " 磁碟區序號:  C6DB-D16A\n",
      "\n",
      " C:\\Users\\user\\Desktop\\self-study-notes\\少年py的大冒險：成為Python數據分析達人的第一門課 的目錄\n",
      "\n",
      "2021/05/01  下午 11:42    <DIR>          .\n",
      "2021/05/01  下午 11:42    <DIR>          ..\n",
      "2021/04/27  下午 06:14    <DIR>          .ipynb_checkpoints\n",
      "2021/04/26  下午 05:44               631 guessing_game.py\n",
      "2016/12/08  上午 01:55            48,670 HDYVoKa.jpg\n",
      "2021/05/01  下午 10:25               519 poem.py\n",
      "2021/05/01  下午 11:18            34,144 rabbit.png\n",
      "2021/04/26  下午 05:54             1,011 rock-paper-scissors.py\n",
      "2021/05/01  下午 11:42                56 vocabulary.csv\n",
      "2020/07/06  下午 08:23           106,130 我的第一個Python程式.ipynb\n",
      "2021/04/25  下午 10:54             4,251 基礎篇I_用Markdown做美美的筆記.ipynb\n",
      "2021/04/26  下午 06:35           380,540 基礎篇II_計算機+畫圖.ipynb\n",
      "2021/05/01  下午 10:04            77,654 基礎篇III_資料型態(字串、串列、字典、矩陣)+迴圈(for&while).ipynb\n",
      "2021/04/26  下午 05:54             7,485 基礎篇IV_函式.ipynb\n",
      "2021/04/26  下午 05:54             4,799 基礎篇V_利用套件寫個猜數字遊戲+存檔在終端機中執行.ipynb\n",
      "2021/04/26  下午 06:36            13,881 基礎篇VI_互動功能.ipynb\n",
      "2021/05/01  下午 11:42           143,076 數據篇I.ipynb\n",
      "              14 個檔案         822,847 位元組\n",
      "               3 個目錄  28,184,059,904 位元組可用\n"
     ]
    }
   ],
   "source": [
    "%ls"
   ]
  },
  {
   "cell_type": "code",
   "execution_count": 114,
   "metadata": {},
   "outputs": [
    {
     "name": "stdout",
     "output_type": "stream",
     "text": [
      "decrease,減少、降低\n",
      "accumulation,累積\n",
      "aggregate,合計\n"
     ]
    }
   ],
   "source": [
    "!type \"vocabulary.csv\""
   ]
  },
  {
   "cell_type": "markdown",
   "metadata": {},
   "source": [
    "#### 如何讀入檔案\n",
    "其實如何寫到檔案其實不是那麼重要，因為可以直接用文字編輯器編輯該檔案。     \n",
    "更重要的其實是如何讀進一個檔案，除了本機的檔案外，也有可能是網路上、別的地方拿到的數據集。\n",
    "\n",
    "記得三部曲：開檔、讀或寫、關檔。"
   ]
  },
  {
   "cell_type": "code",
   "execution_count": 115,
   "metadata": {},
   "outputs": [],
   "source": [
    "# 開檔\n",
    "f = open(\"vocabulary.csv\", 'r')   #'r'讀，'w'寫"
   ]
  },
  {
   "cell_type": "code",
   "execution_count": 116,
   "metadata": {},
   "outputs": [],
   "source": [
    "rawdata = f.readlines()"
   ]
  },
  {
   "cell_type": "code",
   "execution_count": 117,
   "metadata": {},
   "outputs": [],
   "source": [
    "f.close()"
   ]
  },
  {
   "cell_type": "code",
   "execution_count": 118,
   "metadata": {},
   "outputs": [
    {
     "data": {
      "text/plain": [
       "['decrease,減少、降低\\n', 'accumulation,累積\\n', 'aggregate,合計\\n']"
      ]
     },
     "execution_count": 118,
     "metadata": {},
     "output_type": "execute_result"
    }
   ],
   "source": [
    "rawdata"
   ]
  },
  {
   "cell_type": "code",
   "execution_count": 119,
   "metadata": {},
   "outputs": [],
   "source": [
    "line = rawdata[0]"
   ]
  },
  {
   "cell_type": "code",
   "execution_count": 120,
   "metadata": {},
   "outputs": [
    {
     "data": {
      "text/plain": [
       "'decrease,減少、降低\\n'"
      ]
     },
     "execution_count": 120,
     "metadata": {},
     "output_type": "execute_result"
    }
   ],
   "source": [
    "line"
   ]
  },
  {
   "cell_type": "code",
   "execution_count": 121,
   "metadata": {},
   "outputs": [
    {
     "data": {
      "text/plain": [
       "'decrease,減少、降低'"
      ]
     },
     "execution_count": 121,
     "metadata": {},
     "output_type": "execute_result"
    }
   ],
   "source": [
    "# 利用.rstrip將右邊指定字串切掉\n",
    "line.rstrip('\\n')"
   ]
  },
  {
   "cell_type": "code",
   "execution_count": 122,
   "metadata": {},
   "outputs": [
    {
     "data": {
      "text/plain": [
       "['decrease', '減少、降低']"
      ]
     },
     "execution_count": 122,
     "metadata": {},
     "output_type": "execute_result"
    }
   ],
   "source": [
    "# 利用.split將中文和英文切開\n",
    "line.rstrip('\\n').split(',')"
   ]
  },
  {
   "cell_type": "code",
   "execution_count": 125,
   "metadata": {},
   "outputs": [],
   "source": [
    "newdict = {}\n",
    "\n",
    "for voc in rawdata:\n",
    "    eng, ch = voc.rstrip('\\n').split(',')\n",
    "    newdict[eng] = ch"
   ]
  },
  {
   "cell_type": "code",
   "execution_count": 126,
   "metadata": {},
   "outputs": [
    {
     "data": {
      "text/plain": [
       "{'decrease': '減少、降低', 'accumulation': '累積', 'aggregate': '合計'}"
      ]
     },
     "execution_count": 126,
     "metadata": {},
     "output_type": "execute_result"
    }
   ],
   "source": [
    "newdict"
   ]
  },
  {
   "cell_type": "markdown",
   "metadata": {},
   "source": [
    "#### 完完全全保持資料型態的存取檔案方式\n",
    "`pickle`：只能在Python中使用。     \n",
    "注意：為了保存原有的資料格式，Python用的是最一般的儲存圖形、程式的二進位檔案(binary file)，而非純文字檔\n",
    "* 存的時候要用`'wb'`，而不是`'w'`。而存的動作叫`dump`。\n",
    "* 讀的時候要用`'rb'`，而不是`'r'`。而讀的動作叫`load`。"
   ]
  },
  {
   "cell_type": "code",
   "execution_count": 127,
   "metadata": {},
   "outputs": [
    {
     "data": {
      "text/plain": [
       "{'decrease': '減少、降低', 'accumulation': '累積', 'aggregate': '合計'}"
      ]
     },
     "execution_count": 127,
     "metadata": {},
     "output_type": "execute_result"
    }
   ],
   "source": [
    "vocabulary"
   ]
  },
  {
   "cell_type": "code",
   "execution_count": 128,
   "metadata": {},
   "outputs": [],
   "source": [
    "import pickle"
   ]
  },
  {
   "cell_type": "code",
   "execution_count": 129,
   "metadata": {},
   "outputs": [],
   "source": [
    "# 一樣的三部曲：開檔 > 存取 > 關檔\n",
    "f = open(\"vocabulary.pickle\", 'wb')\n",
    "pickle.dump(vocabulary, f)\n",
    "f.close()"
   ]
  },
  {
   "cell_type": "code",
   "execution_count": 130,
   "metadata": {},
   "outputs": [],
   "source": [
    "f = open(\"vocabulary.pickle\", 'rb')\n",
    "pickledict = pickle.load(f)\n",
    "f.close()"
   ]
  },
  {
   "cell_type": "code",
   "execution_count": 131,
   "metadata": {},
   "outputs": [
    {
     "data": {
      "text/plain": [
       "{'decrease': '減少、降低', 'accumulation': '累積', 'aggregate': '合計'}"
      ]
     },
     "execution_count": 131,
     "metadata": {},
     "output_type": "execute_result"
    }
   ],
   "source": [
    "pickledict"
   ]
  },
  {
   "cell_type": "markdown",
   "metadata": {},
   "source": [
    "#### 冒險旅程27"
   ]
  },
  {
   "cell_type": "code",
   "execution_count": 132,
   "metadata": {},
   "outputs": [],
   "source": [
    "f = open(\"poem.csv\", 'a')"
   ]
  },
  {
   "cell_type": "code",
   "execution_count": 137,
   "metadata": {},
   "outputs": [],
   "source": [
    "n = np.random.randint(2, 8) # 2-7句，決定有幾句\n",
    "\n",
    "for i in range(n):\n",
    "    m = np.random.randint(1, 6) #決定每句長度\n",
    "    sentence = np.random.choice(words, m, replace = False)\n",
    "    print(\" \".join(sentence), file = f)"
   ]
  },
  {
   "cell_type": "code",
   "execution_count": 138,
   "metadata": {},
   "outputs": [],
   "source": [
    "f.close()"
   ]
  },
  {
   "cell_type": "code",
   "execution_count": 139,
   "metadata": {},
   "outputs": [],
   "source": [
    "f = open(\"poem.csv\", 'r')"
   ]
  },
  {
   "cell_type": "code",
   "execution_count": 140,
   "metadata": {},
   "outputs": [],
   "source": [
    "poem = f.readlines()"
   ]
  },
  {
   "cell_type": "code",
   "execution_count": 141,
   "metadata": {},
   "outputs": [],
   "source": [
    "f.close()"
   ]
  },
  {
   "cell_type": "code",
   "execution_count": 142,
   "metadata": {},
   "outputs": [
    {
     "data": {
      "text/plain": [
       "['心 溫柔 相遇 靈魂 吹過\\n',\n",
       " '驀然\\n',\n",
       " '雲 停止 哭泣 驀然\\n',\n",
       " '日子\\n',\n",
       " '風\\n',\n",
       " '靈魂 雲 你的 風\\n',\n",
       " '我的 等待 風\\n',\n",
       " '溫柔 停止 吹過\\n',\n",
       " '分離\\n',\n",
       " '心 我的 溫柔 眼睛\\n',\n",
       " '忘記 心碎 思念 我的\\n',\n",
       " '吹過 你的 戀愛 思念 分離\\n',\n",
       " '你 戀愛 忘記\\n',\n",
       " '日子\\n',\n",
       " '哭泣 日子\\n',\n",
       " '吹過 眼睛\\n',\n",
       " '我 心碎 忘記 日子\\n',\n",
       " '心\\n',\n",
       " '等待 思念 戀愛\\n',\n",
       " '忘記\\n',\n",
       " '思念 你的 天空\\n']"
      ]
     },
     "execution_count": 142,
     "metadata": {},
     "output_type": "execute_result"
    }
   ],
   "source": [
    "poem"
   ]
  },
  {
   "cell_type": "code",
   "execution_count": null,
   "metadata": {},
   "outputs": [],
   "source": []
  },
  {
   "cell_type": "code",
   "execution_count": null,
   "metadata": {},
   "outputs": [],
   "source": []
  },
  {
   "cell_type": "markdown",
   "metadata": {},
   "source": [
    "### 28.讓matplotlib顯示中文"
   ]
  },
  {
   "cell_type": "code",
   "execution_count": 143,
   "metadata": {},
   "outputs": [],
   "source": [
    "import matplotlib as mpl"
   ]
  },
  {
   "cell_type": "code",
   "execution_count": 144,
   "metadata": {},
   "outputs": [
    {
     "name": "stderr",
     "output_type": "stream",
     "text": [
      "'rm' 不是內部或外部命令、可執行的程式或批次檔。\n"
     ]
    }
   ],
   "source": [
    "!rm -rf {mpl.get_cachedir()}\n",
    "mpl.font_manager._rebuild()"
   ]
  },
  {
   "cell_type": "code",
   "execution_count": 147,
   "metadata": {},
   "outputs": [],
   "source": [
    "mpl.rc('font', family = 'Noto Sans CJK TC')  # rc通常是run commands的意思，但這裡指的是matplotlib的rc參數rcParams(資料型態是字典)"
   ]
  },
  {
   "cell_type": "code",
   "execution_count": null,
   "metadata": {},
   "outputs": [],
   "source": [
    "mpl.rcParams['font.family'] = 'Noto Sans CJK TC'  # 此行作用同上"
   ]
  },
  {
   "cell_type": "code",
   "execution_count": 148,
   "metadata": {},
   "outputs": [
    {
     "data": {
      "text/plain": [
       "[<matplotlib.lines.Line2D at 0x2413e0f7ac8>]"
      ]
     },
     "execution_count": 148,
     "metadata": {},
     "output_type": "execute_result"
    },
    {
     "data": {
      "image/png": "[encoded data removed]",
      "text/plain": [
       "<Figure size 432x288 with 1 Axes>"
      ]
     },
     "metadata": {
      "needs_background": "light"
     },
     "output_type": "display_data"
    }
   ],
   "source": [
    "x = np.linspace(0, 10, 200)\n",
    "y = np.sin(5*x) / (1+x**2)\n",
    "\n",
    "plt.title('振幅越來越小的$\\sin$')\n",
    "plt.plot(x, y)"
   ]
  },
  {
   "cell_type": "code",
   "execution_count": 149,
   "metadata": {},
   "outputs": [
    {
     "data": {
      "text/plain": [
       "['STIXSizeOneSym',\n",
       " 'STIXSizeFourSym',\n",
       " 'cmss10',\n",
       " 'cmmi10',\n",
       " 'STIXSizeTwoSym',\n",
       " 'STIXSizeFiveSym',\n",
       " 'STIXGeneral',\n",
       " 'STIXNonUnicode',\n",
       " 'DejaVu Sans Mono',\n",
       " 'STIXGeneral',\n",
       " 'DejaVu Sans',\n",
       " 'DejaVu Sans Mono',\n",
       " 'STIXNonUnicode',\n",
       " 'DejaVu Serif',\n",
       " 'STIXGeneral',\n",
       " 'cmsy10',\n",
       " 'DejaVu Sans',\n",
       " 'STIXNonUnicode',\n",
       " 'cmtt10',\n",
       " 'DejaVu Serif Display',\n",
       " 'STIXGeneral',\n",
       " 'DejaVu Sans',\n",
       " 'cmr10',\n",
       " 'DejaVu Sans Mono',\n",
       " 'STIXSizeThreeSym',\n",
       " 'DejaVu Serif',\n",
       " 'DejaVu Sans Mono',\n",
       " 'STIXSizeOneSym',\n",
       " 'STIXSizeFourSym',\n",
       " 'cmb10',\n",
       " 'cmex10',\n",
       " 'DejaVu Sans',\n",
       " 'DejaVu Sans Display',\n",
       " 'STIXNonUnicode',\n",
       " 'STIXSizeTwoSym',\n",
       " 'DejaVu Serif',\n",
       " 'STIXSizeThreeSym',\n",
       " 'DejaVu Serif',\n",
       " 'Segoe UI Emoji',\n",
       " 'Adobe Gothic Std',\n",
       " 'Euclid Symbol',\n",
       " 'Bradley Hand ITC',\n",
       " 'Centaur',\n",
       " 'Lucida Calligraphy',\n",
       " 'Adobe Fangsong Std',\n",
       " 'Book Antiqua',\n",
       " 'Goudy Stout',\n",
       " 'Corbel',\n",
       " 'Segoe UI',\n",
       " 'Niagara Solid',\n",
       " 'Gigi',\n",
       " 'Microsoft Tai Le',\n",
       " 'Comic Sans MS',\n",
       " 'Palace Script MT',\n",
       " 'Calisto MT',\n",
       " 'Bodoni MT',\n",
       " 'Segoe UI Historic',\n",
       " 'Gabriola',\n",
       " 'Gill Sans Ultra Bold Condensed',\n",
       " 'Edwardian Script ITC',\n",
       " 'Bahnschrift',\n",
       " 'Yu Gothic',\n",
       " 'Castellar',\n",
       " 'SimSun-ExtB',\n",
       " 'Noto Sans Mono CJK TC',\n",
       " 'Noto Sans CJK TC',\n",
       " 'Constantia',\n",
       " 'Sitka Small',\n",
       " 'Berlin Sans FB',\n",
       " 'Euclid Symbol',\n",
       " 'Broadway',\n",
       " 'Lucida Fax',\n",
       " 'MingLiU-ExtB',\n",
       " 'Segoe UI',\n",
       " 'Brush Script MT',\n",
       " 'Meiryo',\n",
       " 'Euclid',\n",
       " 'Yu Mincho',\n",
       " 'Century Schoolbook',\n",
       " 'Yu Mincho',\n",
       " 'Britannic Bold',\n",
       " 'Leelawadee UI',\n",
       " 'Microsoft Yi Baiti',\n",
       " 'Felix Titling',\n",
       " 'Sitka Small',\n",
       " 'Adobe Hebrew',\n",
       " 'Batang',\n",
       " 'Yu Gothic',\n",
       " 'Calisto MT',\n",
       " 'Trebuchet MS',\n",
       " 'Forte',\n",
       " 'Myriad Hebrew',\n",
       " 'Bell MT',\n",
       " 'Microsoft Himalaya',\n",
       " 'Orator Std',\n",
       " 'Arial',\n",
       " 'Segoe Print',\n",
       " 'Algerian',\n",
       " 'Calibri',\n",
       " 'Segoe UI',\n",
       " 'Adobe Arabic',\n",
       " 'Consolas',\n",
       " 'Palatino Linotype',\n",
       " 'Perpetua',\n",
       " 'Ebrima',\n",
       " 'Segoe UI',\n",
       " 'Trebuchet MS',\n",
       " 'Gill Sans MT',\n",
       " 'Trajan Pro',\n",
       " 'Arial',\n",
       " 'Baskerville Old Face',\n",
       " 'Franklin Gothic Medium',\n",
       " 'Segoe UI',\n",
       " 'Gulim',\n",
       " 'Kristen ITC',\n",
       " 'MingLiU',\n",
       " 'OCR A Extended',\n",
       " 'Juice ITC',\n",
       " 'Sitka Small',\n",
       " 'Garamond',\n",
       " 'SimSun',\n",
       " 'Informal Roman',\n",
       " 'Euclid Math Two',\n",
       " 'High Tower Text',\n",
       " 'Stencil',\n",
       " 'Tahoma',\n",
       " 'Myriad Arabic',\n",
       " 'Arial',\n",
       " 'Times New Roman',\n",
       " 'Symbol',\n",
       " 'Euclid',\n",
       " 'Candara',\n",
       " 'Lucida Sans Typewriter',\n",
       " 'Magneto',\n",
       " 'Malgun Gothic',\n",
       " 'Pristina',\n",
       " 'Tw Cen MT Condensed',\n",
       " 'Cambria',\n",
       " 'Eras Demi ITC',\n",
       " 'Blackadder ITC',\n",
       " 'Arial',\n",
       " 'Calibri',\n",
       " 'Eras Light ITC',\n",
       " 'Century',\n",
       " 'Agency FB',\n",
       " 'Script MT Bold',\n",
       " 'Symbol Tiger',\n",
       " 'Noto Sans CJK TC',\n",
       " 'Trajan Pro',\n",
       " 'Elephant',\n",
       " 'MV Boli',\n",
       " 'Myriad Arabic',\n",
       " 'Arial',\n",
       " 'Adobe Hebrew',\n",
       " 'Vladimir Script',\n",
       " 'Euclid Math One',\n",
       " 'Adobe Myungjo Std',\n",
       " 'Eras Bold ITC',\n",
       " 'MS Mincho',\n",
       " 'Bell MT',\n",
       " 'Euclid',\n",
       " 'Noto Sans CJK TC',\n",
       " 'Yu Gothic',\n",
       " 'Rosewood Std',\n",
       " 'Bodoni MT',\n",
       " 'Calibri',\n",
       " 'Adobe Heiti Std',\n",
       " 'MS Reference Sans Serif',\n",
       " 'Bodoni MT',\n",
       " 'Franklin Gothic Heavy',\n",
       " 'Myriad Hebrew',\n",
       " 'Bodoni MT',\n",
       " 'Tiger',\n",
       " 'MS Gothic',\n",
       " 'Gadugi',\n",
       " 'Bodoni MT',\n",
       " 'Verdana',\n",
       " 'Rockwell Extra Bold',\n",
       " 'Rockwell',\n",
       " 'Ebrima',\n",
       " 'Perpetua Titling MT',\n",
       " 'Franklin Gothic Demi',\n",
       " 'Book Antiqua',\n",
       " 'Segoe UI',\n",
       " 'UD Digi Kyokasho N-R',\n",
       " 'Modern No. 20',\n",
       " 'Haettenschweiler',\n",
       " 'MS Outlook',\n",
       " 'Segoe UI',\n",
       " 'Rockwell',\n",
       " 'Agency FB',\n",
       " 'Euclid Fraktur',\n",
       " 'Goudy Old Style',\n",
       " 'Franklin Gothic Medium',\n",
       " 'Perpetua',\n",
       " 'Tempus Sans ITC',\n",
       " 'Corbel',\n",
       " 'Adobe Kaiti Std',\n",
       " 'Century Gothic',\n",
       " 'Gill Sans MT',\n",
       " 'Snap ITC',\n",
       " 'Lucida Bright',\n",
       " 'Yu Gothic',\n",
       " 'Georgia',\n",
       " 'Georgia',\n",
       " 'Viner Hand ITC',\n",
       " 'HoloLens MDL2 Assets',\n",
       " 'Perpetua',\n",
       " 'Georgia',\n",
       " 'Century Gothic',\n",
       " 'Vivaldi',\n",
       " 'Microsoft PhagsPa',\n",
       " 'Corbel',\n",
       " 'Gloucester MT Extra Condensed',\n",
       " 'Gadugi',\n",
       " 'Microsoft JhengHei',\n",
       " 'Bodoni MT',\n",
       " 'Tw Cen MT Condensed Extra Bold',\n",
       " 'Birch Std',\n",
       " 'Sylfaen',\n",
       " 'Segoe MDL2 Assets',\n",
       " 'Tw Cen MT',\n",
       " 'Kunstler Script',\n",
       " 'Rockwell',\n",
       " 'Segoe UI',\n",
       " 'Leelawadee UI',\n",
       " 'Comic Sans MS',\n",
       " 'Courier New',\n",
       " 'Marlett',\n",
       " 'Fences',\n",
       " 'Arial',\n",
       " 'Adobe Song Std',\n",
       " 'Segoe Script',\n",
       " 'Noto Sans Mono CJK TC',\n",
       " 'Gill Sans MT Condensed',\n",
       " 'Rockwell Condensed',\n",
       " 'BIZ UDMincho',\n",
       " 'Noto Sans CJK TC',\n",
       " 'Gill Sans MT Ext Condensed Bold',\n",
       " 'Tw Cen MT',\n",
       " 'Segoe UI',\n",
       " 'Candara',\n",
       " 'Microsoft JhengHei',\n",
       " 'Times New Roman',\n",
       " 'Consolas',\n",
       " 'MS Reference Specialty',\n",
       " 'Nueva Std',\n",
       " 'Candara',\n",
       " 'Ravie',\n",
       " 'Symbol Tiger Expert',\n",
       " 'Brush Script Std',\n",
       " 'Courier New',\n",
       " 'Berlin Sans FB Demi',\n",
       " 'Lucida Fax',\n",
       " 'Euclid Symbol',\n",
       " 'MT Extra Tiger',\n",
       " 'Arial',\n",
       " 'Trebuchet MS',\n",
       " 'Parchment',\n",
       " 'Myanmar Text',\n",
       " 'Bodoni MT',\n",
       " 'Cambria',\n",
       " 'Bookshelf Symbol 7',\n",
       " 'French Script MT',\n",
       " 'Candara',\n",
       " 'Microsoft YaHei',\n",
       " 'Eras Medium ITC',\n",
       " 'Elephant',\n",
       " 'Bodoni MT',\n",
       " 'Javanese Text',\n",
       " 'Euclid Extra',\n",
       " 'Candara',\n",
       " 'Comic Sans MS',\n",
       " 'Footlight MT Light',\n",
       " 'Noto Sans CJK TC',\n",
       " 'Adobe Hebrew',\n",
       " 'Mesquite Std',\n",
       " 'Segoe UI',\n",
       " 'Lucida Sans Typewriter',\n",
       " 'Noto Sans CJK TC',\n",
       " 'Chiller',\n",
       " 'Courier New',\n",
       " 'Comic Sans MS',\n",
       " 'Lucida Bright',\n",
       " 'Calibri',\n",
       " 'Lucida Handwriting',\n",
       " 'Trebuchet MS',\n",
       " 'Lucida Bright',\n",
       " 'Franklin Gothic Demi',\n",
       " 'Leelawadee UI',\n",
       " 'Goudy Old Style',\n",
       " 'Century Gothic',\n",
       " 'Maiandra GD',\n",
       " 'Lucida Sans',\n",
       " 'DFKai-SB',\n",
       " 'Franklin Gothic Book',\n",
       " 'Nirmala UI',\n",
       " 'Noto Sans CJK TC',\n",
       " 'Adobe Naskh',\n",
       " 'Blackoak Std',\n",
       " 'Book Antiqua',\n",
       " 'Segoe UI Symbol',\n",
       " 'Malgun Gothic',\n",
       " 'Segoe Script',\n",
       " 'Mongolian Baiti',\n",
       " 'Microsoft YaHei',\n",
       " 'Rockwell',\n",
       " 'Lucida Sans Typewriter',\n",
       " 'Microsoft JhengHei',\n",
       " 'Arial',\n",
       " 'Consolas',\n",
       " 'Stencil Std',\n",
       " 'Lucida Sans Unicode',\n",
       " 'Verdana',\n",
       " 'Calisto MT',\n",
       " 'Harrington',\n",
       " 'Nueva Std',\n",
       " 'Gill Sans MT',\n",
       " 'Constantia',\n",
       " 'Bookman Old Style',\n",
       " 'Californian FB',\n",
       " 'Nueva Std',\n",
       " 'Rage Italic',\n",
       " 'Candara',\n",
       " 'Century Gothic',\n",
       " 'UD Digi Kyokasho N-B',\n",
       " 'Tw Cen MT',\n",
       " 'Harlow Solid Italic',\n",
       " 'Century Schoolbook',\n",
       " 'Bookman Old Style',\n",
       " 'Cooper Std',\n",
       " 'Euclid Math One',\n",
       " 'Myriad Arabic',\n",
       " 'Corbel',\n",
       " 'Rockwell Condensed',\n",
       " 'Microsoft Sans Serif',\n",
       " 'Georgia',\n",
       " 'Lucida Sans',\n",
       " 'Hobo Std',\n",
       " 'Bodoni MT',\n",
       " 'Old English Text MT',\n",
       " 'Ubuntu Mono',\n",
       " 'Verdana',\n",
       " 'Bodoni MT',\n",
       " 'Times New Roman',\n",
       " 'Goudy Old Style',\n",
       " 'Gill Sans MT',\n",
       " 'Adobe Hebrew',\n",
       " 'Century Schoolbook',\n",
       " 'Jokerman',\n",
       " 'Bell MT',\n",
       " 'Microsoft PhagsPa',\n",
       " 'Tahoma',\n",
       " 'Californian FB',\n",
       " 'Meiryo',\n",
       " 'Perpetua',\n",
       " 'Freestyle Script',\n",
       " 'Arial Rounded MT Bold',\n",
       " 'Lucida Fax',\n",
       " 'Bookman Old Style',\n",
       " 'Segoe UI',\n",
       " 'Nirmala UI',\n",
       " 'Garamond',\n",
       " 'Playbill',\n",
       " 'Palatino Linotype',\n",
       " 'Microsoft New Tai Lue',\n",
       " 'Berlin Sans FB',\n",
       " 'Mistral',\n",
       " 'Constantia',\n",
       " 'BIZ UDGothic',\n",
       " 'Gill Sans Ultra Bold',\n",
       " 'Californian FB',\n",
       " 'BIZ UDGothic',\n",
       " 'Tw Cen MT',\n",
       " 'Showcard Gothic',\n",
       " 'Times New Roman',\n",
       " 'Lucida Bright',\n",
       " 'Bookman Old Style',\n",
       " 'Microsoft New Tai Lue',\n",
       " 'Charlemagne Std',\n",
       " 'Book Antiqua',\n",
       " 'Malgun Gothic',\n",
       " 'Impact',\n",
       " 'Palatino Linotype',\n",
       " 'Bauhaus 93',\n",
       " 'Matura MT Script Capitals',\n",
       " 'Adobe Fan Heiti Std',\n",
       " 'Colonna MT',\n",
       " 'Microsoft Tai Le',\n",
       " 'Wide Latin',\n",
       " 'Nueva Std',\n",
       " 'Ink Free',\n",
       " 'Cooper Std',\n",
       " 'Giddyup Std',\n",
       " 'Garamond',\n",
       " 'Lucida Console',\n",
       " 'Myriad Hebrew',\n",
       " 'Cambria',\n",
       " 'Corbel',\n",
       " 'Bernard MT Condensed',\n",
       " 'Lucida Sans',\n",
       " 'Poor Richard',\n",
       " 'Courier New',\n",
       " 'Consolas',\n",
       " 'Wingdings',\n",
       " 'Tiger Expert',\n",
       " 'Monotype Corsiva',\n",
       " 'Arial',\n",
       " 'Yu Mincho',\n",
       " 'Segoe Print',\n",
       " 'Lucida Fax',\n",
       " 'Imprint MT Shadow',\n",
       " 'Wingdings 2',\n",
       " 'Myriad Hebrew',\n",
       " 'Euclid Fraktur',\n",
       " 'Copperplate Gothic Bold',\n",
       " 'Webdings',\n",
       " 'Calibri',\n",
       " 'Constantia',\n",
       " 'Segoe UI',\n",
       " 'Onyx',\n",
       " 'Euclid',\n",
       " 'Niagara Engraved',\n",
       " 'Perpetua Titling MT',\n",
       " 'Calisto MT',\n",
       " 'High Tower Text',\n",
       " 'MT Extra',\n",
       " 'Bodoni MT',\n",
       " 'Lucida Sans',\n",
       " 'Curlz MT',\n",
       " 'Adobe Arabic',\n",
       " 'Euclid Math Two',\n",
       " 'Palatino Linotype',\n",
       " 'MT Extra',\n",
       " 'Euclid Symbol',\n",
       " 'Nueva Std',\n",
       " 'Calibri',\n",
       " 'Franklin Gothic Book',\n",
       " 'Copperplate Gothic Light',\n",
       " 'Sitka Small',\n",
       " 'Adobe Arabic',\n",
       " 'Myriad Arabic',\n",
       " 'Lucida Sans Typewriter',\n",
       " 'Euclid Extra',\n",
       " 'Nirmala UI',\n",
       " 'Franklin Gothic Demi Cond',\n",
       " 'Franklin Gothic Heavy',\n",
       " 'Papyrus',\n",
       " 'Century Schoolbook',\n",
       " 'Tw Cen MT Condensed',\n",
       " 'Microsoft YaHei',\n",
       " 'Corbel',\n",
       " 'Engravers MT',\n",
       " 'Nueva Std',\n",
       " 'Franklin Gothic Medium Cond',\n",
       " 'Cooper Black',\n",
       " 'Wingdings 3',\n",
       " 'Adobe Arabic',\n",
       " 'Cambria',\n",
       " 'Verdana',\n",
       " 'Myanmar Text']"
      ]
     },
     "execution_count": 149,
     "metadata": {},
     "output_type": "execute_result"
    }
   ],
   "source": [
    "# 確認matplotlib裡搜到的字型們\n",
    "[f.name for f in mpl.font_manager.fontManager.ttflist]"
   ]
  },
  {
   "cell_type": "markdown",
   "metadata": {},
   "source": [
    "#### 補充：一次呈現多張圖\n",
    "之前提到matplotlib的架構是會有一個figure，以前都是只有一個axes，但現在我們想要多幾張一起來。這時便要用到`subplot`。     \n",
    "1. 確定好有幾張圖。ex.6張\n",
    "2. 決定如何排列。ex.兩列三行、三列兩行(台灣:列是橫的、行是直的，中國相反)\n",
    "    * 總之都是「列優先」，所以表示列的數字會在前，行的數字則在後。         \n",
    "         \n",
    "`plt.subplot(列, 行, 第n張圖)`"
   ]
  },
  {
   "cell_type": "code",
   "execution_count": 152,
   "metadata": {},
   "outputs": [
    {
     "name": "stderr",
     "output_type": "stream",
     "text": [
      "C:\\Anaconda3\\lib\\site-packages\\ipykernel_launcher.py:5: RuntimeWarning: divide by zero encountered in true_divide\n",
      "  \"\"\"\n",
      "C:\\Anaconda3\\lib\\site-packages\\ipykernel_launcher.py:7: RuntimeWarning: divide by zero encountered in true_divide\n",
      "  import sys\n"
     ]
    },
    {
     "data": {
      "text/plain": [
       "[<matplotlib.lines.Line2D at 0x2413df7a348>]"
      ]
     },
     "execution_count": 152,
     "metadata": {},
     "output_type": "execute_result"
    },
    {
     "data": {
      "image/png": "[encoded data removed]",
      "text/plain": [
       "<Figure size 432x288 with 6 Axes>"
      ]
     },
     "metadata": {
      "needs_background": "light"
     },
     "output_type": "display_data"
    }
   ],
   "source": [
    "x = np.linspace(0, 10, 200)\n",
    "y1 = np.sin(x)\n",
    "y2 = np.cos(x)\n",
    "y3 = np.tan(x)\n",
    "y4 = 1/np.tan(x)\n",
    "y5 = 1/np.cos(x)\n",
    "y6 = 1/np.sin(x)\n",
    "\n",
    "# 排列方式是2列3行，第1張圖\n",
    "plt.subplot(2, 3, 1)\n",
    "plt.title('正弦三角函數$\\sin$的圖形')\n",
    "plt.plot(x, y1)\n",
    "\n",
    "# 排列方式是2列3行，第2張圖\n",
    "plt.subplot(2, 3, 2)\n",
    "plt.title('正弦三角函數$\\tan$的圖形')\n",
    "plt.plot(x, y3)\n",
    "\n",
    "# 排列方式是2列3行，第3張圖\n",
    "plt.subplot(2, 3, 3)\n",
    "plt.title('正弦三角函數$\\sec$的圖形')\n",
    "plt.plot(x, y5)\n",
    "\n",
    "# 排列方式是2列3行，第4張圖\n",
    "plt.subplot(2, 3, 4)\n",
    "plt.title('餘弦三角函數$\\cos$的圖形')\n",
    "plt.plot(x, y2)\n",
    "\n",
    "# 排列方式是2列3行，第5張圖\n",
    "plt.subplot(2, 3, 5)\n",
    "plt.title('餘弦三角函數$\\cot$的圖形')\n",
    "plt.plot(x, y4)\n",
    "\n",
    "# 排列方式是2列3行，第6張圖\n",
    "plt.subplot(2, 3, 6)\n",
    "plt.title('餘弦三角函數$\\csc$的圖形')\n",
    "plt.plot(x, y6)"
   ]
  },
  {
   "cell_type": "code",
   "execution_count": 155,
   "metadata": {},
   "outputs": [
    {
     "data": {
      "text/plain": [
       "[<matplotlib.lines.Line2D at 0x24141500108>]"
      ]
     },
     "execution_count": 155,
     "metadata": {},
     "output_type": "execute_result"
    },
    {
     "data": {
      "image/png": "[encoded data removed]",
      "text/plain": [
       "<Figure size 432x288 with 2 Axes>"
      ]
     },
     "metadata": {
      "needs_background": "light"
     },
     "output_type": "display_data"
    }
   ],
   "source": [
    "x = np.linspace(0, 10, 200)\n",
    "y1 = np.sin(5*x)/(1+x**2)\n",
    "y2 = np.sin(x)\n",
    "\n",
    "# 排列方式是1列2行，第1張圖\n",
    "plt.subplot(1, 2, 1) \n",
    "plt.title('振幅越來越小的$\\sin$')\n",
    "plt.plot(x, y1)\n",
    "\n",
    "# 排列方式是1列2行，第2張圖\n",
    "plt.subplot(122) #如果沒有畫超過10張圖的話，可以不需要用逗號隔開參數\n",
    "plt.title('正常的$\\sin$')\n",
    "plt.plot(x, y2)"
   ]
  },
  {
   "cell_type": "code",
   "execution_count": 156,
   "metadata": {},
   "outputs": [
    {
     "data": {
      "text/plain": [
       "[<matplotlib.lines.Line2D at 0x241415d6ac8>]"
      ]
     },
     "execution_count": 156,
     "metadata": {},
     "output_type": "execute_result"
    },
    {
     "data": {
      "image/png": "[encoded data removed]",
      "text/plain": [
       "<Figure size 432x288 with 2 Axes>"
      ]
     },
     "metadata": {
      "needs_background": "light"
     },
     "output_type": "display_data"
    }
   ],
   "source": [
    "x = np.linspace(0, 10, 200)\n",
    "y1 = np.sin(5*x)/(1+x**2)\n",
    "y2 = np.sin(x)\n",
    "\n",
    "# 排列方式是2列1行，第1張圖\n",
    "plt.subplot(211)\n",
    "plt.title('振幅越來越小的$\\sin$')\n",
    "plt.plot(x, y1)\n",
    "\n",
    "# 排列方式是2列1行，第2張圖\n",
    "plt.subplot(212)\n",
    "plt.title('正常的$\\sin$')\n",
    "plt.plot(x, y2)"
   ]
  },
  {
   "cell_type": "markdown",
   "metadata": {},
   "source": [
    "#### 補充：讓圖形變美的美容師seaborn套件"
   ]
  },
  {
   "cell_type": "code",
   "execution_count": 157,
   "metadata": {},
   "outputs": [],
   "source": [
    "import seaborn as sns"
   ]
  },
  {
   "cell_type": "code",
   "execution_count": 158,
   "metadata": {},
   "outputs": [],
   "source": [
    "# 下完這段指令，從此畫圖都是由seaborn接手\n",
    "sns.set()"
   ]
  },
  {
   "cell_type": "code",
   "execution_count": 159,
   "metadata": {},
   "outputs": [
    {
     "data": {
      "text/plain": [
       "[<matplotlib.lines.Line2D at 0x241433de248>]"
      ]
     },
     "execution_count": 159,
     "metadata": {},
     "output_type": "execute_result"
    },
    {
     "name": "stderr",
     "output_type": "stream",
     "text": [
      "Font 'default' does not have a glyph for '\\u632f' [U+632f], substituting with a dummy symbol.\n",
      "Font 'default' does not have a glyph for '\\u5e45' [U+5e45], substituting with a dummy symbol.\n",
      "Font 'default' does not have a glyph for '\\u8d8a' [U+8d8a], substituting with a dummy symbol.\n",
      "Font 'default' does not have a glyph for '\\u4f86' [U+4f86], substituting with a dummy symbol.\n",
      "Font 'default' does not have a glyph for '\\u5c0f' [U+5c0f], substituting with a dummy symbol.\n",
      "Font 'default' does not have a glyph for '\\u7684' [U+7684], substituting with a dummy symbol.\n",
      "Font 'default' does not have a glyph for '\\u6b63' [U+6b63], substituting with a dummy symbol.\n",
      "Font 'default' does not have a glyph for '\\u5e38' [U+5e38], substituting with a dummy symbol.\n",
      "Font 'default' does not have a glyph for '\\u7684' [U+7684], substituting with a dummy symbol.\n",
      "Font 'default' does not have a glyph for '\\u632f' [U+632f], substituting with a dummy symbol.\n",
      "Font 'default' does not have a glyph for '\\u5e45' [U+5e45], substituting with a dummy symbol.\n",
      "Font 'default' does not have a glyph for '\\u8d8a' [U+8d8a], substituting with a dummy symbol.\n",
      "Font 'default' does not have a glyph for '\\u4f86' [U+4f86], substituting with a dummy symbol.\n",
      "Font 'default' does not have a glyph for '\\u5c0f' [U+5c0f], substituting with a dummy symbol.\n",
      "Font 'default' does not have a glyph for '\\u7684' [U+7684], substituting with a dummy symbol.\n",
      "Font 'default' does not have a glyph for '\\u6b63' [U+6b63], substituting with a dummy symbol.\n",
      "Font 'default' does not have a glyph for '\\u5e38' [U+5e38], substituting with a dummy symbol.\n",
      "Font 'default' does not have a glyph for '\\u7684' [U+7684], substituting with a dummy symbol.\n"
     ]
    },
    {
     "data": {
      "image/png": "[encoded data removed]",
      "text/plain": [
       "<Figure size 432x288 with 2 Axes>"
      ]
     },
     "metadata": {},
     "output_type": "display_data"
    }
   ],
   "source": [
    "x = np.linspace(0, 10, 200)\n",
    "y1 = np.sin(5*x)/(1+x**2)\n",
    "y2 = np.sin(x)\n",
    "\n",
    "# 排列方式是2列1行，第1張圖\n",
    "plt.subplot(211)\n",
    "plt.title('振幅越來越小的$\\sin$')\n",
    "plt.plot(x, y1)\n",
    "\n",
    "# 排列方式是2列1行，第2張圖\n",
    "plt.subplot(212)\n",
    "plt.title('正常的$\\sin$')\n",
    "plt.plot(x, y2)"
   ]
  },
  {
   "cell_type": "code",
   "execution_count": 160,
   "metadata": {},
   "outputs": [],
   "source": [
    "sns.set(rc = {'font.family':'Noto Sans CJK TC'})"
   ]
  },
  {
   "cell_type": "code",
   "execution_count": 162,
   "metadata": {},
   "outputs": [
    {
     "data": {
      "text/plain": [
       "[<matplotlib.lines.Line2D at 0x241435d4a48>]"
      ]
     },
     "execution_count": 162,
     "metadata": {},
     "output_type": "execute_result"
    },
    {
     "data": {
      "image/png": "[encoded data removed]",
      "text/plain": [
       "<Figure size 432x288 with 2 Axes>"
      ]
     },
     "metadata": {},
     "output_type": "display_data"
    }
   ],
   "source": [
    "x = np.linspace(0, 10, 200)\n",
    "y1 = np.sin(5*x)/(1+x**2)\n",
    "y2 = np.sin(x)\n",
    "\n",
    "# 排列方式是2列1行，第1張圖\n",
    "plt.subplot(211)\n",
    "plt.title('振幅越來越小的$\\sin$')\n",
    "plt.plot(x, y1)\n",
    "\n",
    "# 排列方式是2列1行，第2張圖\n",
    "plt.subplot(212)\n",
    "plt.title('正常的$\\sin$')\n",
    "plt.plot(x, y2)"
   ]
  },
  {
   "cell_type": "markdown",
   "metadata": {},
   "source": [
    "#### 冒險旅程28"
   ]
  },
  {
   "cell_type": "code",
   "execution_count": 168,
   "metadata": {},
   "outputs": [
    {
     "data": {
      "image/png": "[encoded data removed]",
      "text/plain": [
       "<Figure size 432x288 with 6 Axes>"
      ]
     },
     "metadata": {},
     "output_type": "display_data"
    }
   ],
   "source": [
    "x = np.linspace(0, 10, 200)\n",
    "\n",
    "for i in range(6):\n",
    "    y = np.sin((i+1)*x)\n",
    "    plt.subplot(2, 3, i+1)\n",
    "    plt.title(f'$\\sin({i+1}x)$的圖形')\n",
    "    plt.plot(x, y)"
   ]
  },
  {
   "cell_type": "code",
   "execution_count": null,
   "metadata": {},
   "outputs": [],
   "source": []
  }
 ],
 "metadata": {
  "kernelspec": {
   "display_name": "Python 3",
   "language": "python",
   "name": "python3"
  },
  "language_info": {
   "codemirror_mode": {
    "name": "ipython",
    "version": 3
   },
   "file_extension": ".py",
   "mimetype": "text/x-python",
   "name": "python",
   "nbconvert_exporter": "python",
   "pygments_lexer": "ipython3",
   "version": "3.8.10"
  }
 },
 "nbformat": 4,
 "nbformat_minor": 4
}
