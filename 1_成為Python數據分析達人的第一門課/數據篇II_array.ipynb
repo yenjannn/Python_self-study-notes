{
 "cells": [
  {
   "cell_type": "markdown",
   "metadata": {},
   "source": [
    "## 數據篇II_array"
   ]
  },
  {
   "cell_type": "code",
   "execution_count": 1,
   "metadata": {},
   "outputs": [],
   "source": [
    "%matplotlib inline\n",
    "\n",
    "import numpy as np\n",
    "import matplotlib.pyplot as plt"
   ]
  },
  {
   "cell_type": "markdown",
   "metadata": {},
   "source": [
    "### 29. 初學Array：數據分析的基本資料型態\n",
    "為何不使用`list`加上`for`迴圈就好呢？"
   ]
  },
  {
   "cell_type": "code",
   "execution_count": 2,
   "metadata": {},
   "outputs": [],
   "source": [
    "grades = [35, 74, 43, 66, 87, 55, 71, 65]"
   ]
  },
  {
   "cell_type": "code",
   "execution_count": 3,
   "metadata": {},
   "outputs": [
    {
     "ename": "TypeError",
     "evalue": "can't multiply sequence by non-int of type 'float'",
     "output_type": "error",
     "traceback": [
      "\u001b[1;31m----------------------------------------------------------------------\u001b[0m",
      "\u001b[1;31mTypeError\u001b[0m                            Traceback (most recent call last)",
      "\u001b[1;32m<ipython-input-3-67fc5e8d1fb1>\u001b[0m in \u001b[0;36m<module>\u001b[1;34m\u001b[0m\n\u001b[0;32m      1\u001b[0m \u001b[1;31m# 假設今天想將每位同學的成績都乘上1.1倍調整\u001b[0m\u001b[1;33m\u001b[0m\u001b[1;33m\u001b[0m\u001b[1;33m\u001b[0m\u001b[0m\n\u001b[1;32m----> 2\u001b[1;33m \u001b[0mgrades\u001b[0m\u001b[1;33m*\u001b[0m\u001b[1;36m1.1\u001b[0m\u001b[1;33m\u001b[0m\u001b[1;33m\u001b[0m\u001b[0m\n\u001b[0m",
      "\u001b[1;31mTypeError\u001b[0m: can't multiply sequence by non-int of type 'float'"
     ]
    }
   ],
   "source": [
    "# 假設今天想將每位同學的成績都乘上1.1倍調整\n",
    "grades*1.1"
   ]
  },
  {
   "cell_type": "code",
   "execution_count": 4,
   "metadata": {},
   "outputs": [
    {
     "data": {
      "text/plain": [
       "[35, 74, 43, 66, 87, 55, 71, 65, 35, 74, 43, 66, 87, 55, 71, 65]"
      ]
     },
     "execution_count": 4,
     "metadata": {},
     "output_type": "execute_result"
    }
   ],
   "source": [
    "# 發現非整數無法，只好試試看整數\n",
    "grades*2"
   ]
  },
  {
   "cell_type": "code",
   "execution_count": 5,
   "metadata": {},
   "outputs": [],
   "source": [
    "# 雖然整數可以卻不是我們想要的結果，接著再嘗試看看以前學過的for迴圈\n",
    "new_grades = []\n",
    "\n",
    "for grade in grades:\n",
    "    new_grades.append(grade*1.1)"
   ]
  },
  {
   "cell_type": "code",
   "execution_count": 6,
   "metadata": {},
   "outputs": [
    {
     "data": {
      "text/plain": [
       "[38.5,\n",
       " 81.4,\n",
       " 47.300000000000004,\n",
       " 72.60000000000001,\n",
       " 95.7,\n",
       " 60.50000000000001,\n",
       " 78.10000000000001,\n",
       " 71.5]"
      ]
     },
     "execution_count": 6,
     "metadata": {},
     "output_type": "execute_result"
    }
   ],
   "source": [
    "new_grades"
   ]
  },
  {
   "cell_type": "code",
   "execution_count": 7,
   "metadata": {},
   "outputs": [],
   "source": [
    "# 如果每位同學的成績再加4分\n",
    "new_grades2 = []\n",
    "\n",
    "for g in new_grades:\n",
    "    new_grades2.append(g+4)"
   ]
  },
  {
   "cell_type": "code",
   "execution_count": 8,
   "metadata": {},
   "outputs": [
    {
     "data": {
      "text/plain": [
       "[42.5,\n",
       " 85.4,\n",
       " 51.300000000000004,\n",
       " 76.60000000000001,\n",
       " 99.7,\n",
       " 64.5,\n",
       " 82.10000000000001,\n",
       " 75.5]"
      ]
     },
     "execution_count": 8,
     "metadata": {},
     "output_type": "execute_result"
    }
   ],
   "source": [
    "new_grades2"
   ]
  },
  {
   "cell_type": "markdown",
   "metadata": {},
   "source": [
    "#### 雖然解決問題了，但有沒有更快的方法呢？\n",
    "`np.array()`：又稱作向量。\n",
    "* 先產生一個`list`，再將其轉換成`array`。"
   ]
  },
  {
   "cell_type": "code",
   "execution_count": 9,
   "metadata": {},
   "outputs": [],
   "source": [
    "grad_arr = np.array(grades)"
   ]
  },
  {
   "cell_type": "code",
   "execution_count": 10,
   "metadata": {},
   "outputs": [
    {
     "data": {
      "text/plain": [
       "array([35, 74, 43, 66, 87, 55, 71, 65])"
      ]
     },
     "execution_count": 10,
     "metadata": {},
     "output_type": "execute_result"
    }
   ],
   "source": [
    "grad_arr"
   ]
  },
  {
   "cell_type": "code",
   "execution_count": 11,
   "metadata": {},
   "outputs": [
    {
     "data": {
      "text/plain": [
       "array([38.5, 81.4, 47.3, 72.6, 95.7, 60.5, 78.1, 71.5])"
      ]
     },
     "execution_count": 11,
     "metadata": {},
     "output_type": "execute_result"
    }
   ],
   "source": [
    "grad_arr*1.1"
   ]
  },
  {
   "cell_type": "code",
   "execution_count": 12,
   "metadata": {},
   "outputs": [
    {
     "data": {
      "text/plain": [
       "array([42.5, 85.4, 51.3, 76.6, 99.7, 64.5, 82.1, 75.5])"
      ]
     },
     "execution_count": 12,
     "metadata": {},
     "output_type": "execute_result"
    }
   ],
   "source": [
    "grad_arr*1.1 + 4"
   ]
  },
  {
   "cell_type": "markdown",
   "metadata": {},
   "source": [
    "#### 冒險旅程29"
   ]
  },
  {
   "cell_type": "code",
   "execution_count": 14,
   "metadata": {},
   "outputs": [],
   "source": [
    "price = [11210, 14816, 10751, 8228]"
   ]
  },
  {
   "cell_type": "code",
   "execution_count": 15,
   "metadata": {},
   "outputs": [],
   "source": [
    "price_arr = np.array(price)"
   ]
  },
  {
   "cell_type": "code",
   "execution_count": 16,
   "metadata": {},
   "outputs": [],
   "source": [
    "c = 0.23655"
   ]
  },
  {
   "cell_type": "code",
   "execution_count": 17,
   "metadata": {},
   "outputs": [
    {
     "data": {
      "text/plain": [
       "array([2651.7255 , 3504.7248 , 2543.14905, 1946.3334 ])"
      ]
     },
     "execution_count": 17,
     "metadata": {},
     "output_type": "execute_result"
    }
   ],
   "source": [
    "price_arr*c"
   ]
  },
  {
   "cell_type": "code",
   "execution_count": 18,
   "metadata": {},
   "outputs": [
    {
     "data": {
      "text/plain": [
       "array([2625.208245 , 3469.677552 , 2517.7175595, 1926.870066 ])"
      ]
     },
     "execution_count": 18,
     "metadata": {},
     "output_type": "execute_result"
    }
   ],
   "source": [
    "price_arr*c - price_arr*c*0.01"
   ]
  },
  {
   "cell_type": "code",
   "execution_count": 19,
   "metadata": {},
   "outputs": [
    {
     "data": {
      "text/plain": [
       "array([2625.208245 , 3469.677552 , 2517.7175595, 1926.870066 ])"
      ]
     },
     "execution_count": 19,
     "metadata": {},
     "output_type": "execute_result"
    }
   ],
   "source": [
    "price_arr*c*0.99"
   ]
  },
  {
   "cell_type": "markdown",
   "metadata": {},
   "source": [
    "### 30. `Array`方便又有趣的Broadcasting功能"
   ]
  },
  {
   "cell_type": "code",
   "execution_count": 20,
   "metadata": {},
   "outputs": [],
   "source": [
    "# 假設一位同學的平時成績85分、期中考70分、期末考80分\n",
    "grades = np.array([85, 70, 80])"
   ]
  },
  {
   "cell_type": "code",
   "execution_count": 21,
   "metadata": {},
   "outputs": [
    {
     "data": {
      "text/plain": [
       "array([93.5, 77. , 88. ])"
      ]
     },
     "execution_count": 21,
     "metadata": {},
     "output_type": "execute_result"
    }
   ],
   "source": [
    "grades*1.1"
   ]
  },
  {
   "cell_type": "code",
   "execution_count": 22,
   "metadata": {},
   "outputs": [],
   "source": [
    "# 連加權和都可以算，假設平時成績20%、期中考35%、期末考45%\n",
    "weights = np.array([0.2, 0.35, 0.45])"
   ]
  },
  {
   "cell_type": "code",
   "execution_count": 23,
   "metadata": {},
   "outputs": [],
   "source": [
    "# 注意：兩個array的長度必須一樣才能相乘\n",
    "wgrades = grades * weights"
   ]
  },
  {
   "cell_type": "code",
   "execution_count": 24,
   "metadata": {},
   "outputs": [
    {
     "data": {
      "text/plain": [
       "array([17. , 24.5, 36. ])"
      ]
     },
     "execution_count": 24,
     "metadata": {},
     "output_type": "execute_result"
    }
   ],
   "source": [
    "wgrades"
   ]
  },
  {
   "cell_type": "code",
   "execution_count": 25,
   "metadata": {},
   "outputs": [
    {
     "data": {
      "text/plain": [
       "77.5"
      ]
     },
     "execution_count": 25,
     "metadata": {},
     "output_type": "execute_result"
    }
   ],
   "source": [
    "# 將成績加總乘最後的學期成績\n",
    "wgrades.sum()"
   ]
  },
  {
   "cell_type": "code",
   "execution_count": 26,
   "metadata": {},
   "outputs": [
    {
     "data": {
      "text/plain": [
       "77.5"
      ]
     },
     "execution_count": 26,
     "metadata": {},
     "output_type": "execute_result"
    }
   ],
   "source": [
    "# 更快速的作法，利用內積method嚇死你(因為將每項相乘再相加，其實就像是在做向量的內積)\n",
    "np.dot(grades, weights)"
   ]
  },
  {
   "cell_type": "code",
   "execution_count": 27,
   "metadata": {},
   "outputs": [
    {
     "data": {
      "text/plain": [
       "77.5"
      ]
     },
     "execution_count": 27,
     "metadata": {},
     "output_type": "execute_result"
    }
   ],
   "source": [
    "# 另一種表示內積的符號\n",
    "grades @ weights"
   ]
  },
  {
   "cell_type": "code",
   "execution_count": 28,
   "metadata": {},
   "outputs": [],
   "source": [
    "# 接下來挑戰算全班的學期成績，假設全班只有三位XD\n",
    "A = [85, 70, 80]\n",
    "B = [12, 88, 77]\n",
    "C = [85, 91, 33]"
   ]
  },
  {
   "cell_type": "code",
   "execution_count": 29,
   "metadata": {},
   "outputs": [],
   "source": [
    "grades = np.array([A, B, C])"
   ]
  },
  {
   "cell_type": "code",
   "execution_count": 30,
   "metadata": {},
   "outputs": [
    {
     "data": {
      "text/plain": [
       "array([[85, 70, 80],\n",
       "       [12, 88, 77],\n",
       "       [85, 91, 33]])"
      ]
     },
     "execution_count": 30,
     "metadata": {},
     "output_type": "execute_result"
    }
   ],
   "source": [
    "grades"
   ]
  },
  {
   "cell_type": "code",
   "execution_count": 31,
   "metadata": {},
   "outputs": [
    {
     "data": {
      "text/plain": [
       "array([77.5 , 67.85, 63.7 ])"
      ]
     },
     "execution_count": 31,
     "metadata": {},
     "output_type": "execute_result"
    }
   ],
   "source": [
    "# 權重同上，然後體驗一下一步登天的感覺\n",
    "grades @ weights"
   ]
  },
  {
   "cell_type": "markdown",
   "metadata": {},
   "source": [
    "#### `array`的形狀不只一種，他可以是1D、2D，甚至是更高維度的型態"
   ]
  },
  {
   "cell_type": "code",
   "execution_count": 32,
   "metadata": {},
   "outputs": [
    {
     "data": {
      "text/plain": [
       "array([0, 1, 2])"
      ]
     },
     "execution_count": 32,
     "metadata": {},
     "output_type": "execute_result"
    }
   ],
   "source": [
    "# 1D的array\n",
    "np.array([0, 1, 2])"
   ]
  },
  {
   "cell_type": "code",
   "execution_count": 33,
   "metadata": {},
   "outputs": [
    {
     "data": {
      "text/plain": [
       "array([2, 3, 6, 9, 7])"
      ]
     },
     "execution_count": 33,
     "metadata": {},
     "output_type": "execute_result"
    }
   ],
   "source": [
    "np.array([2, 3, 6, 9, 7])"
   ]
  },
  {
   "cell_type": "code",
   "execution_count": 34,
   "metadata": {},
   "outputs": [
    {
     "data": {
      "text/plain": [
       "array([[0, 0, 0],\n",
       "       [1, 1, 1],\n",
       "       [2, 2, 2]])"
      ]
     },
     "execution_count": 34,
     "metadata": {},
     "output_type": "execute_result"
    }
   ],
   "source": [
    "# 2D的array：矩陣\n",
    "np.array([[0, 0, 0],\n",
    "          [1, 1, 1],\n",
    "          [2, 2, 2]])"
   ]
  },
  {
   "cell_type": "code",
   "execution_count": 35,
   "metadata": {},
   "outputs": [
    {
     "data": {
      "text/plain": [
       "array([[0, 0, 0],\n",
       "       [1, 1, 1]])"
      ]
     },
     "execution_count": 35,
     "metadata": {},
     "output_type": "execute_result"
    }
   ],
   "source": [
    "np.array([[0, 0, 0],\n",
    "          [1, 1, 1]])"
   ]
  },
  {
   "cell_type": "code",
   "execution_count": 36,
   "metadata": {},
   "outputs": [
    {
     "data": {
      "text/plain": [
       "array([[[0, 0, 0],\n",
       "        [1, 1, 1],\n",
       "        [2, 2, 2]],\n",
       "\n",
       "       [[3, 3, 3],\n",
       "        [4, 4, 4],\n",
       "        [5, 5, 5]]])"
      ]
     },
     "execution_count": 36,
     "metadata": {},
     "output_type": "execute_result"
    }
   ],
   "source": [
    "# 3D的array\n",
    "np.array([[[0, 0, 0],\n",
    "           [1, 1, 1],\n",
    "           [2, 2, 2]],\n",
    "          [[3, 3, 3],\n",
    "           [4, 4, 4],\n",
    "           [5, 5, 5]]])"
   ]
  },
  {
   "cell_type": "markdown",
   "metadata": {},
   "source": [
    "#### 冒險旅程30"
   ]
  },
  {
   "cell_type": "code",
   "execution_count": 37,
   "metadata": {},
   "outputs": [],
   "source": [
    "# 同時算很多人的BMI\n",
    "A_weights = np.random.randint(45, 80, 3)\n",
    "B_weights = np.random.randint(45, 95, 3)"
   ]
  },
  {
   "cell_type": "code",
   "execution_count": 38,
   "metadata": {},
   "outputs": [
    {
     "data": {
      "text/plain": [
       "array([52, 79, 75])"
      ]
     },
     "execution_count": 38,
     "metadata": {},
     "output_type": "execute_result"
    }
   ],
   "source": [
    "A_weights"
   ]
  },
  {
   "cell_type": "code",
   "execution_count": 39,
   "metadata": {},
   "outputs": [
    {
     "data": {
      "text/plain": [
       "array([61, 48, 83])"
      ]
     },
     "execution_count": 39,
     "metadata": {},
     "output_type": "execute_result"
    }
   ],
   "source": [
    "B_weights"
   ]
  },
  {
   "cell_type": "code",
   "execution_count": 40,
   "metadata": {},
   "outputs": [],
   "source": [
    "A_heights = np.random.randint(145, 190, 3)\n",
    "B_heights = np.random.randint(150, 190, 3)"
   ]
  },
  {
   "cell_type": "code",
   "execution_count": 41,
   "metadata": {},
   "outputs": [
    {
     "data": {
      "text/plain": [
       "array([171, 183, 160])"
      ]
     },
     "execution_count": 41,
     "metadata": {},
     "output_type": "execute_result"
    }
   ],
   "source": [
    "A_heights"
   ]
  },
  {
   "cell_type": "code",
   "execution_count": 42,
   "metadata": {},
   "outputs": [
    {
     "data": {
      "text/plain": [
       "array([181, 175, 155])"
      ]
     },
     "execution_count": 42,
     "metadata": {},
     "output_type": "execute_result"
    }
   ],
   "source": [
    "B_heights"
   ]
  },
  {
   "cell_type": "code",
   "execution_count": 43,
   "metadata": {},
   "outputs": [],
   "source": [
    "A_BMI = A_weights/(A_heights/100)**2\n",
    "B_BMI = B_weights/(B_heights/100)**2"
   ]
  },
  {
   "cell_type": "code",
   "execution_count": 44,
   "metadata": {},
   "outputs": [
    {
     "data": {
      "text/plain": [
       "array([17.78324955, 23.58983547, 29.296875  ])"
      ]
     },
     "execution_count": 44,
     "metadata": {},
     "output_type": "execute_result"
    }
   ],
   "source": [
    "A_BMI"
   ]
  },
  {
   "cell_type": "code",
   "execution_count": 45,
   "metadata": {},
   "outputs": [
    {
     "data": {
      "text/plain": [
       "array([18.61970025, 15.67346939, 34.54734651])"
      ]
     },
     "execution_count": 45,
     "metadata": {},
     "output_type": "execute_result"
    }
   ],
   "source": [
    "B_BMI"
   ]
  },
  {
   "cell_type": "code",
   "execution_count": 46,
   "metadata": {},
   "outputs": [],
   "source": [
    "# 平均值\n",
    "A_avg = A_BMI.sum()/3\n",
    "B_avg = B_BMI.sum()/3"
   ]
  },
  {
   "cell_type": "code",
   "execution_count": 47,
   "metadata": {},
   "outputs": [
    {
     "data": {
      "text/plain": [
       "23.556653338410616"
      ]
     },
     "execution_count": 47,
     "metadata": {},
     "output_type": "execute_result"
    }
   ],
   "source": [
    "A_avg"
   ]
  },
  {
   "cell_type": "code",
   "execution_count": 48,
   "metadata": {},
   "outputs": [
    {
     "data": {
      "text/plain": [
       "22.946838718384328"
      ]
     },
     "execution_count": 48,
     "metadata": {},
     "output_type": "execute_result"
    }
   ],
   "source": [
    "B_avg"
   ]
  },
  {
   "cell_type": "code",
   "execution_count": 49,
   "metadata": {},
   "outputs": [],
   "source": [
    "# 嘗試兩班一起算\n",
    "a_weights = np.array([A_weights, B_weights])\n",
    "a_heights = np.array([A_heights, B_heights])"
   ]
  },
  {
   "cell_type": "code",
   "execution_count": 50,
   "metadata": {},
   "outputs": [],
   "source": [
    "a_BMI = a_weights/(a_heights/100)**2"
   ]
  },
  {
   "cell_type": "code",
   "execution_count": 51,
   "metadata": {},
   "outputs": [
    {
     "data": {
      "text/plain": [
       "array([[17.78324955, 23.58983547, 29.296875  ],\n",
       "       [18.61970025, 15.67346939, 34.54734651]])"
      ]
     },
     "execution_count": 51,
     "metadata": {},
     "output_type": "execute_result"
    }
   ],
   "source": [
    "a_BMI"
   ]
  },
  {
   "cell_type": "code",
   "execution_count": 52,
   "metadata": {},
   "outputs": [],
   "source": [
    "a_avg = a_BMI.sum()/6"
   ]
  },
  {
   "cell_type": "code",
   "execution_count": 53,
   "metadata": {},
   "outputs": [
    {
     "data": {
      "text/plain": [
       "23.251746028397474"
      ]
     },
     "execution_count": 53,
     "metadata": {},
     "output_type": "execute_result"
    }
   ],
   "source": [
    "a_avg \n",
    "# 該如何找出兩班分別的平均"
   ]
  },
  {
   "cell_type": "code",
   "execution_count": null,
   "metadata": {},
   "outputs": [],
   "source": []
  },
  {
   "cell_type": "code",
   "execution_count": null,
   "metadata": {},
   "outputs": [],
   "source": []
  },
  {
   "cell_type": "code",
   "execution_count": null,
   "metadata": {},
   "outputs": [],
   "source": []
  },
  {
   "cell_type": "markdown",
   "metadata": {},
   "source": [
    "### 31. `array`變身大法"
   ]
  },
  {
   "cell_type": "code",
   "execution_count": 54,
   "metadata": {},
   "outputs": [],
   "source": [
    "# 亂數取一個array，從標準常態分配取100個數字\n",
    "A = np.random.randn(100)"
   ]
  },
  {
   "cell_type": "code",
   "execution_count": 55,
   "metadata": {},
   "outputs": [
    {
     "data": {
      "text/plain": [
       "array([-2.17814341, -0.62745749,  0.09130957, -0.4197461 , -0.16802772,\n",
       "        0.26544405, -0.67253494, -1.94698184, -0.32881717,  0.10032132,\n",
       "        1.19718208,  3.27127639,  2.19799295, -1.077113  ,  1.16833152,\n",
       "       -0.71900975,  0.70841278, -1.02928892,  0.37224233,  0.24483273,\n",
       "       -0.30407216, -0.09898465, -0.93734778, -0.49989115, -1.40169713,\n",
       "       -2.63234473, -1.13642126, -2.77813315,  1.91852757, -0.2856317 ,\n",
       "       -1.2490325 ,  1.39119301, -0.66227038,  0.74483385,  1.56937292,\n",
       "        0.24668705,  1.65616074,  1.94554311,  1.20039361, -0.84584343,\n",
       "        0.9792926 ,  0.65171823,  0.00666418, -0.49688963, -0.45217887,\n",
       "        0.32745025, -1.70142658, -0.43776967, -0.35606244,  1.38430233,\n",
       "       -1.10181948, -1.00715942, -0.78013473,  0.12644225,  1.43009312,\n",
       "        0.20309265,  1.83108861, -0.78811477,  1.10326902, -2.07333522,\n",
       "        1.0597858 ,  0.41107575, -0.8638532 ,  0.46418905, -0.74883976,\n",
       "       -0.77009414, -0.85637429,  1.20709703,  0.1614706 ,  1.63230092,\n",
       "       -2.23392066,  0.36956465,  1.37978964, -0.00338215, -0.17236516,\n",
       "       -0.1108964 , -0.15420828, -0.61410528,  1.03122399, -1.30585778,\n",
       "        1.2585641 ,  2.20033976,  0.56796139,  1.66217523, -0.12247375,\n",
       "       -0.99928665,  1.51987307,  1.31289709, -1.06698036, -0.15845284,\n",
       "       -1.84454073,  1.49694651, -0.5067824 , -1.60319044, -0.48723728,\n",
       "       -0.13065337,  2.23703547,  0.27466556, -2.70211095, -0.03865046])"
      ]
     },
     "execution_count": 55,
     "metadata": {},
     "output_type": "execute_result"
    }
   ],
   "source": [
    "A"
   ]
  },
  {
   "cell_type": "code",
   "execution_count": 56,
   "metadata": {},
   "outputs": [],
   "source": [
    "# 將平均值變成50，標準差變成10\n",
    "A = 10*A + 50"
   ]
  },
  {
   "cell_type": "code",
   "execution_count": 57,
   "metadata": {},
   "outputs": [
    {
     "data": {
      "text/plain": [
       "array([28.2185659 , 43.72542513, 50.91309569, 45.80253897, 48.31972275,\n",
       "       52.65444053, 43.27465058, 30.53018165, 46.71182826, 51.00321317,\n",
       "       61.97182075, 82.71276393, 71.97992949, 39.22887   , 61.68331521,\n",
       "       42.80990247, 57.08412783, 39.70711078, 53.72242326, 52.4483273 ,\n",
       "       46.95927835, 49.01015346, 40.62652225, 45.00108845, 35.9830287 ,\n",
       "       23.67655267, 38.6357874 , 22.21866846, 69.18527572, 47.14368305,\n",
       "       37.50967497, 63.9119301 , 43.37729622, 57.44833853, 65.69372917,\n",
       "       52.46687052, 66.56160744, 69.45543107, 62.00393612, 41.54156565,\n",
       "       59.79292604, 56.5171823 , 50.06664181, 45.03110366, 45.4782113 ,\n",
       "       53.27450251, 32.98573423, 45.62230327, 46.43937557, 63.84302326,\n",
       "       38.98180524, 39.92840581, 42.19865267, 51.26442253, 64.30093122,\n",
       "       52.03092646, 68.31088609, 42.1188523 , 61.03269018, 29.26664782,\n",
       "       60.59785799, 54.11075754, 41.36146803, 54.64189055, 42.51160241,\n",
       "       42.29905861, 41.4362571 , 62.07097028, 51.61470602, 66.32300924,\n",
       "       27.66079339, 53.69564648, 63.7978964 , 49.96617847, 48.27634839,\n",
       "       48.89103602, 48.45791718, 43.8589472 , 60.31223995, 36.94142224,\n",
       "       62.58564104, 72.00339763, 55.67961394, 66.62175232, 48.77526255,\n",
       "       40.00713353, 65.1987307 , 63.12897088, 39.3301964 , 48.41547164,\n",
       "       31.5545927 , 64.96946508, 44.93217597, 33.96809558, 45.12762723,\n",
       "       48.69346626, 72.37035465, 52.74665562, 22.97889053, 49.6134954 ])"
      ]
     },
     "execution_count": 57,
     "metadata": {},
     "output_type": "execute_result"
    }
   ],
   "source": [
    "A"
   ]
  },
  {
   "cell_type": "code",
   "execution_count": 58,
   "metadata": {},
   "outputs": [
    {
     "data": {
      "text/plain": [
       "(100,)"
      ]
     },
     "execution_count": 58,
     "metadata": {},
     "output_type": "execute_result"
    }
   ],
   "source": [
    "A.shape\n",
    "# 表示A是一個array有100個數字的一維向麗"
   ]
  },
  {
   "cell_type": "code",
   "execution_count": 59,
   "metadata": {},
   "outputs": [],
   "source": [
    "# 把A變成5X20的矩陣\n",
    "A.shape = (5, 20)"
   ]
  },
  {
   "cell_type": "code",
   "execution_count": 60,
   "metadata": {},
   "outputs": [
    {
     "data": {
      "text/plain": [
       "array([[28.2185659 , 43.72542513, 50.91309569, 45.80253897, 48.31972275,\n",
       "        52.65444053, 43.27465058, 30.53018165, 46.71182826, 51.00321317,\n",
       "        61.97182075, 82.71276393, 71.97992949, 39.22887   , 61.68331521,\n",
       "        42.80990247, 57.08412783, 39.70711078, 53.72242326, 52.4483273 ],\n",
       "       [46.95927835, 49.01015346, 40.62652225, 45.00108845, 35.9830287 ,\n",
       "        23.67655267, 38.6357874 , 22.21866846, 69.18527572, 47.14368305,\n",
       "        37.50967497, 63.9119301 , 43.37729622, 57.44833853, 65.69372917,\n",
       "        52.46687052, 66.56160744, 69.45543107, 62.00393612, 41.54156565],\n",
       "       [59.79292604, 56.5171823 , 50.06664181, 45.03110366, 45.4782113 ,\n",
       "        53.27450251, 32.98573423, 45.62230327, 46.43937557, 63.84302326,\n",
       "        38.98180524, 39.92840581, 42.19865267, 51.26442253, 64.30093122,\n",
       "        52.03092646, 68.31088609, 42.1188523 , 61.03269018, 29.26664782],\n",
       "       [60.59785799, 54.11075754, 41.36146803, 54.64189055, 42.51160241,\n",
       "        42.29905861, 41.4362571 , 62.07097028, 51.61470602, 66.32300924,\n",
       "        27.66079339, 53.69564648, 63.7978964 , 49.96617847, 48.27634839,\n",
       "        48.89103602, 48.45791718, 43.8589472 , 60.31223995, 36.94142224],\n",
       "       [62.58564104, 72.00339763, 55.67961394, 66.62175232, 48.77526255,\n",
       "        40.00713353, 65.1987307 , 63.12897088, 39.3301964 , 48.41547164,\n",
       "        31.5545927 , 64.96946508, 44.93217597, 33.96809558, 45.12762723,\n",
       "        48.69346626, 72.37035465, 52.74665562, 22.97889053, 49.6134954 ]])"
      ]
     },
     "execution_count": 60,
     "metadata": {},
     "output_type": "execute_result"
    }
   ],
   "source": [
    "A"
   ]
  },
  {
   "cell_type": "code",
   "execution_count": 61,
   "metadata": {},
   "outputs": [],
   "source": [
    "A.shape = (10, 10)"
   ]
  },
  {
   "cell_type": "code",
   "execution_count": 62,
   "metadata": {},
   "outputs": [
    {
     "data": {
      "text/plain": [
       "array([[28.2185659 , 43.72542513, 50.91309569, 45.80253897, 48.31972275,\n",
       "        52.65444053, 43.27465058, 30.53018165, 46.71182826, 51.00321317],\n",
       "       [61.97182075, 82.71276393, 71.97992949, 39.22887   , 61.68331521,\n",
       "        42.80990247, 57.08412783, 39.70711078, 53.72242326, 52.4483273 ],\n",
       "       [46.95927835, 49.01015346, 40.62652225, 45.00108845, 35.9830287 ,\n",
       "        23.67655267, 38.6357874 , 22.21866846, 69.18527572, 47.14368305],\n",
       "       [37.50967497, 63.9119301 , 43.37729622, 57.44833853, 65.69372917,\n",
       "        52.46687052, 66.56160744, 69.45543107, 62.00393612, 41.54156565],\n",
       "       [59.79292604, 56.5171823 , 50.06664181, 45.03110366, 45.4782113 ,\n",
       "        53.27450251, 32.98573423, 45.62230327, 46.43937557, 63.84302326],\n",
       "       [38.98180524, 39.92840581, 42.19865267, 51.26442253, 64.30093122,\n",
       "        52.03092646, 68.31088609, 42.1188523 , 61.03269018, 29.26664782],\n",
       "       [60.59785799, 54.11075754, 41.36146803, 54.64189055, 42.51160241,\n",
       "        42.29905861, 41.4362571 , 62.07097028, 51.61470602, 66.32300924],\n",
       "       [27.66079339, 53.69564648, 63.7978964 , 49.96617847, 48.27634839,\n",
       "        48.89103602, 48.45791718, 43.8589472 , 60.31223995, 36.94142224],\n",
       "       [62.58564104, 72.00339763, 55.67961394, 66.62175232, 48.77526255,\n",
       "        40.00713353, 65.1987307 , 63.12897088, 39.3301964 , 48.41547164],\n",
       "       [31.5545927 , 64.96946508, 44.93217597, 33.96809558, 45.12762723,\n",
       "        48.69346626, 72.37035465, 52.74665562, 22.97889053, 49.6134954 ]])"
      ]
     },
     "execution_count": 62,
     "metadata": {},
     "output_type": "execute_result"
    }
   ],
   "source": [
    "A "
   ]
  },
  {
   "cell_type": "code",
   "execution_count": 66,
   "metadata": {},
   "outputs": [],
   "source": [
    "A.shape(100, 1)"
   ]
  },
  {
   "cell_type": "code",
   "execution_count": 67,
   "metadata": {},
   "outputs": [
    {
     "data": {
      "text/plain": [
       "array([[28.2185659 ],\n",
       "       [43.72542513],\n",
       "       [50.91309569],\n",
       "       [45.80253897],\n",
       "       [48.31972275],\n",
       "       [52.65444053],\n",
       "       [43.27465058],\n",
       "       [30.53018165],\n",
       "       [46.71182826],\n",
       "       [51.00321317],\n",
       "       [61.97182075],\n",
       "       [82.71276393],\n",
       "       [71.97992949],\n",
       "       [39.22887   ],\n",
       "       [61.68331521],\n",
       "       [42.80990247],\n",
       "       [57.08412783],\n",
       "       [39.70711078],\n",
       "       [53.72242326],\n",
       "       [52.4483273 ],\n",
       "       [46.95927835],\n",
       "       [49.01015346],\n",
       "       [40.62652225],\n",
       "       [45.00108845],\n",
       "       [35.9830287 ],\n",
       "       [23.67655267],\n",
       "       [38.6357874 ],\n",
       "       [22.21866846],\n",
       "       [69.18527572],\n",
       "       [47.14368305],\n",
       "       [37.50967497],\n",
       "       [63.9119301 ],\n",
       "       [43.37729622],\n",
       "       [57.44833853],\n",
       "       [65.69372917],\n",
       "       [52.46687052],\n",
       "       [66.56160744],\n",
       "       [69.45543107],\n",
       "       [62.00393612],\n",
       "       [41.54156565],\n",
       "       [59.79292604],\n",
       "       [56.5171823 ],\n",
       "       [50.06664181],\n",
       "       [45.03110366],\n",
       "       [45.4782113 ],\n",
       "       [53.27450251],\n",
       "       [32.98573423],\n",
       "       [45.62230327],\n",
       "       [46.43937557],\n",
       "       [63.84302326],\n",
       "       [38.98180524],\n",
       "       [39.92840581],\n",
       "       [42.19865267],\n",
       "       [51.26442253],\n",
       "       [64.30093122],\n",
       "       [52.03092646],\n",
       "       [68.31088609],\n",
       "       [42.1188523 ],\n",
       "       [61.03269018],\n",
       "       [29.26664782],\n",
       "       [60.59785799],\n",
       "       [54.11075754],\n",
       "       [41.36146803],\n",
       "       [54.64189055],\n",
       "       [42.51160241],\n",
       "       [42.29905861],\n",
       "       [41.4362571 ],\n",
       "       [62.07097028],\n",
       "       [51.61470602],\n",
       "       [66.32300924],\n",
       "       [27.66079339],\n",
       "       [53.69564648],\n",
       "       [63.7978964 ],\n",
       "       [49.96617847],\n",
       "       [48.27634839],\n",
       "       [48.89103602],\n",
       "       [48.45791718],\n",
       "       [43.8589472 ],\n",
       "       [60.31223995],\n",
       "       [36.94142224],\n",
       "       [62.58564104],\n",
       "       [72.00339763],\n",
       "       [55.67961394],\n",
       "       [66.62175232],\n",
       "       [48.77526255],\n",
       "       [40.00713353],\n",
       "       [65.1987307 ],\n",
       "       [63.12897088],\n",
       "       [39.3301964 ],\n",
       "       [48.41547164],\n",
       "       [31.5545927 ],\n",
       "       [64.96946508],\n",
       "       [44.93217597],\n",
       "       [33.96809558],\n",
       "       [45.12762723],\n",
       "       [48.69346626],\n",
       "       [72.37035465],\n",
       "       [52.74665562],\n",
       "       [22.97889053],\n",
       "       [49.6134954 ]])"
      ]
     },
     "execution_count": 67,
     "metadata": {},
     "output_type": "execute_result"
    }
   ],
   "source": [
    "A"
   ]
  },
  {
   "cell_type": "code",
   "execution_count": 68,
   "metadata": {},
   "outputs": [
    {
     "data": {
      "text/plain": [
       "array([[28.2185659 ],\n",
       "       [43.72542513],\n",
       "       [50.91309569],\n",
       "       [45.80253897],\n",
       "       [48.31972275],\n",
       "       [52.65444053],\n",
       "       [43.27465058],\n",
       "       [30.53018165],\n",
       "       [46.71182826],\n",
       "       [51.00321317],\n",
       "       [61.97182075],\n",
       "       [82.71276393],\n",
       "       [71.97992949],\n",
       "       [39.22887   ],\n",
       "       [61.68331521],\n",
       "       [42.80990247],\n",
       "       [57.08412783],\n",
       "       [39.70711078],\n",
       "       [53.72242326],\n",
       "       [52.4483273 ],\n",
       "       [46.95927835],\n",
       "       [49.01015346],\n",
       "       [40.62652225],\n",
       "       [45.00108845],\n",
       "       [35.9830287 ],\n",
       "       [23.67655267],\n",
       "       [38.6357874 ],\n",
       "       [22.21866846],\n",
       "       [69.18527572],\n",
       "       [47.14368305],\n",
       "       [37.50967497],\n",
       "       [63.9119301 ],\n",
       "       [43.37729622],\n",
       "       [57.44833853],\n",
       "       [65.69372917],\n",
       "       [52.46687052],\n",
       "       [66.56160744],\n",
       "       [69.45543107],\n",
       "       [62.00393612],\n",
       "       [41.54156565],\n",
       "       [59.79292604],\n",
       "       [56.5171823 ],\n",
       "       [50.06664181],\n",
       "       [45.03110366],\n",
       "       [45.4782113 ],\n",
       "       [53.27450251],\n",
       "       [32.98573423],\n",
       "       [45.62230327],\n",
       "       [46.43937557],\n",
       "       [63.84302326],\n",
       "       [38.98180524],\n",
       "       [39.92840581],\n",
       "       [42.19865267],\n",
       "       [51.26442253],\n",
       "       [64.30093122],\n",
       "       [52.03092646],\n",
       "       [68.31088609],\n",
       "       [42.1188523 ],\n",
       "       [61.03269018],\n",
       "       [29.26664782],\n",
       "       [60.59785799],\n",
       "       [54.11075754],\n",
       "       [41.36146803],\n",
       "       [54.64189055],\n",
       "       [42.51160241],\n",
       "       [42.29905861],\n",
       "       [41.4362571 ],\n",
       "       [62.07097028],\n",
       "       [51.61470602],\n",
       "       [66.32300924],\n",
       "       [27.66079339],\n",
       "       [53.69564648],\n",
       "       [63.7978964 ],\n",
       "       [49.96617847],\n",
       "       [48.27634839],\n",
       "       [48.89103602],\n",
       "       [48.45791718],\n",
       "       [43.8589472 ],\n",
       "       [60.31223995],\n",
       "       [36.94142224],\n",
       "       [62.58564104],\n",
       "       [72.00339763],\n",
       "       [55.67961394],\n",
       "       [66.62175232],\n",
       "       [48.77526255],\n",
       "       [40.00713353],\n",
       "       [65.1987307 ],\n",
       "       [63.12897088],\n",
       "       [39.3301964 ],\n",
       "       [48.41547164],\n",
       "       [31.5545927 ],\n",
       "       [64.96946508],\n",
       "       [44.93217597],\n",
       "       [33.96809558],\n",
       "       [45.12762723],\n",
       "       [48.69346626],\n",
       "       [72.37035465],\n",
       "       [52.74665562],\n",
       "       [22.97889053],\n",
       "       [49.6134954 ]])"
      ]
     },
     "execution_count": 68,
     "metadata": {},
     "output_type": "execute_result"
    }
   ],
   "source": [
    "# 也可以用reshape\n",
    "A.reshape(100, 1)"
   ]
  },
  {
   "cell_type": "code",
   "execution_count": 69,
   "metadata": {},
   "outputs": [
    {
     "data": {
      "text/plain": [
       "(100, 1)"
      ]
     },
     "execution_count": 69,
     "metadata": {},
     "output_type": "execute_result"
    }
   ],
   "source": [
    "A.shape"
   ]
  },
  {
   "cell_type": "markdown",
   "metadata": {},
   "source": [
    "#### 冒險旅程31"
   ]
  },
  {
   "cell_type": "code",
   "execution_count": 82,
   "metadata": {},
   "outputs": [],
   "source": [
    "arr = np.array([x for x in range(30)])"
   ]
  },
  {
   "cell_type": "code",
   "execution_count": 83,
   "metadata": {},
   "outputs": [
    {
     "data": {
      "text/plain": [
       "array([ 0,  1,  2,  3,  4,  5,  6,  7,  8,  9, 10, 11, 12, 13, 14, 15, 16,\n",
       "       17, 18, 19, 20, 21, 22, 23, 24, 25, 26, 27, 28, 29])"
      ]
     },
     "execution_count": 83,
     "metadata": {},
     "output_type": "execute_result"
    }
   ],
   "source": [
    "arr"
   ]
  },
  {
   "cell_type": "code",
   "execution_count": 84,
   "metadata": {},
   "outputs": [
    {
     "data": {
      "text/plain": [
       "(30,)"
      ]
     },
     "execution_count": 84,
     "metadata": {},
     "output_type": "execute_result"
    }
   ],
   "source": [
    "arr.shape"
   ]
  },
  {
   "cell_type": "code",
   "execution_count": 85,
   "metadata": {},
   "outputs": [],
   "source": [
    "arr.shape = (5, 2, 3)"
   ]
  },
  {
   "cell_type": "code",
   "execution_count": 86,
   "metadata": {},
   "outputs": [
    {
     "data": {
      "text/plain": [
       "array([[[ 0,  1,  2],\n",
       "        [ 3,  4,  5]],\n",
       "\n",
       "       [[ 6,  7,  8],\n",
       "        [ 9, 10, 11]],\n",
       "\n",
       "       [[12, 13, 14],\n",
       "        [15, 16, 17]],\n",
       "\n",
       "       [[18, 19, 20],\n",
       "        [21, 22, 23]],\n",
       "\n",
       "       [[24, 25, 26],\n",
       "        [27, 28, 29]]])"
      ]
     },
     "execution_count": 86,
     "metadata": {},
     "output_type": "execute_result"
    }
   ],
   "source": [
    "arr"
   ]
  },
  {
   "cell_type": "code",
   "execution_count": 87,
   "metadata": {},
   "outputs": [],
   "source": [
    "arr.shape = (5, 6)"
   ]
  },
  {
   "cell_type": "code",
   "execution_count": 88,
   "metadata": {},
   "outputs": [
    {
     "data": {
      "text/plain": [
       "array([[ 0,  1,  2,  3,  4,  5],\n",
       "       [ 6,  7,  8,  9, 10, 11],\n",
       "       [12, 13, 14, 15, 16, 17],\n",
       "       [18, 19, 20, 21, 22, 23],\n",
       "       [24, 25, 26, 27, 28, 29]])"
      ]
     },
     "execution_count": 88,
     "metadata": {},
     "output_type": "execute_result"
    }
   ],
   "source": [
    "arr"
   ]
  },
  {
   "cell_type": "markdown",
   "metadata": {},
   "source": [
    "### 32. `array`快速生成法"
   ]
  },
  {
   "cell_type": "code",
   "execution_count": 78,
   "metadata": {},
   "outputs": [],
   "source": [
    "# 先生成list再生成一個array\n",
    "xy = [[x, y] for x in range(5) for y in range(3)]"
   ]
  },
  {
   "cell_type": "code",
   "execution_count": 79,
   "metadata": {},
   "outputs": [
    {
     "data": {
      "text/plain": [
       "[[0, 0],\n",
       " [0, 1],\n",
       " [0, 2],\n",
       " [1, 0],\n",
       " [1, 1],\n",
       " [1, 2],\n",
       " [2, 0],\n",
       " [2, 1],\n",
       " [2, 2],\n",
       " [3, 0],\n",
       " [3, 1],\n",
       " [3, 2],\n",
       " [4, 0],\n",
       " [4, 1],\n",
       " [4, 2]]"
      ]
     },
     "execution_count": 79,
     "metadata": {},
     "output_type": "execute_result"
    }
   ],
   "source": [
    "xy"
   ]
  },
  {
   "cell_type": "code",
   "execution_count": 80,
   "metadata": {},
   "outputs": [],
   "source": [
    "xy = np.array(xy)"
   ]
  },
  {
   "cell_type": "code",
   "execution_count": 81,
   "metadata": {},
   "outputs": [
    {
     "data": {
      "text/plain": [
       "array([[0, 0],\n",
       "       [0, 1],\n",
       "       [0, 2],\n",
       "       [1, 0],\n",
       "       [1, 1],\n",
       "       [1, 2],\n",
       "       [2, 0],\n",
       "       [2, 1],\n",
       "       [2, 2],\n",
       "       [3, 0],\n",
       "       [3, 1],\n",
       "       [3, 2],\n",
       "       [4, 0],\n",
       "       [4, 1],\n",
       "       [4, 2]])"
      ]
     },
     "execution_count": 81,
     "metadata": {},
     "output_type": "execute_result"
    }
   ],
   "source": [
    "xy"
   ]
  },
  {
   "cell_type": "code",
   "execution_count": 89,
   "metadata": {},
   "outputs": [
    {
     "data": {
      "text/plain": [
       "array([0., 0., 0., 0., 0., 0., 0., 0., 0., 0.])"
      ]
     },
     "execution_count": 89,
     "metadata": {},
     "output_type": "execute_result"
    }
   ],
   "source": [
    "np.zeros(10)"
   ]
  },
  {
   "cell_type": "code",
   "execution_count": 90,
   "metadata": {},
   "outputs": [
    {
     "data": {
      "text/plain": [
       "array([[0., 0., 0., 0.],\n",
       "       [0., 0., 0., 0.],\n",
       "       [0., 0., 0., 0.]])"
      ]
     },
     "execution_count": 90,
     "metadata": {},
     "output_type": "execute_result"
    }
   ],
   "source": [
    "np.zeros((3, 4))"
   ]
  },
  {
   "cell_type": "code",
   "execution_count": 91,
   "metadata": {},
   "outputs": [
    {
     "data": {
      "text/plain": [
       "array([[[0., 0., 0., 0.],\n",
       "        [0., 0., 0., 0.],\n",
       "        [0., 0., 0., 0.]],\n",
       "\n",
       "       [[0., 0., 0., 0.],\n",
       "        [0., 0., 0., 0.],\n",
       "        [0., 0., 0., 0.]]])"
      ]
     },
     "execution_count": 91,
     "metadata": {},
     "output_type": "execute_result"
    }
   ],
   "source": [
    "np.zeros((2, 3, 4))"
   ]
  },
  {
   "cell_type": "code",
   "execution_count": 93,
   "metadata": {},
   "outputs": [
    {
     "data": {
      "text/plain": [
       "array([1., 1., 1., 1., 1., 1., 1., 1., 1., 1.])"
      ]
     },
     "execution_count": 93,
     "metadata": {},
     "output_type": "execute_result"
    }
   ],
   "source": [
    "np.ones(10)"
   ]
  },
  {
   "cell_type": "code",
   "execution_count": 94,
   "metadata": {},
   "outputs": [
    {
     "data": {
      "text/plain": [
       "array([[1., 1., 1., 1.],\n",
       "       [1., 1., 1., 1.],\n",
       "       [1., 1., 1., 1.]])"
      ]
     },
     "execution_count": 94,
     "metadata": {},
     "output_type": "execute_result"
    }
   ],
   "source": [
    "np.ones((3, 4))"
   ]
  },
  {
   "cell_type": "code",
   "execution_count": 95,
   "metadata": {},
   "outputs": [
    {
     "data": {
      "text/plain": [
       "array([[[1., 1., 1., 1.],\n",
       "        [1., 1., 1., 1.],\n",
       "        [1., 1., 1., 1.]],\n",
       "\n",
       "       [[1., 1., 1., 1.],\n",
       "        [1., 1., 1., 1.],\n",
       "        [1., 1., 1., 1.]]])"
      ]
     },
     "execution_count": 95,
     "metadata": {},
     "output_type": "execute_result"
    }
   ],
   "source": [
    "np.ones((2, 3, 4))"
   ]
  },
  {
   "cell_type": "code",
   "execution_count": 97,
   "metadata": {},
   "outputs": [
    {
     "data": {
      "text/plain": [
       "array([[1., 0., 0., 0., 0.],\n",
       "       [0., 1., 0., 0., 0.],\n",
       "       [0., 0., 1., 0., 0.],\n",
       "       [0., 0., 0., 1., 0.],\n",
       "       [0., 0., 0., 0., 1.]])"
      ]
     },
     "execution_count": 97,
     "metadata": {},
     "output_type": "execute_result"
    }
   ],
   "source": [
    "# Identity單位矩陣，對角線位置都是1，其餘皆是0的矩陣\n",
    "np.eye(5)"
   ]
  },
  {
   "cell_type": "markdown",
   "metadata": {},
   "source": [
    "#### 冒險旅程32"
   ]
  },
  {
   "cell_type": "code",
   "execution_count": 98,
   "metadata": {},
   "outputs": [
    {
     "data": {
      "text/plain": [
       "array([[0., 0., 0., 0., 0., 0., 0., 0.],\n",
       "       [0., 0., 0., 0., 0., 0., 0., 0.],\n",
       "       [0., 0., 0., 0., 0., 0., 0., 0.],\n",
       "       [0., 0., 0., 0., 0., 0., 0., 0.],\n",
       "       [0., 0., 0., 0., 0., 0., 0., 0.],\n",
       "       [0., 0., 0., 0., 0., 0., 0., 0.],\n",
       "       [0., 0., 0., 0., 0., 0., 0., 0.],\n",
       "       [0., 0., 0., 0., 0., 0., 0., 0.]])"
      ]
     },
     "execution_count": 98,
     "metadata": {},
     "output_type": "execute_result"
    }
   ],
   "source": [
    "np.zeros((8,8))"
   ]
  },
  {
   "cell_type": "code",
   "execution_count": 99,
   "metadata": {},
   "outputs": [],
   "source": [
    "even = np.array([0, 1, 0, 1, 0, 1, 0, 1])\n",
    "odd = np.array([1, 0, 1, 0, 1, 0, 1, 0])"
   ]
  },
  {
   "cell_type": "code",
   "execution_count": 108,
   "metadata": {},
   "outputs": [],
   "source": [
    "A = np.zeros((8,8)) + (even, odd, even, odd, even, odd, even, odd)"
   ]
  },
  {
   "cell_type": "code",
   "execution_count": 109,
   "metadata": {},
   "outputs": [
    {
     "data": {
      "text/plain": [
       "array([[0., 1., 0., 1., 0., 1., 0., 1.],\n",
       "       [1., 0., 1., 0., 1., 0., 1., 0.],\n",
       "       [0., 1., 0., 1., 0., 1., 0., 1.],\n",
       "       [1., 0., 1., 0., 1., 0., 1., 0.],\n",
       "       [0., 1., 0., 1., 0., 1., 0., 1.],\n",
       "       [1., 0., 1., 0., 1., 0., 1., 0.],\n",
       "       [0., 1., 0., 1., 0., 1., 0., 1.],\n",
       "       [1., 0., 1., 0., 1., 0., 1., 0.]])"
      ]
     },
     "execution_count": 109,
     "metadata": {},
     "output_type": "execute_result"
    }
   ],
   "source": [
    "A"
   ]
  },
  {
   "cell_type": "code",
   "execution_count": 116,
   "metadata": {},
   "outputs": [
    {
     "name": "stdout",
     "output_type": "stream",
     "text": [
      "□\n",
      "□\n",
      "□\n",
      "□\n",
      "□\n",
      "□\n",
      "□\n",
      "□\n"
     ]
    }
   ],
   "source": [
    "for i in A:\n",
    "    if i.all() == 1:\n",
    "        print(\"■\")\n",
    "    else:\n",
    "        print(\"□\")"
   ]
  },
  {
   "cell_type": "code",
   "execution_count": 117,
   "metadata": {},
   "outputs": [
    {
     "data": {
      "text/plain": [
       "<matplotlib.image.AxesImage at 0x17028e20648>"
      ]
     },
     "execution_count": 117,
     "metadata": {},
     "output_type": "execute_result"
    },
    {
     "data": {
      "image/png": "[encoded data removed]",
      "text/plain": [
       "<Figure size 432x288 with 1 Axes>"
      ]
     },
     "metadata": {
      "needs_background": "light"
     },
     "output_type": "display_data"
    }
   ],
   "source": [
    "b1 = np.array([[(0,0,0),(255,255,255),(0,0,0),(255,255,255)]])#构建第一行的一半\n",
    "b2 = np.array([[(255,255,255),(0,0,0),(255,255,255),(0,0,0)]])#构建第二行的一半\n",
    "b3=np.vstack((b1,b2))#组合成可循环利用的部分\n",
    "b4=np.vstack((b3,b3))#构造出棋盘的1/4\n",
    "b5=np.hstack((b4,b4))#构造出棋盘的1/2\n",
    "b6=np.vstack((b5,b5))#构造出完整的棋盘\n",
    "plt.imshow(b6)"
   ]
  },
  {
   "cell_type": "code",
   "execution_count": 113,
   "metadata": {},
   "outputs": [
    {
     "data": {
      "text/plain": [
       "<matplotlib.image.AxesImage at 0x17026d21e88>"
      ]
     },
     "execution_count": 113,
     "metadata": {},
     "output_type": "execute_result"
    },
    {
     "data": {
      "image/png": "[encoded data removed]",
      "text/plain": [
       "<Figure size 432x288 with 1 Axes>"
      ]
     },
     "metadata": {
      "needs_background": "light"
     },
     "output_type": "display_data"
    }
   ],
   "source": []
  },
  {
   "cell_type": "markdown",
   "metadata": {},
   "source": [
    "### 33. `array`畫圖超方便"
   ]
  },
  {
   "cell_type": "code",
   "execution_count": 118,
   "metadata": {},
   "outputs": [],
   "source": [
    "# 取0到1之間的50個亂數\n",
    "y = np.random.rand(50)"
   ]
  },
  {
   "cell_type": "code",
   "execution_count": 119,
   "metadata": {},
   "outputs": [
    {
     "data": {
      "text/plain": [
       "array([0.11989832, 0.40619185, 0.41028373, 0.65703443, 0.19924544,\n",
       "       0.4572716 , 0.84499107, 0.03562372, 0.40698993, 0.36334962,\n",
       "       0.49291392, 0.16796788, 0.08921936, 0.3210151 , 0.01411476,\n",
       "       0.80129699, 0.12370083, 0.45652845, 0.09987   , 0.92733525,\n",
       "       0.57896152, 0.01858677, 0.82917765, 0.78789697, 0.67897196,\n",
       "       0.97232605, 0.23847541, 0.25365422, 0.32976813, 0.51792242,\n",
       "       0.95621712, 0.46220599, 0.50557137, 0.72683585, 0.28020423,\n",
       "       0.00502457, 0.92954894, 0.43427993, 0.53930354, 0.23574757,\n",
       "       0.10769217, 0.87565619, 0.70457073, 0.98536974, 0.45614275,\n",
       "       0.58067946, 0.99088707, 0.93340872, 0.09982111, 0.50982875])"
      ]
     },
     "execution_count": 119,
     "metadata": {},
     "output_type": "execute_result"
    }
   ],
   "source": [
    "y"
   ]
  },
  {
   "cell_type": "code",
   "execution_count": 120,
   "metadata": {},
   "outputs": [
    {
     "data": {
      "text/plain": [
       "[<matplotlib.lines.Line2D at 0x17028e61d88>]"
      ]
     },
     "execution_count": 120,
     "metadata": {},
     "output_type": "execute_result"
    },
    {
     "data": {
      "image/png": "[encoded data removed]",
      "text/plain": [
       "<Figure size 432x288 with 1 Axes>"
      ]
     },
     "metadata": {
      "needs_background": "light"
     },
     "output_type": "display_data"
    }
   ],
   "source": [
    "plt.plot(y)"
   ]
  },
  {
   "cell_type": "code",
   "execution_count": 121,
   "metadata": {},
   "outputs": [],
   "source": [
    "x = np.linspace(0, 20, 100)"
   ]
  },
  {
   "cell_type": "code",
   "execution_count": 122,
   "metadata": {},
   "outputs": [
    {
     "data": {
      "text/plain": [
       "[<matplotlib.lines.Line2D at 0x17028e71708>]"
      ]
     },
     "execution_count": 122,
     "metadata": {},
     "output_type": "execute_result"
    },
    {
     "data": {
      "image/png": "[encoded data removed]",
      "text/plain": [
       "<Figure size 432x288 with 1 Axes>"
      ]
     },
     "metadata": {
      "needs_background": "light"
     },
     "output_type": "display_data"
    }
   ],
   "source": [
    "plt.plot(x, np.sin(x))"
   ]
  },
  {
   "cell_type": "code",
   "execution_count": 123,
   "metadata": {},
   "outputs": [
    {
     "data": {
      "text/plain": [
       "[<matplotlib.lines.Line2D at 0x17028f47b08>]"
      ]
     },
     "execution_count": 123,
     "metadata": {},
     "output_type": "execute_result"
    },
    {
     "data": {
      "image/png": "[encoded data removed]",
      "text/plain": [
       "<Figure size 432x288 with 1 Axes>"
      ]
     },
     "metadata": {
      "needs_background": "light"
     },
     "output_type": "display_data"
    }
   ],
   "source": [
    "plt.plot(x, np.sin(x) + x)\n",
    "plt.plot(x, np.cos(x) - x)"
   ]
  },
  {
   "cell_type": "code",
   "execution_count": 125,
   "metadata": {},
   "outputs": [
    {
     "data": {
      "text/plain": [
       "[<matplotlib.lines.Line2D at 0x170290aef48>]"
      ]
     },
     "execution_count": 125,
     "metadata": {},
     "output_type": "execute_result"
    },
    {
     "data": {
      "image/png": "[encoded data removed]",
      "text/plain": [
       "<Figure size 432x288 with 2 Axes>"
      ]
     },
     "metadata": {
      "needs_background": "light"
     },
     "output_type": "display_data"
    }
   ],
   "source": [
    "x = np.linspace(0, 20, 100)\n",
    "\n",
    "plt.subplot(121)\n",
    "plt.plot(x, np.sin(x) + x)\n",
    "\n",
    "plt.subplot(122)\n",
    "plt.plot(x, np.cos(x) - x, c='r')"
   ]
  },
  {
   "cell_type": "markdown",
   "metadata": {},
   "source": [
    "### 34. `array`快篩法"
   ]
  },
  {
   "cell_type": "code",
   "execution_count": 126,
   "metadata": {},
   "outputs": [],
   "source": [
    "L = np.array([-2, -1, 5, 8, 4, 87, -3])"
   ]
  },
  {
   "cell_type": "code",
   "execution_count": 127,
   "metadata": {},
   "outputs": [
    {
     "data": {
      "text/plain": [
       "array([False, False,  True,  True,  True,  True, False])"
      ]
     },
     "execution_count": 127,
     "metadata": {},
     "output_type": "execute_result"
    }
   ],
   "source": [
    "L > 0"
   ]
  },
  {
   "cell_type": "code",
   "execution_count": 128,
   "metadata": {},
   "outputs": [
    {
     "data": {
      "text/plain": [
       "array([ 5,  8,  4, 87])"
      ]
     },
     "execution_count": 128,
     "metadata": {},
     "output_type": "execute_result"
    }
   ],
   "source": [
    "L[L > 0]"
   ]
  },
  {
   "cell_type": "code",
   "execution_count": 129,
   "metadata": {},
   "outputs": [
    {
     "data": {
      "text/plain": [
       "array([ True,  True,  True, False,  True,  True,  True])"
      ]
     },
     "execution_count": 129,
     "metadata": {},
     "output_type": "execute_result"
    }
   ],
   "source": [
    "L != 8"
   ]
  },
  {
   "cell_type": "code",
   "execution_count": 130,
   "metadata": {},
   "outputs": [
    {
     "data": {
      "text/plain": [
       "array([False, False,  True, False,  True,  True, False])"
      ]
     },
     "execution_count": 130,
     "metadata": {},
     "output_type": "execute_result"
    }
   ],
   "source": [
    "(L > 0) & (L != 8)"
   ]
  },
  {
   "cell_type": "code",
   "execution_count": 131,
   "metadata": {},
   "outputs": [
    {
     "data": {
      "text/plain": [
       "array([ 5,  4, 87])"
      ]
     },
     "execution_count": 131,
     "metadata": {},
     "output_type": "execute_result"
    }
   ],
   "source": [
    "L[(L > 0) & (L != 8)]"
   ]
  },
  {
   "cell_type": "code",
   "execution_count": 133,
   "metadata": {},
   "outputs": [
    {
     "data": {
      "text/plain": [
       "[<matplotlib.lines.Line2D at 0x17029064ac8>]"
      ]
     },
     "execution_count": 133,
     "metadata": {},
     "output_type": "execute_result"
    },
    {
     "data": {
      "image/png": "[encoded data removed]",
      "text/plain": [
       "<Figure size 432x288 with 1 Axes>"
      ]
     },
     "metadata": {
      "needs_background": "light"
     },
     "output_type": "display_data"
    }
   ],
   "source": [
    "x = np.linspace(-5, 5, 1000)\n",
    "y = np.sinc(x)\n",
    "plt.plot(x, y)"
   ]
  },
  {
   "cell_type": "code",
   "execution_count": 144,
   "metadata": {},
   "outputs": [],
   "source": [
    "x1 = np.linspace(-5, 5, 1000)\n",
    "x2 = np.random.randint(-5, 5, 1000)"
   ]
  },
  {
   "cell_type": "code",
   "execution_count": 145,
   "metadata": {},
   "outputs": [
    {
     "data": {
      "text/plain": [
       "[<matplotlib.lines.Line2D at 0x1702a22b088>]"
      ]
     },
     "execution_count": 145,
     "metadata": {},
     "output_type": "execute_result"
    },
    {
     "data": {
      "image/png": "[encoded data removed]",
      "text/plain": [
       "<Figure size 432x288 with 1 Axes>"
      ]
     },
     "metadata": {
      "needs_background": "light"
     },
     "output_type": "display_data"
    }
   ],
   "source": [
    "plt.plot(np.sin(x1))\n",
    "plt.plot(np.sin(x2))"
   ]
  },
  {
   "cell_type": "code",
   "execution_count": 150,
   "metadata": {},
   "outputs": [
    {
     "data": {
      "text/plain": [
       "[<matplotlib.lines.Line2D at 0x1702c81f288>]"
      ]
     },
     "execution_count": 150,
     "metadata": {},
     "output_type": "execute_result"
    },
    {
     "data": {
      "image/png": "[encoded data removed]",
      "text/plain": [
       "<Figure size 432x288 with 1 Axes>"
      ]
     },
     "metadata": {
      "needs_background": "light"
     },
     "output_type": "display_data"
    }
   ],
   "source": [
    "x = np.linspace(-5, 5, 1000)\n",
    "y = np.sinc(x)\n",
    "plt.plot(x, y)\n",
    "plt.plot(x[y>0], y[y>0], 'o')"
   ]
  },
  {
   "cell_type": "code",
   "execution_count": null,
   "metadata": {},
   "outputs": [],
   "source": []
  }
 ],
 "metadata": {
  "kernelspec": {
   "display_name": "Python 3",
   "language": "python",
   "name": "python3"
  },
  "language_info": {
   "codemirror_mode": {
    "name": "ipython",
    "version": 3
   },
   "file_extension": ".py",
   "mimetype": "text/x-python",
   "name": "python",
   "nbconvert_exporter": "python",
   "pygments_lexer": "ipython3",
   "version": "3.8.10"
  }
 },
 "nbformat": 4,
 "nbformat_minor": 4
}
