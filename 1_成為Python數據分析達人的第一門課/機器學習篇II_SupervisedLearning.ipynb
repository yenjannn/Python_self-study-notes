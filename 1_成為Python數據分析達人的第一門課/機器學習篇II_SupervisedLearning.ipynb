{
 "cells": [
  {
   "cell_type": "markdown",
   "metadata": {},
   "source": [
    "## 機器學習篇II_SupervisedLearning"
   ]
  },
  {
   "cell_type": "code",
   "execution_count": 1,
   "metadata": {
    "executionInfo": {
     "elapsed": 1868,
     "status": "ok",
     "timestamp": 1618941797458,
     "user": {
      "displayName": "Jan Yen",
      "photoUrl": "https://lh3.googleusercontent.com/a-/AOh14GiEUcKh1lvExp7D0ED6IfG2RriLc45wIcsD4mgxfw=s64",
      "userId": "15916279064513599848"
     },
     "user_tz": -480
    },
    "id": "pLfXXNJFcodf"
   },
   "outputs": [],
   "source": [
    "%matplotlib inline\n",
    "import numpy as np\n",
    "import matplotlib.pyplot as plt"
   ]
  },
  {
   "cell_type": "code",
   "execution_count": 2,
   "metadata": {
    "executionInfo": {
     "elapsed": 955,
     "status": "ok",
     "timestamp": 1618941872664,
     "user": {
      "displayName": "Jan Yen",
      "photoUrl": "https://lh3.googleusercontent.com/a-/AOh14GiEUcKh1lvExp7D0ED6IfG2RriLc45wIcsD4mgxfw=s64",
      "userId": "15916279064513599848"
     },
     "user_tz": -480
    },
    "id": "zhYXMJK-czNG"
   },
   "outputs": [],
   "source": [
    "X = np.array([[-3, 2], [-6, 5], [3, -4], [2, -8]])\n",
    "Y = np.array([1, 1, 2, 2])"
   ]
  },
  {
   "cell_type": "code",
   "execution_count": 3,
   "metadata": {
    "colab": {
     "base_uri": "https://localhost:8080/",
     "height": 283
    },
    "executionInfo": {
     "elapsed": 1343,
     "status": "ok",
     "timestamp": 1618941951534,
     "user": {
      "displayName": "Jan Yen",
      "photoUrl": "https://lh3.googleusercontent.com/a-/AOh14GiEUcKh1lvExp7D0ED6IfG2RriLc45wIcsD4mgxfw=s64",
      "userId": "15916279064513599848"
     },
     "user_tz": -480
    },
    "id": "4CsLc02gdIXY",
    "outputId": "5b6da077-55de-42eb-c549-4d6fc9624c8d"
   },
   "outputs": [
    {
     "data": {
      "text/plain": [
       "<matplotlib.collections.PathCollection at 0x1fe70a42c40>"
      ]
     },
     "execution_count": 3,
     "metadata": {},
     "output_type": "execute_result"
    },
    {
     "data": {
      "image/png": "[encoded data removed]",
      "text/plain": [
       "<Figure size 432x288 with 1 Axes>"
      ]
     },
     "metadata": {
      "needs_background": "light"
     },
     "output_type": "display_data"
    }
   ],
   "source": [
    "plt.scatter(x=X[:, 0], y=X[:, 1], c=Y, cmap='Paired')"
   ]
  },
  {
   "cell_type": "code",
   "execution_count": 4,
   "metadata": {
    "colab": {
     "base_uri": "https://localhost:8080/"
    },
    "executionInfo": {
     "elapsed": 1459,
     "status": "ok",
     "timestamp": 1618942000236,
     "user": {
      "displayName": "Jan Yen",
      "photoUrl": "https://lh3.googleusercontent.com/a-/AOh14GiEUcKh1lvExp7D0ED6IfG2RriLc45wIcsD4mgxfw=s64",
      "userId": "15916279064513599848"
     },
     "user_tz": -480
    },
    "id": "e8hyPzcydbix",
    "outputId": "6a698d19-326a-475e-bb67-4739de1ce5bd"
   },
   "outputs": [
    {
     "data": {
      "text/plain": [
       "SVC(gamma='auto')"
      ]
     },
     "execution_count": 4,
     "metadata": {},
     "output_type": "execute_result"
    }
   ],
   "source": [
    "from sklearn.svm import SVC\n",
    "clf = SVC(gamma='auto')  # 為何有gamma?而鳶尾花例子沒有\n",
    "clf.fit(X, Y)"
   ]
  },
  {
   "cell_type": "code",
   "execution_count": 5,
   "metadata": {
    "colab": {
     "base_uri": "https://localhost:8080/"
    },
    "executionInfo": {
     "elapsed": 843,
     "status": "ok",
     "timestamp": 1618942054380,
     "user": {
      "displayName": "Jan Yen",
      "photoUrl": "https://lh3.googleusercontent.com/a-/AOh14GiEUcKh1lvExp7D0ED6IfG2RriLc45wIcsD4mgxfw=s64",
      "userId": "15916279064513599848"
     },
     "user_tz": -480
    },
    "id": "3EReK7ModnZ3",
    "outputId": "bd97972f-1f59-4436-a585-f3c27edde475"
   },
   "outputs": [
    {
     "name": "stdout",
     "output_type": "stream",
     "text": [
      "[ True  True  True  True]\n"
     ]
    }
   ],
   "source": [
    "Y_pred = clf.predict(X)\n",
    "print(Y_pred == Y)"
   ]
  },
  {
   "cell_type": "code",
   "execution_count": 6,
   "metadata": {
    "colab": {
     "base_uri": "https://localhost:8080/"
    },
    "executionInfo": {
     "elapsed": 961,
     "status": "ok",
     "timestamp": 1618942094772,
     "user": {
      "displayName": "Jan Yen",
      "photoUrl": "https://lh3.googleusercontent.com/a-/AOh14GiEUcKh1lvExp7D0ED6IfG2RriLc45wIcsD4mgxfw=s64",
      "userId": "15916279064513599848"
     },
     "user_tz": -480
    },
    "id": "dGmGALbEd0xk",
    "outputId": "39d7cac4-806e-44e1-ec77-ac23e923c9c0"
   },
   "outputs": [
    {
     "name": "stdout",
     "output_type": "stream",
     "text": [
      "[1]\n"
     ]
    }
   ],
   "source": [
    "print(clf.predict([[5.4, 8.7]]))"
   ]
  },
  {
   "cell_type": "code",
   "execution_count": 7,
   "metadata": {
    "colab": {
     "base_uri": "https://localhost:8080/"
    },
    "executionInfo": {
     "elapsed": 642,
     "status": "ok",
     "timestamp": 1618942122439,
     "user": {
      "displayName": "Jan Yen",
      "photoUrl": "https://lh3.googleusercontent.com/a-/AOh14GiEUcKh1lvExp7D0ED6IfG2RriLc45wIcsD4mgxfw=s64",
      "userId": "15916279064513599848"
     },
     "user_tz": -480
    },
    "id": "SbWL_T9zd-mR",
    "outputId": "ef8f30fd-e1d1-481e-9865-3dcbe10aebdc"
   },
   "outputs": [
    {
     "name": "stdout",
     "output_type": "stream",
     "text": [
      "[2]\n"
     ]
    }
   ],
   "source": [
    "print(clf.predict([[1, -10]]))"
   ]
  },
  {
   "cell_type": "code",
   "execution_count": 8,
   "metadata": {
    "executionInfo": {
     "elapsed": 697,
     "status": "ok",
     "timestamp": 1618942441045,
     "user": {
      "displayName": "Jan Yen",
      "photoUrl": "https://lh3.googleusercontent.com/a-/AOh14GiEUcKh1lvExp7D0ED6IfG2RriLc45wIcsD4mgxfw=s64",
      "userId": "15916279064513599848"
     },
     "user_tz": -480
    },
    "id": "xPg0HdW4eLNx"
   },
   "outputs": [],
   "source": [
    "x_min, x_max, y_min, y_max = (-6, 3, -8, 5)"
   ]
  },
  {
   "cell_type": "code",
   "execution_count": 9,
   "metadata": {
    "executionInfo": {
     "elapsed": 638,
     "status": "ok",
     "timestamp": 1618942516716,
     "user": {
      "displayName": "Jan Yen",
      "photoUrl": "https://lh3.googleusercontent.com/a-/AOh14GiEUcKh1lvExp7D0ED6IfG2RriLc45wIcsD4mgxfw=s64",
      "userId": "15916279064513599848"
     },
     "user_tz": -480
    },
    "id": "kaBh8pDFfTNf"
   },
   "outputs": [],
   "source": [
    "xx = np.linspace(x_min, x_max, x_max-x_min+1)\n",
    "yy = np.linspace(y_min, y_max, y_max-y_min+1)"
   ]
  },
  {
   "cell_type": "code",
   "execution_count": 10,
   "metadata": {
    "executionInfo": {
     "elapsed": 893,
     "status": "ok",
     "timestamp": 1618942542398,
     "user": {
      "displayName": "Jan Yen",
      "photoUrl": "https://lh3.googleusercontent.com/a-/AOh14GiEUcKh1lvExp7D0ED6IfG2RriLc45wIcsD4mgxfw=s64",
      "userId": "15916279064513599848"
     },
     "user_tz": -480
    },
    "id": "GC14wlj2flsw"
   },
   "outputs": [],
   "source": [
    "xc, yc = np.meshgrid(xx, yy)"
   ]
  },
  {
   "cell_type": "code",
   "execution_count": 11,
   "metadata": {
    "colab": {
     "base_uri": "https://localhost:8080/"
    },
    "executionInfo": {
     "elapsed": 528,
     "status": "ok",
     "timestamp": 1618942544451,
     "user": {
      "displayName": "Jan Yen",
      "photoUrl": "https://lh3.googleusercontent.com/a-/AOh14GiEUcKh1lvExp7D0ED6IfG2RriLc45wIcsD4mgxfw=s64",
      "userId": "15916279064513599848"
     },
     "user_tz": -480
    },
    "id": "HoTQxGomfr5p",
    "outputId": "f712a5ba-164e-406b-c8ee-2b07dfcb30e3"
   },
   "outputs": [
    {
     "data": {
      "text/plain": [
       "array([[-6., -5., -4., -3., -2., -1.,  0.,  1.,  2.,  3.],\n",
       "       [-6., -5., -4., -3., -2., -1.,  0.,  1.,  2.,  3.],\n",
       "       [-6., -5., -4., -3., -2., -1.,  0.,  1.,  2.,  3.],\n",
       "       [-6., -5., -4., -3., -2., -1.,  0.,  1.,  2.,  3.],\n",
       "       [-6., -5., -4., -3., -2., -1.,  0.,  1.,  2.,  3.],\n",
       "       [-6., -5., -4., -3., -2., -1.,  0.,  1.,  2.,  3.],\n",
       "       [-6., -5., -4., -3., -2., -1.,  0.,  1.,  2.,  3.],\n",
       "       [-6., -5., -4., -3., -2., -1.,  0.,  1.,  2.,  3.],\n",
       "       [-6., -5., -4., -3., -2., -1.,  0.,  1.,  2.,  3.],\n",
       "       [-6., -5., -4., -3., -2., -1.,  0.,  1.,  2.,  3.],\n",
       "       [-6., -5., -4., -3., -2., -1.,  0.,  1.,  2.,  3.],\n",
       "       [-6., -5., -4., -3., -2., -1.,  0.,  1.,  2.,  3.],\n",
       "       [-6., -5., -4., -3., -2., -1.,  0.,  1.,  2.,  3.],\n",
       "       [-6., -5., -4., -3., -2., -1.,  0.,  1.,  2.,  3.]])"
      ]
     },
     "execution_count": 11,
     "metadata": {},
     "output_type": "execute_result"
    }
   ],
   "source": [
    "xc"
   ]
  },
  {
   "cell_type": "code",
   "execution_count": 12,
   "metadata": {
    "colab": {
     "base_uri": "https://localhost:8080/"
    },
    "executionInfo": {
     "elapsed": 1025,
     "status": "ok",
     "timestamp": 1618942552231,
     "user": {
      "displayName": "Jan Yen",
      "photoUrl": "https://lh3.googleusercontent.com/a-/AOh14GiEUcKh1lvExp7D0ED6IfG2RriLc45wIcsD4mgxfw=s64",
      "userId": "15916279064513599848"
     },
     "user_tz": -480
    },
    "id": "EImkXry4fsfo",
    "outputId": "39f198d3-634c-4d8d-fef5-76a74c1e73a1"
   },
   "outputs": [
    {
     "data": {
      "text/plain": [
       "array([[-8., -8., -8., -8., -8., -8., -8., -8., -8., -8.],\n",
       "       [-7., -7., -7., -7., -7., -7., -7., -7., -7., -7.],\n",
       "       [-6., -6., -6., -6., -6., -6., -6., -6., -6., -6.],\n",
       "       [-5., -5., -5., -5., -5., -5., -5., -5., -5., -5.],\n",
       "       [-4., -4., -4., -4., -4., -4., -4., -4., -4., -4.],\n",
       "       [-3., -3., -3., -3., -3., -3., -3., -3., -3., -3.],\n",
       "       [-2., -2., -2., -2., -2., -2., -2., -2., -2., -2.],\n",
       "       [-1., -1., -1., -1., -1., -1., -1., -1., -1., -1.],\n",
       "       [ 0.,  0.,  0.,  0.,  0.,  0.,  0.,  0.,  0.,  0.],\n",
       "       [ 1.,  1.,  1.,  1.,  1.,  1.,  1.,  1.,  1.,  1.],\n",
       "       [ 2.,  2.,  2.,  2.,  2.,  2.,  2.,  2.,  2.,  2.],\n",
       "       [ 3.,  3.,  3.,  3.,  3.,  3.,  3.,  3.,  3.,  3.],\n",
       "       [ 4.,  4.,  4.,  4.,  4.,  4.,  4.,  4.,  4.,  4.],\n",
       "       [ 5.,  5.,  5.,  5.,  5.,  5.,  5.,  5.,  5.,  5.]])"
      ]
     },
     "execution_count": 12,
     "metadata": {},
     "output_type": "execute_result"
    }
   ],
   "source": [
    "yc"
   ]
  },
  {
   "cell_type": "code",
   "execution_count": 13,
   "metadata": {
    "executionInfo": {
     "elapsed": 650,
     "status": "ok",
     "timestamp": 1618942578346,
     "user": {
      "displayName": "Jan Yen",
      "photoUrl": "https://lh3.googleusercontent.com/a-/AOh14GiEUcKh1lvExp7D0ED6IfG2RriLc45wIcsD4mgxfw=s64",
      "userId": "15916279064513599848"
     },
     "user_tz": -480
    },
    "id": "Y1F2ctFzfuRh"
   },
   "outputs": [],
   "source": [
    "xc = xc.ravel()\n",
    "yc = yc.ravel()"
   ]
  },
  {
   "cell_type": "code",
   "execution_count": 14,
   "metadata": {
    "colab": {
     "base_uri": "https://localhost:8080/"
    },
    "executionInfo": {
     "elapsed": 520,
     "status": "ok",
     "timestamp": 1618942580548,
     "user": {
      "displayName": "Jan Yen",
      "photoUrl": "https://lh3.googleusercontent.com/a-/AOh14GiEUcKh1lvExp7D0ED6IfG2RriLc45wIcsD4mgxfw=s64",
      "userId": "15916279064513599848"
     },
     "user_tz": -480
    },
    "id": "v9fuXolFfyWQ",
    "outputId": "60a6a6ba-209f-4fc1-b105-ae9aa40c6390"
   },
   "outputs": [
    {
     "data": {
      "text/plain": [
       "array([-6., -5., -4., -3., -2., -1.,  0.,  1.,  2.,  3., -6., -5., -4.,\n",
       "       -3., -2., -1.,  0.,  1.,  2.,  3., -6., -5., -4., -3., -2., -1.,\n",
       "        0.,  1.,  2.,  3., -6., -5., -4., -3., -2., -1.,  0.,  1.,  2.,\n",
       "        3., -6., -5., -4., -3., -2., -1.,  0.,  1.,  2.,  3., -6., -5.,\n",
       "       -4., -3., -2., -1.,  0.,  1.,  2.,  3., -6., -5., -4., -3., -2.,\n",
       "       -1.,  0.,  1.,  2.,  3., -6., -5., -4., -3., -2., -1.,  0.,  1.,\n",
       "        2.,  3., -6., -5., -4., -3., -2., -1.,  0.,  1.,  2.,  3., -6.,\n",
       "       -5., -4., -3., -2., -1.,  0.,  1.,  2.,  3., -6., -5., -4., -3.,\n",
       "       -2., -1.,  0.,  1.,  2.,  3., -6., -5., -4., -3., -2., -1.,  0.,\n",
       "        1.,  2.,  3., -6., -5., -4., -3., -2., -1.,  0.,  1.,  2.,  3.,\n",
       "       -6., -5., -4., -3., -2., -1.,  0.,  1.,  2.,  3.])"
      ]
     },
     "execution_count": 14,
     "metadata": {},
     "output_type": "execute_result"
    }
   ],
   "source": [
    "xc"
   ]
  },
  {
   "cell_type": "code",
   "execution_count": 15,
   "metadata": {
    "colab": {
     "base_uri": "https://localhost:8080/"
    },
    "executionInfo": {
     "elapsed": 1056,
     "status": "ok",
     "timestamp": 1618942596056,
     "user": {
      "displayName": "Jan Yen",
      "photoUrl": "https://lh3.googleusercontent.com/a-/AOh14GiEUcKh1lvExp7D0ED6IfG2RriLc45wIcsD4mgxfw=s64",
      "userId": "15916279064513599848"
     },
     "user_tz": -480
    },
    "id": "q3JBRN6Af1UD",
    "outputId": "627b573c-120b-469c-b17c-10de190e9467"
   },
   "outputs": [
    {
     "data": {
      "text/plain": [
       "array([-8., -8., -8., -8., -8., -8., -8., -8., -8., -8., -7., -7., -7.,\n",
       "       -7., -7., -7., -7., -7., -7., -7., -6., -6., -6., -6., -6., -6.,\n",
       "       -6., -6., -6., -6., -5., -5., -5., -5., -5., -5., -5., -5., -5.,\n",
       "       -5., -4., -4., -4., -4., -4., -4., -4., -4., -4., -4., -3., -3.,\n",
       "       -3., -3., -3., -3., -3., -3., -3., -3., -2., -2., -2., -2., -2.,\n",
       "       -2., -2., -2., -2., -2., -1., -1., -1., -1., -1., -1., -1., -1.,\n",
       "       -1., -1.,  0.,  0.,  0.,  0.,  0.,  0.,  0.,  0.,  0.,  0.,  1.,\n",
       "        1.,  1.,  1.,  1.,  1.,  1.,  1.,  1.,  1.,  2.,  2.,  2.,  2.,\n",
       "        2.,  2.,  2.,  2.,  2.,  2.,  3.,  3.,  3.,  3.,  3.,  3.,  3.,\n",
       "        3.,  3.,  3.,  4.,  4.,  4.,  4.,  4.,  4.,  4.,  4.,  4.,  4.,\n",
       "        5.,  5.,  5.,  5.,  5.,  5.,  5.,  5.,  5.,  5.])"
      ]
     },
     "execution_count": 15,
     "metadata": {},
     "output_type": "execute_result"
    }
   ],
   "source": [
    "yc"
   ]
  },
  {
   "cell_type": "code",
   "execution_count": 16,
   "metadata": {
    "colab": {
     "base_uri": "https://localhost:8080/",
     "height": 283
    },
    "executionInfo": {
     "elapsed": 1191,
     "status": "ok",
     "timestamp": 1618942652751,
     "user": {
      "displayName": "Jan Yen",
      "photoUrl": "https://lh3.googleusercontent.com/a-/AOh14GiEUcKh1lvExp7D0ED6IfG2RriLc45wIcsD4mgxfw=s64",
      "userId": "15916279064513599848"
     },
     "user_tz": -480
    },
    "id": "mtm63Y-Nf494",
    "outputId": "c9873b72-4302-4ace-bb61-cf23fea6186b"
   },
   "outputs": [
    {
     "data": {
      "text/plain": [
       "<matplotlib.collections.PathCollection at 0x1fe726d2190>"
      ]
     },
     "execution_count": 16,
     "metadata": {},
     "output_type": "execute_result"
    },
    {
     "data": {
      "image/png": "[encoded data removed]",
      "text/plain": [
       "<Figure size 432x288 with 1 Axes>"
      ]
     },
     "metadata": {
      "needs_background": "light"
     },
     "output_type": "display_data"
    }
   ],
   "source": [
    "plt.scatter(xc, yc)"
   ]
  },
  {
   "cell_type": "code",
   "execution_count": 17,
   "metadata": {
    "colab": {
     "base_uri": "https://localhost:8080/",
     "height": 265
    },
    "executionInfo": {
     "elapsed": 951,
     "status": "ok",
     "timestamp": 1618942656436,
     "user": {
      "displayName": "Jan Yen",
      "photoUrl": "https://lh3.googleusercontent.com/a-/AOh14GiEUcKh1lvExp7D0ED6IfG2RriLc45wIcsD4mgxfw=s64",
      "userId": "15916279064513599848"
     },
     "user_tz": -480
    },
    "id": "LwNSssCSf__j",
    "outputId": "8b45379c-6bc1-4a32-a75d-b7d441aa1757"
   },
   "outputs": [
    {
     "data": {
      "image/png": "[encoded data removed]",
      "text/plain": [
       "<Figure size 432x288 with 1 Axes>"
      ]
     },
     "metadata": {
      "needs_background": "light"
     },
     "output_type": "display_data"
    }
   ],
   "source": [
    "plt.scatter(xc, yc)\n",
    "plt.show()"
   ]
  },
  {
   "cell_type": "code",
   "execution_count": 18,
   "metadata": {
    "colab": {
     "base_uri": "https://localhost:8080/"
    },
    "executionInfo": {
     "elapsed": 696,
     "status": "ok",
     "timestamp": 1618942709450,
     "user": {
      "displayName": "Jan Yen",
      "photoUrl": "https://lh3.googleusercontent.com/a-/AOh14GiEUcKh1lvExp7D0ED6IfG2RriLc45wIcsD4mgxfw=s64",
      "userId": "15916279064513599848"
     },
     "user_tz": -480
    },
    "id": "ST_CcM6XgBo1",
    "outputId": "bcfaf18d-b277-4f2f-e17a-f70dbc406251"
   },
   "outputs": [
    {
     "data": {
      "text/plain": [
       "((10,), (14,), (140,), (140,))"
      ]
     },
     "execution_count": 18,
     "metadata": {},
     "output_type": "execute_result"
    }
   ],
   "source": [
    "xx.shape, yy.shape, xc.shape, yc.shape  # ravel後的xc,yc"
   ]
  },
  {
   "cell_type": "code",
   "execution_count": 19,
   "metadata": {
    "colab": {
     "base_uri": "https://localhost:8080/"
    },
    "executionInfo": {
     "elapsed": 1087,
     "status": "ok",
     "timestamp": 1618942911297,
     "user": {
      "displayName": "Jan Yen",
      "photoUrl": "https://lh3.googleusercontent.com/a-/AOh14GiEUcKh1lvExp7D0ED6IfG2RriLc45wIcsD4mgxfw=s64",
      "userId": "15916279064513599848"
     },
     "user_tz": -480
    },
    "id": "GHzAS4kzgUtm",
    "outputId": "c847ef5c-ae24-46d9-c22e-77eac9f0e84b"
   },
   "outputs": [
    {
     "data": {
      "text/plain": [
       "[(1, 4), (2, 5), (3, 6)]"
      ]
     },
     "execution_count": 19,
     "metadata": {},
     "output_type": "execute_result"
    }
   ],
   "source": [
    "# 利用zip將list形式的變數合併起來(所以array也可以用)，舉例：\n",
    "\n",
    "A = [1, 2, 3]\n",
    "B = [4, 5, 6]\n",
    "\n",
    "list(zip(A, B))"
   ]
  },
  {
   "cell_type": "code",
   "execution_count": 20,
   "metadata": {
    "colab": {
     "base_uri": "https://localhost:8080/"
    },
    "executionInfo": {
     "elapsed": 703,
     "status": "ok",
     "timestamp": 1618942971443,
     "user": {
      "displayName": "Jan Yen",
      "photoUrl": "https://lh3.googleusercontent.com/a-/AOh14GiEUcKh1lvExp7D0ED6IfG2RriLc45wIcsD4mgxfw=s64",
      "userId": "15916279064513599848"
     },
     "user_tz": -480
    },
    "id": "MalThhcVhF6R",
    "outputId": "ddaf5b38-7463-463e-91e7-d1cbf93d94f6"
   },
   "outputs": [
    {
     "data": {
      "text/plain": [
       "[(-6.0, -8.0),\n",
       " (-5.0, -8.0),\n",
       " (-4.0, -8.0),\n",
       " (-3.0, -8.0),\n",
       " (-2.0, -8.0),\n",
       " (-1.0, -8.0),\n",
       " (0.0, -8.0),\n",
       " (1.0, -8.0),\n",
       " (2.0, -8.0),\n",
       " (3.0, -8.0),\n",
       " (-6.0, -7.0),\n",
       " (-5.0, -7.0),\n",
       " (-4.0, -7.0),\n",
       " (-3.0, -7.0),\n",
       " (-2.0, -7.0),\n",
       " (-1.0, -7.0),\n",
       " (0.0, -7.0),\n",
       " (1.0, -7.0),\n",
       " (2.0, -7.0),\n",
       " (3.0, -7.0),\n",
       " (-6.0, -6.0),\n",
       " (-5.0, -6.0),\n",
       " (-4.0, -6.0),\n",
       " (-3.0, -6.0),\n",
       " (-2.0, -6.0),\n",
       " (-1.0, -6.0),\n",
       " (0.0, -6.0),\n",
       " (1.0, -6.0),\n",
       " (2.0, -6.0),\n",
       " (3.0, -6.0),\n",
       " (-6.0, -5.0),\n",
       " (-5.0, -5.0),\n",
       " (-4.0, -5.0),\n",
       " (-3.0, -5.0),\n",
       " (-2.0, -5.0),\n",
       " (-1.0, -5.0),\n",
       " (0.0, -5.0),\n",
       " (1.0, -5.0),\n",
       " (2.0, -5.0),\n",
       " (3.0, -5.0),\n",
       " (-6.0, -4.0),\n",
       " (-5.0, -4.0),\n",
       " (-4.0, -4.0),\n",
       " (-3.0, -4.0),\n",
       " (-2.0, -4.0),\n",
       " (-1.0, -4.0),\n",
       " (0.0, -4.0),\n",
       " (1.0, -4.0),\n",
       " (2.0, -4.0),\n",
       " (3.0, -4.0),\n",
       " (-6.0, -3.0),\n",
       " (-5.0, -3.0),\n",
       " (-4.0, -3.0),\n",
       " (-3.0, -3.0),\n",
       " (-2.0, -3.0),\n",
       " (-1.0, -3.0),\n",
       " (0.0, -3.0),\n",
       " (1.0, -3.0),\n",
       " (2.0, -3.0),\n",
       " (3.0, -3.0),\n",
       " (-6.0, -2.0),\n",
       " (-5.0, -2.0),\n",
       " (-4.0, -2.0),\n",
       " (-3.0, -2.0),\n",
       " (-2.0, -2.0),\n",
       " (-1.0, -2.0),\n",
       " (0.0, -2.0),\n",
       " (1.0, -2.0),\n",
       " (2.0, -2.0),\n",
       " (3.0, -2.0),\n",
       " (-6.0, -1.0),\n",
       " (-5.0, -1.0),\n",
       " (-4.0, -1.0),\n",
       " (-3.0, -1.0),\n",
       " (-2.0, -1.0),\n",
       " (-1.0, -1.0),\n",
       " (0.0, -1.0),\n",
       " (1.0, -1.0),\n",
       " (2.0, -1.0),\n",
       " (3.0, -1.0),\n",
       " (-6.0, 0.0),\n",
       " (-5.0, 0.0),\n",
       " (-4.0, 0.0),\n",
       " (-3.0, 0.0),\n",
       " (-2.0, 0.0),\n",
       " (-1.0, 0.0),\n",
       " (0.0, 0.0),\n",
       " (1.0, 0.0),\n",
       " (2.0, 0.0),\n",
       " (3.0, 0.0),\n",
       " (-6.0, 1.0),\n",
       " (-5.0, 1.0),\n",
       " (-4.0, 1.0),\n",
       " (-3.0, 1.0),\n",
       " (-2.0, 1.0),\n",
       " (-1.0, 1.0),\n",
       " (0.0, 1.0),\n",
       " (1.0, 1.0),\n",
       " (2.0, 1.0),\n",
       " (3.0, 1.0),\n",
       " (-6.0, 2.0),\n",
       " (-5.0, 2.0),\n",
       " (-4.0, 2.0),\n",
       " (-3.0, 2.0),\n",
       " (-2.0, 2.0),\n",
       " (-1.0, 2.0),\n",
       " (0.0, 2.0),\n",
       " (1.0, 2.0),\n",
       " (2.0, 2.0),\n",
       " (3.0, 2.0),\n",
       " (-6.0, 3.0),\n",
       " (-5.0, 3.0),\n",
       " (-4.0, 3.0),\n",
       " (-3.0, 3.0),\n",
       " (-2.0, 3.0),\n",
       " (-1.0, 3.0),\n",
       " (0.0, 3.0),\n",
       " (1.0, 3.0),\n",
       " (2.0, 3.0),\n",
       " (3.0, 3.0),\n",
       " (-6.0, 4.0),\n",
       " (-5.0, 4.0),\n",
       " (-4.0, 4.0),\n",
       " (-3.0, 4.0),\n",
       " (-2.0, 4.0),\n",
       " (-1.0, 4.0),\n",
       " (0.0, 4.0),\n",
       " (1.0, 4.0),\n",
       " (2.0, 4.0),\n",
       " (3.0, 4.0),\n",
       " (-6.0, 5.0),\n",
       " (-5.0, 5.0),\n",
       " (-4.0, 5.0),\n",
       " (-3.0, 5.0),\n",
       " (-2.0, 5.0),\n",
       " (-1.0, 5.0),\n",
       " (0.0, 5.0),\n",
       " (1.0, 5.0),\n",
       " (2.0, 5.0),\n",
       " (3.0, 5.0)]"
      ]
     },
     "execution_count": 20,
     "metadata": {},
     "output_type": "execute_result"
    }
   ],
   "source": [
    "new_X = list(zip(xc, yc))\n",
    "new_X"
   ]
  },
  {
   "cell_type": "code",
   "execution_count": 21,
   "metadata": {
    "executionInfo": {
     "elapsed": 716,
     "status": "ok",
     "timestamp": 1618942996481,
     "user": {
      "displayName": "Jan Yen",
      "photoUrl": "https://lh3.googleusercontent.com/a-/AOh14GiEUcKh1lvExp7D0ED6IfG2RriLc45wIcsD4mgxfw=s64",
      "userId": "15916279064513599848"
     },
     "user_tz": -480
    },
    "id": "qr638hrEhUsm"
   },
   "outputs": [],
   "source": [
    "new_predicted_Y = clf.predict(new_X)"
   ]
  },
  {
   "cell_type": "code",
   "execution_count": 22,
   "metadata": {
    "colab": {
     "base_uri": "https://localhost:8080/",
     "height": 283
    },
    "executionInfo": {
     "elapsed": 789,
     "status": "ok",
     "timestamp": 1618943022188,
     "user": {
      "displayName": "Jan Yen",
      "photoUrl": "https://lh3.googleusercontent.com/a-/AOh14GiEUcKh1lvExp7D0ED6IfG2RriLc45wIcsD4mgxfw=s64",
      "userId": "15916279064513599848"
     },
     "user_tz": -480
    },
    "id": "KYjow9Sehaz4",
    "outputId": "f41c539a-2305-496b-ad1e-b95f69c567e6"
   },
   "outputs": [
    {
     "data": {
      "text/plain": [
       "<matplotlib.collections.PathCollection at 0x1fe727745e0>"
      ]
     },
     "execution_count": 22,
     "metadata": {},
     "output_type": "execute_result"
    },
    {
     "data": {
      "image/png": "[encoded data removed]",
      "text/plain": [
       "<Figure size 432x288 with 1 Axes>"
      ]
     },
     "metadata": {
      "needs_background": "light"
     },
     "output_type": "display_data"
    }
   ],
   "source": [
    "plt.scatter(xc, yc, c=new_predicted_Y)"
   ]
  },
  {
   "cell_type": "markdown",
   "metadata": {
    "id": "2YQugCuuhqQW"
   },
   "source": [
    "### 鳶尾花分類"
   ]
  },
  {
   "cell_type": "code",
   "execution_count": 23,
   "metadata": {
    "executionInfo": {
     "elapsed": 940,
     "status": "ok",
     "timestamp": 1618943188456,
     "user": {
      "displayName": "Jan Yen",
      "photoUrl": "https://lh3.googleusercontent.com/a-/AOh14GiEUcKh1lvExp7D0ED6IfG2RriLc45wIcsD4mgxfw=s64",
      "userId": "15916279064513599848"
     },
     "user_tz": -480
    },
    "id": "pMdRcJJChhEh"
   },
   "outputs": [],
   "source": [
    "from sklearn.datasets import load_iris\n",
    "\n",
    "iris = load_iris()"
   ]
  },
  {
   "cell_type": "code",
   "execution_count": 24,
   "metadata": {
    "colab": {
     "base_uri": "https://localhost:8080/"
    },
    "executionInfo": {
     "elapsed": 785,
     "status": "ok",
     "timestamp": 1618943203470,
     "user": {
      "displayName": "Jan Yen",
      "photoUrl": "https://lh3.googleusercontent.com/a-/AOh14GiEUcKh1lvExp7D0ED6IfG2RriLc45wIcsD4mgxfw=s64",
      "userId": "15916279064513599848"
     },
     "user_tz": -480
    },
    "id": "ed41-o6biJn3",
    "outputId": "f301f2d2-8a51-4a71-a060-ae10bc01f2f9"
   },
   "outputs": [
    {
     "name": "stdout",
     "output_type": "stream",
     "text": [
      ".. _iris_dataset:\n",
      "\n",
      "Iris plants dataset\n",
      "--------------------\n",
      "\n",
      "**Data Set Characteristics:**\n",
      "\n",
      "    :Number of Instances: 150 (50 in each of three classes)\n",
      "    :Number of Attributes: 4 numeric, predictive attributes and the class\n",
      "    :Attribute Information:\n",
      "        - sepal length in cm\n",
      "        - sepal width in cm\n",
      "        - petal length in cm\n",
      "        - petal width in cm\n",
      "        - class:\n",
      "                - Iris-Setosa\n",
      "                - Iris-Versicolour\n",
      "                - Iris-Virginica\n",
      "                \n",
      "    :Summary Statistics:\n",
      "\n",
      "    ============== ==== ==== ======= ===== ====================\n",
      "                    Min  Max   Mean    SD   Class Correlation\n",
      "    ============== ==== ==== ======= ===== ====================\n",
      "    sepal length:   4.3  7.9   5.84   0.83    0.7826\n",
      "    sepal width:    2.0  4.4   3.05   0.43   -0.4194\n",
      "    petal length:   1.0  6.9   3.76   1.76    0.9490  (high!)\n",
      "    petal width:    0.1  2.5   1.20   0.76    0.9565  (high!)\n",
      "    ============== ==== ==== ======= ===== ====================\n",
      "\n",
      "    :Missing Attribute Values: None\n",
      "    :Class Distribution: 33.3% for each of 3 classes.\n",
      "    :Creator: R.A. Fisher\n",
      "    :Donor: Michael Marshall (MARSHALL%PLU@io.arc.nasa.gov)\n",
      "    :Date: July, 1988\n",
      "\n",
      "The famous Iris database, first used by Sir R.A. Fisher. The dataset is taken\n",
      "from Fisher's paper. Note that it's the same as in R, but not as in the UCI\n",
      "Machine Learning Repository, which has two wrong data points.\n",
      "\n",
      "This is perhaps the best known database to be found in the\n",
      "pattern recognition literature.  Fisher's paper is a classic in the field and\n",
      "is referenced frequently to this day.  (See Duda & Hart, for example.)  The\n",
      "data set contains 3 classes of 50 instances each, where each class refers to a\n",
      "type of iris plant.  One class is linearly separable from the other 2; the\n",
      "latter are NOT linearly separable from each other.\n",
      "\n",
      ".. topic:: References\n",
      "\n",
      "   - Fisher, R.A. \"The use of multiple measurements in taxonomic problems\"\n",
      "     Annual Eugenics, 7, Part II, 179-188 (1936); also in \"Contributions to\n",
      "     Mathematical Statistics\" (John Wiley, NY, 1950).\n",
      "   - Duda, R.O., & Hart, P.E. (1973) Pattern Classification and Scene Analysis.\n",
      "     (Q327.D83) John Wiley & Sons.  ISBN 0-471-22361-1.  See page 218.\n",
      "   - Dasarathy, B.V. (1980) \"Nosing Around the Neighborhood: A New System\n",
      "     Structure and Classification Rule for Recognition in Partially Exposed\n",
      "     Environments\".  IEEE Transactions on Pattern Analysis and Machine\n",
      "     Intelligence, Vol. PAMI-2, No. 1, 67-71.\n",
      "   - Gates, G.W. (1972) \"The Reduced Nearest Neighbor Rule\".  IEEE Transactions\n",
      "     on Information Theory, May 1972, 431-433.\n",
      "   - See also: 1988 MLC Proceedings, 54-64.  Cheeseman et al\"s AUTOCLASS II\n",
      "     conceptual clustering system finds 3 classes in the data.\n",
      "   - Many, many more ...\n"
     ]
    }
   ],
   "source": [
    "print(iris.DESCR)  # 顯示資料集資訊"
   ]
  },
  {
   "cell_type": "code",
   "execution_count": 25,
   "metadata": {
    "executionInfo": {
     "elapsed": 790,
     "status": "ok",
     "timestamp": 1618943456969,
     "user": {
      "displayName": "Jan Yen",
      "photoUrl": "https://lh3.googleusercontent.com/a-/AOh14GiEUcKh1lvExp7D0ED6IfG2RriLc45wIcsD4mgxfw=s64",
      "userId": "15916279064513599848"
     },
     "user_tz": -480
    },
    "id": "wXww06GeiNU-"
   },
   "outputs": [],
   "source": [
    "X = iris.data\n",
    "Y = iris.target"
   ]
  },
  {
   "cell_type": "code",
   "execution_count": 26,
   "metadata": {
    "colab": {
     "base_uri": "https://localhost:8080/"
    },
    "executionInfo": {
     "elapsed": 689,
     "status": "ok",
     "timestamp": 1618943459128,
     "user": {
      "displayName": "Jan Yen",
      "photoUrl": "https://lh3.googleusercontent.com/a-/AOh14GiEUcKh1lvExp7D0ED6IfG2RriLc45wIcsD4mgxfw=s64",
      "userId": "15916279064513599848"
     },
     "user_tz": -480
    },
    "id": "AU8zxdQ-iZ9v",
    "outputId": "b6c56c8b-a0dc-4813-b1f7-7a2bfd8c3dce"
   },
   "outputs": [
    {
     "name": "stdout",
     "output_type": "stream",
     "text": [
      "X shape, Y shape: (150, 4) (150,)\n",
      "[5.1 3.5 1.4 0.2] 0\n"
     ]
    }
   ],
   "source": [
    "print('X shape, Y shape:', X.shape, Y.shape)\n",
    "print(X[0], Y[0])"
   ]
  },
  {
   "cell_type": "code",
   "execution_count": 27,
   "metadata": {
    "executionInfo": {
     "elapsed": 642,
     "status": "ok",
     "timestamp": 1618943462075,
     "user": {
      "displayName": "Jan Yen",
      "photoUrl": "https://lh3.googleusercontent.com/a-/AOh14GiEUcKh1lvExp7D0ED6IfG2RriLc45wIcsD4mgxfw=s64",
      "userId": "15916279064513599848"
     },
     "user_tz": -480
    },
    "id": "2yjQ2HjRimG-"
   },
   "outputs": [],
   "source": [
    "from sklearn.model_selection import train_test_split"
   ]
  },
  {
   "cell_type": "code",
   "execution_count": 28,
   "metadata": {
    "colab": {
     "base_uri": "https://localhost:8080/"
    },
    "executionInfo": {
     "elapsed": 573,
     "status": "ok",
     "timestamp": 1618943463256,
     "user": {
      "displayName": "Jan Yen",
      "photoUrl": "https://lh3.googleusercontent.com/a-/AOh14GiEUcKh1lvExp7D0ED6IfG2RriLc45wIcsD4mgxfw=s64",
      "userId": "15916279064513599848"
     },
     "user_tz": -480
    },
    "id": "NCnWSwuyiyQM",
    "outputId": "3d8eb191-8223-49e7-848e-16990365abfb"
   },
   "outputs": [
    {
     "name": "stdout",
     "output_type": "stream",
     "text": [
      "[1.4 0.2]\n"
     ]
    }
   ],
   "source": [
    "X = X[:, 2:]\n",
    "print(X[0])"
   ]
  },
  {
   "cell_type": "code",
   "execution_count": 29,
   "metadata": {
    "colab": {
     "base_uri": "https://localhost:8080/",
     "height": 283
    },
    "executionInfo": {
     "elapsed": 677,
     "status": "ok",
     "timestamp": 1618943686791,
     "user": {
      "displayName": "Jan Yen",
      "photoUrl": "https://lh3.googleusercontent.com/a-/AOh14GiEUcKh1lvExp7D0ED6IfG2RriLc45wIcsD4mgxfw=s64",
      "userId": "15916279064513599848"
     },
     "user_tz": -480
    },
    "id": "BLmWdF9ai-i-",
    "outputId": "2e9319c6-6543-4bdd-8ffc-2a579d334b15"
   },
   "outputs": [
    {
     "data": {
      "text/plain": [
       "<matplotlib.collections.PathCollection at 0x1fe7391f400>"
      ]
     },
     "execution_count": 29,
     "metadata": {},
     "output_type": "execute_result"
    },
    {
     "data": {
      "image/png": "[encoded data removed]",
      "text/plain": [
       "<Figure size 432x288 with 1 Axes>"
      ]
     },
     "metadata": {
      "needs_background": "light"
     },
     "output_type": "display_data"
    }
   ],
   "source": [
    "x_train, x_test, y_train, y_test = train_test_split(X, Y, \n",
    "                            test_size = 0.2,\n",
    "                            random_state = 87)  # radom_state是什麼?\n",
    "\n",
    "plt.scatter(x_train[:, 0], x_train[:, 1], c=y_train)  # 畫出訓練資料分布"
   ]
  },
  {
   "cell_type": "code",
   "execution_count": 30,
   "metadata": {
    "executionInfo": {
     "elapsed": 678,
     "status": "ok",
     "timestamp": 1618943817537,
     "user": {
      "displayName": "Jan Yen",
      "photoUrl": "https://lh3.googleusercontent.com/a-/AOh14GiEUcKh1lvExp7D0ED6IfG2RriLc45wIcsD4mgxfw=s64",
      "userId": "15916279064513599848"
     },
     "user_tz": -480
    },
    "id": "XBhxbmcqkDWJ"
   },
   "outputs": [],
   "source": [
    "clf_iris = SVC()"
   ]
  },
  {
   "cell_type": "code",
   "execution_count": 31,
   "metadata": {
    "colab": {
     "base_uri": "https://localhost:8080/"
    },
    "executionInfo": {
     "elapsed": 1411,
     "status": "ok",
     "timestamp": 1618943888892,
     "user": {
      "displayName": "Jan Yen",
      "photoUrl": "https://lh3.googleusercontent.com/a-/AOh14GiEUcKh1lvExp7D0ED6IfG2RriLc45wIcsD4mgxfw=s64",
      "userId": "15916279064513599848"
     },
     "user_tz": -480
    },
    "id": "LLQhAWPPkjQT",
    "outputId": "8612731d-9fe9-4fa3-95cb-73c68b61daa9"
   },
   "outputs": [
    {
     "data": {
      "text/plain": [
       "SVC()"
      ]
     },
     "execution_count": 31,
     "metadata": {},
     "output_type": "execute_result"
    }
   ],
   "source": [
    "clf_iris.fit(x_train, y_train)"
   ]
  },
  {
   "cell_type": "code",
   "execution_count": 33,
   "metadata": {
    "colab": {
     "base_uri": "https://localhost:8080/",
     "height": 283
    },
    "executionInfo": {
     "elapsed": 804,
     "status": "ok",
     "timestamp": 1618944142144,
     "user": {
      "displayName": "Jan Yen",
      "photoUrl": "https://lh3.googleusercontent.com/a-/AOh14GiEUcKh1lvExp7D0ED6IfG2RriLc45wIcsD4mgxfw=s64",
      "userId": "15916279064513599848"
     },
     "user_tz": -480
    },
    "id": "oVhR1T_uk0gg",
    "outputId": "dcb5a2b9-3e97-4bbd-c63e-fabd8a51c2c3"
   },
   "outputs": [
    {
     "data": {
      "text/plain": [
       "<matplotlib.collections.PathCollection at 0x1fe739c7a60>"
      ]
     },
     "execution_count": 33,
     "metadata": {},
     "output_type": "execute_result"
    },
    {
     "data": {
      "image/png": "[encoded data removed]",
      "text/plain": [
       "<Figure size 432x288 with 1 Axes>"
      ]
     },
     "metadata": {
      "needs_background": "light"
     },
     "output_type": "display_data"
    }
   ],
   "source": [
    "y_predict = clf_iris.predict(x_test)\n",
    "plt.scatter(x_test[:, 0], x_test[:, 1], c=y_predict)"
   ]
  },
  {
   "cell_type": "code",
   "execution_count": 34,
   "metadata": {
    "colab": {
     "base_uri": "https://localhost:8080/",
     "height": 283
    },
    "executionInfo": {
     "elapsed": 1154,
     "status": "ok",
     "timestamp": 1618944158068,
     "user": {
      "displayName": "Jan Yen",
      "photoUrl": "https://lh3.googleusercontent.com/a-/AOh14GiEUcKh1lvExp7D0ED6IfG2RriLc45wIcsD4mgxfw=s64",
      "userId": "15916279064513599848"
     },
     "user_tz": -480
    },
    "id": "0YMQKo29lgJF",
    "outputId": "60e8cc09-b177-4e92-a401-ee6b60275571"
   },
   "outputs": [
    {
     "data": {
      "text/plain": [
       "<matplotlib.collections.PathCollection at 0x1fe73a1d5b0>"
      ]
     },
     "execution_count": 34,
     "metadata": {},
     "output_type": "execute_result"
    },
    {
     "data": {
      "image/png": "[encoded data removed]",
      "text/plain": [
       "<Figure size 432x288 with 1 Axes>"
      ]
     },
     "metadata": {
      "needs_background": "light"
     },
     "output_type": "display_data"
    }
   ],
   "source": [
    "plt.scatter(x_test[:, 0], x_test[:, 1], c=y_test)"
   ]
  },
  {
   "cell_type": "code",
   "execution_count": 35,
   "metadata": {
    "colab": {
     "base_uri": "https://localhost:8080/",
     "height": 283
    },
    "executionInfo": {
     "elapsed": 1430,
     "status": "ok",
     "timestamp": 1618944262435,
     "user": {
      "displayName": "Jan Yen",
      "photoUrl": "https://lh3.googleusercontent.com/a-/AOh14GiEUcKh1lvExp7D0ED6IfG2RriLc45wIcsD4mgxfw=s64",
      "userId": "15916279064513599848"
     },
     "user_tz": -480
    },
    "id": "3YHo6foGl2S3",
    "outputId": "05995162-6320-41cf-a095-252b89ec7f8a"
   },
   "outputs": [
    {
     "data": {
      "text/plain": [
       "<matplotlib.collections.PathCollection at 0x1fe73a75220>"
      ]
     },
     "execution_count": 35,
     "metadata": {},
     "output_type": "execute_result"
    },
    {
     "data": {
      "image/png": "[encoded data removed]",
      "text/plain": [
       "<Figure size 432x288 with 1 Axes>"
      ]
     },
     "metadata": {
      "needs_background": "light"
     },
     "output_type": "display_data"
    }
   ],
   "source": [
    "plt.scatter(x_test[:, 0], x_test[:, 1], c=y_predict-y_test)"
   ]
  },
  {
   "cell_type": "code",
   "execution_count": 36,
   "metadata": {
    "executionInfo": {
     "elapsed": 666,
     "status": "ok",
     "timestamp": 1618944377270,
     "user": {
      "displayName": "Jan Yen",
      "photoUrl": "https://lh3.googleusercontent.com/a-/AOh14GiEUcKh1lvExp7D0ED6IfG2RriLc45wIcsD4mgxfw=s64",
      "userId": "15916279064513599848"
     },
     "user_tz": -480
    },
    "id": "zfj70S0LmPs9"
   },
   "outputs": [],
   "source": [
    "x = np.arange(0, 7, 0.02)\n",
    "y = np.arange(0, 3, 0.02)\n",
    "x1, x2 = np.meshgrid(x, y)"
   ]
  },
  {
   "cell_type": "code",
   "execution_count": 37,
   "metadata": {
    "colab": {
     "base_uri": "https://localhost:8080/"
    },
    "executionInfo": {
     "elapsed": 721,
     "status": "ok",
     "timestamp": 1618944389665,
     "user": {
      "displayName": "Jan Yen",
      "photoUrl": "https://lh3.googleusercontent.com/a-/AOh14GiEUcKh1lvExp7D0ED6IfG2RriLc45wIcsD4mgxfw=s64",
      "userId": "15916279064513599848"
     },
     "user_tz": -480
    },
    "id": "WRM--U-5mr7b",
    "outputId": "2bc17eb1-409e-452e-e82f-08022d3da818"
   },
   "outputs": [
    {
     "name": "stdout",
     "output_type": "stream",
     "text": [
      "[0.   0.02 0.04 0.06 0.08 0.1  0.12 0.14 0.16 0.18 0.2  0.22 0.24 0.26\n",
      " 0.28 0.3  0.32 0.34 0.36 0.38 0.4  0.42 0.44 0.46 0.48 0.5  0.52 0.54\n",
      " 0.56 0.58 0.6  0.62 0.64 0.66 0.68 0.7  0.72 0.74 0.76 0.78 0.8  0.82\n",
      " 0.84 0.86 0.88 0.9  0.92 0.94 0.96 0.98 1.   1.02 1.04 1.06 1.08 1.1\n",
      " 1.12 1.14 1.16 1.18 1.2  1.22 1.24 1.26 1.28 1.3  1.32 1.34 1.36 1.38\n",
      " 1.4  1.42 1.44 1.46 1.48 1.5  1.52 1.54 1.56 1.58 1.6  1.62 1.64 1.66\n",
      " 1.68 1.7  1.72 1.74 1.76 1.78 1.8  1.82 1.84 1.86 1.88 1.9  1.92 1.94\n",
      " 1.96 1.98 2.   2.02 2.04 2.06 2.08 2.1  2.12 2.14 2.16 2.18 2.2  2.22\n",
      " 2.24 2.26 2.28 2.3  2.32 2.34 2.36 2.38 2.4  2.42 2.44 2.46 2.48 2.5\n",
      " 2.52 2.54 2.56 2.58 2.6  2.62 2.64 2.66 2.68 2.7  2.72 2.74 2.76 2.78\n",
      " 2.8  2.82 2.84 2.86 2.88 2.9  2.92 2.94 2.96 2.98 3.   3.02 3.04 3.06\n",
      " 3.08 3.1  3.12 3.14 3.16 3.18 3.2  3.22 3.24 3.26 3.28 3.3  3.32 3.34\n",
      " 3.36 3.38 3.4  3.42 3.44 3.46 3.48 3.5  3.52 3.54 3.56 3.58 3.6  3.62\n",
      " 3.64 3.66 3.68 3.7  3.72 3.74 3.76 3.78 3.8  3.82 3.84 3.86 3.88 3.9\n",
      " 3.92 3.94 3.96 3.98 4.   4.02 4.04 4.06 4.08 4.1  4.12 4.14 4.16 4.18\n",
      " 4.2  4.22 4.24 4.26 4.28 4.3  4.32 4.34 4.36 4.38 4.4  4.42 4.44 4.46\n",
      " 4.48 4.5  4.52 4.54 4.56 4.58 4.6  4.62 4.64 4.66 4.68 4.7  4.72 4.74\n",
      " 4.76 4.78 4.8  4.82 4.84 4.86 4.88 4.9  4.92 4.94 4.96 4.98 5.   5.02\n",
      " 5.04 5.06 5.08 5.1  5.12 5.14 5.16 5.18 5.2  5.22 5.24 5.26 5.28 5.3\n",
      " 5.32 5.34 5.36 5.38 5.4  5.42 5.44 5.46 5.48 5.5  5.52 5.54 5.56 5.58\n",
      " 5.6  5.62 5.64 5.66 5.68 5.7  5.72 5.74 5.76 5.78 5.8  5.82 5.84 5.86\n",
      " 5.88 5.9  5.92 5.94 5.96 5.98 6.   6.02 6.04 6.06 6.08 6.1  6.12 6.14\n",
      " 6.16 6.18 6.2  6.22 6.24 6.26 6.28 6.3  6.32 6.34 6.36 6.38 6.4  6.42\n",
      " 6.44 6.46 6.48 6.5  6.52 6.54 6.56 6.58 6.6  6.62 6.64 6.66 6.68 6.7\n",
      " 6.72 6.74 6.76 6.78 6.8  6.82 6.84 6.86 6.88 6.9  6.92 6.94 6.96 6.98]\n"
     ]
    }
   ],
   "source": [
    "print(x)"
   ]
  },
  {
   "cell_type": "code",
   "execution_count": 38,
   "metadata": {
    "colab": {
     "base_uri": "https://localhost:8080/"
    },
    "executionInfo": {
     "elapsed": 631,
     "status": "ok",
     "timestamp": 1618944395566,
     "user": {
      "displayName": "Jan Yen",
      "photoUrl": "https://lh3.googleusercontent.com/a-/AOh14GiEUcKh1lvExp7D0ED6IfG2RriLc45wIcsD4mgxfw=s64",
      "userId": "15916279064513599848"
     },
     "user_tz": -480
    },
    "id": "kGicPD9Omu8S",
    "outputId": "cf7d964b-256b-4f22-baf0-e5bfd4497a8e"
   },
   "outputs": [
    {
     "name": "stdout",
     "output_type": "stream",
     "text": [
      "[0.   0.02 0.04 0.06 0.08 0.1  0.12 0.14 0.16 0.18 0.2  0.22 0.24 0.26\n",
      " 0.28 0.3  0.32 0.34 0.36 0.38 0.4  0.42 0.44 0.46 0.48 0.5  0.52 0.54\n",
      " 0.56 0.58 0.6  0.62 0.64 0.66 0.68 0.7  0.72 0.74 0.76 0.78 0.8  0.82\n",
      " 0.84 0.86 0.88 0.9  0.92 0.94 0.96 0.98 1.   1.02 1.04 1.06 1.08 1.1\n",
      " 1.12 1.14 1.16 1.18 1.2  1.22 1.24 1.26 1.28 1.3  1.32 1.34 1.36 1.38\n",
      " 1.4  1.42 1.44 1.46 1.48 1.5  1.52 1.54 1.56 1.58 1.6  1.62 1.64 1.66\n",
      " 1.68 1.7  1.72 1.74 1.76 1.78 1.8  1.82 1.84 1.86 1.88 1.9  1.92 1.94\n",
      " 1.96 1.98 2.   2.02 2.04 2.06 2.08 2.1  2.12 2.14 2.16 2.18 2.2  2.22\n",
      " 2.24 2.26 2.28 2.3  2.32 2.34 2.36 2.38 2.4  2.42 2.44 2.46 2.48 2.5\n",
      " 2.52 2.54 2.56 2.58 2.6  2.62 2.64 2.66 2.68 2.7  2.72 2.74 2.76 2.78\n",
      " 2.8  2.82 2.84 2.86 2.88 2.9  2.92 2.94 2.96 2.98]\n"
     ]
    }
   ],
   "source": [
    "print(y)"
   ]
  },
  {
   "cell_type": "code",
   "execution_count": 39,
   "metadata": {
    "colab": {
     "base_uri": "https://localhost:8080/"
    },
    "executionInfo": {
     "elapsed": 648,
     "status": "ok",
     "timestamp": 1618944422485,
     "user": {
      "displayName": "Jan Yen",
      "photoUrl": "https://lh3.googleusercontent.com/a-/AOh14GiEUcKh1lvExp7D0ED6IfG2RriLc45wIcsD4mgxfw=s64",
      "userId": "15916279064513599848"
     },
     "user_tz": -480
    },
    "id": "2SZNbLn1mwZ2",
    "outputId": "02529de2-6173-4e52-a12e-79c460f0bc72"
   },
   "outputs": [
    {
     "name": "stdout",
     "output_type": "stream",
     "text": [
      "[[0.   0.02 0.04 ... 6.94 6.96 6.98]\n",
      " [0.   0.02 0.04 ... 6.94 6.96 6.98]\n",
      " [0.   0.02 0.04 ... 6.94 6.96 6.98]\n",
      " ...\n",
      " [0.   0.02 0.04 ... 6.94 6.96 6.98]\n",
      " [0.   0.02 0.04 ... 6.94 6.96 6.98]\n",
      " [0.   0.02 0.04 ... 6.94 6.96 6.98]]\n"
     ]
    }
   ],
   "source": [
    "print(x1)"
   ]
  },
  {
   "cell_type": "code",
   "execution_count": 40,
   "metadata": {
    "colab": {
     "base_uri": "https://localhost:8080/"
    },
    "executionInfo": {
     "elapsed": 646,
     "status": "ok",
     "timestamp": 1618944428250,
     "user": {
      "displayName": "Jan Yen",
      "photoUrl": "https://lh3.googleusercontent.com/a-/AOh14GiEUcKh1lvExp7D0ED6IfG2RriLc45wIcsD4mgxfw=s64",
      "userId": "15916279064513599848"
     },
     "user_tz": -480
    },
    "id": "yWotskdWm2-N",
    "outputId": "c65447c7-4c3d-41b4-e425-a419357fdce1"
   },
   "outputs": [
    {
     "name": "stdout",
     "output_type": "stream",
     "text": [
      "[[0.   0.   0.   ... 0.   0.   0.  ]\n",
      " [0.02 0.02 0.02 ... 0.02 0.02 0.02]\n",
      " [0.04 0.04 0.04 ... 0.04 0.04 0.04]\n",
      " ...\n",
      " [2.94 2.94 2.94 ... 2.94 2.94 2.94]\n",
      " [2.96 2.96 2.96 ... 2.96 2.96 2.96]\n",
      " [2.98 2.98 2.98 ... 2.98 2.98 2.98]]\n"
     ]
    }
   ],
   "source": [
    "print(x2)"
   ]
  },
  {
   "cell_type": "code",
   "execution_count": 47,
   "metadata": {
    "executionInfo": {
     "elapsed": 871,
     "status": "ok",
     "timestamp": 1618944511311,
     "user": {
      "displayName": "Jan Yen",
      "photoUrl": "https://lh3.googleusercontent.com/a-/AOh14GiEUcKh1lvExp7D0ED6IfG2RriLc45wIcsD4mgxfw=s64",
      "userId": "15916279064513599848"
     },
     "user_tz": -480
    },
    "id": "PiYSXIOTm4YM"
   },
   "outputs": [],
   "source": [
    "Z = clf_iris.predict(np.c_[x1.ravel(), x2.ravel()])\n",
    "Z = Z.reshape(x1.shape)"
   ]
  },
  {
   "cell_type": "code",
   "execution_count": 48,
   "metadata": {
    "colab": {
     "base_uri": "https://localhost:8080/",
     "height": 283
    },
    "executionInfo": {
     "elapsed": 1204,
     "status": "ok",
     "timestamp": 1618944603284,
     "user": {
      "displayName": "Jan Yen",
      "photoUrl": "https://lh3.googleusercontent.com/a-/AOh14GiEUcKh1lvExp7D0ED6IfG2RriLc45wIcsD4mgxfw=s64",
      "userId": "15916279064513599848"
     },
     "user_tz": -480
    },
    "id": "ymFP3tbznMmm",
    "outputId": "4c5e0f5a-f8b9-4cc5-f75e-2e9a36176409"
   },
   "outputs": [
    {
     "data": {
      "text/plain": [
       "<matplotlib.collections.PathCollection at 0x1fe73c979a0>"
      ]
     },
     "execution_count": 48,
     "metadata": {},
     "output_type": "execute_result"
    },
    {
     "data": {
      "image/png": "[encoded data removed]",
      "text/plain": [
       "<Figure size 432x288 with 1 Axes>"
      ]
     },
     "metadata": {
      "needs_background": "light"
     },
     "output_type": "display_data"
    }
   ],
   "source": [
    "plt.contourf(x1, x2, Z, cmap=plt.cm.coolwarm, alpha=0.8)\n",
    "plt.scatter(X[:, 0], X[:, 1], c=Y)"
   ]
  },
  {
   "cell_type": "code",
   "execution_count": null,
   "metadata": {
    "id": "5jVMxTIMni-f"
   },
   "outputs": [],
   "source": []
  }
 ],
 "metadata": {
  "colab": {
   "authorship_tag": "ABX9TyPy8nTpn0UuurV+Yh8EcYSN",
   "collapsed_sections": [],
   "name": "0421_Supervised Learning",
   "provenance": []
  },
  "kernelspec": {
   "display_name": "Python 3",
   "language": "python",
   "name": "python3"
  },
  "language_info": {
   "codemirror_mode": {
    "name": "ipython",
    "version": 3
   },
   "file_extension": ".py",
   "mimetype": "text/x-python",
   "name": "python",
   "nbconvert_exporter": "python",
   "pygments_lexer": "ipython3",
   "version": "3.8.10"
  }
 },
 "nbformat": 4,
 "nbformat_minor": 1
}
