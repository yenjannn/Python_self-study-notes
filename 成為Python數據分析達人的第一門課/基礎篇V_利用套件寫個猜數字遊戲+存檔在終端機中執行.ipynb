{
 "cells": [
  {
   "cell_type": "code",
   "execution_count": 1,
   "metadata": {},
   "outputs": [],
   "source": [
    "%matplotlib inline\n",
    "\n",
    "import numpy as np\n",
    "import matplotlib.pyplot as plt"
   ]
  },
  {
   "cell_type": "code",
   "execution_count": 2,
   "metadata": {},
   "outputs": [],
   "source": [
    "from random import randint\n",
    "\n",
    "# 用法與numpy裡的randint不同，這裡的函式會包含前後值"
   ]
  },
  {
   "cell_type": "code",
   "execution_count": 3,
   "metadata": {},
   "outputs": [
    {
     "name": "stdout",
     "output_type": "stream",
     "text": [
      "5 3 4 4 5 4 2 5 1 1 "
     ]
    }
   ],
   "source": [
    "# 連續隨機取10個介於1~5中的數字\n",
    "for i in range(10):\n",
    "    print(randint(1,5), end = ' ')"
   ]
  },
  {
   "cell_type": "code",
   "execution_count": 4,
   "metadata": {},
   "outputs": [],
   "source": [
    "# 正式進入猜數字遊戲\n",
    "\n",
    "def game():\n",
    "    ans = randint(1, 100)\n",
    "    guess = -1\n",
    "    \n",
    "    while guess != ans:\n",
    "        guess = int(input('請輸入一個數字: '))\n",
    "        \n",
    "        if guess > ans:\n",
    "            print('太大了!')\n",
    "        elif guess < ans:\n",
    "            print('太小了!')\n",
    "        else:\n",
    "            print('太神了!')"
   ]
  },
  {
   "cell_type": "code",
   "execution_count": 5,
   "metadata": {},
   "outputs": [
    {
     "name": "stdout",
     "output_type": "stream",
     "text": [
      "請輸入一個數字: 5\n",
      "太小了!\n",
      "請輸入一個數字: 20\n",
      "太大了!\n",
      "請輸入一個數字: 13\n",
      "太大了!\n",
      "請輸入一個數字: 12\n",
      "太大了!\n",
      "請輸入一個數字: 11\n",
      "太大了!\n",
      "請輸入一個數字: 8\n",
      "太小了!\n",
      "請輸入一個數字: 9\n",
      "太小了!\n",
      "請輸入一個數字: 10\n",
      "太神了!\n"
     ]
    }
   ],
   "source": [
    "game()"
   ]
  },
  {
   "cell_type": "code",
   "execution_count": 6,
   "metadata": {},
   "outputs": [
    {
     "name": "stdout",
     "output_type": "stream",
     "text": [
      "請輸入一個數字: 25\n",
      "太小了!\n",
      "請輸入一個數字: 30\n",
      "太小了!\n",
      "請輸入一個數字: 50\n",
      "太小了!\n",
      "請輸入一個數字: 80\n",
      "太大了!\n",
      "請輸入一個數字: 60\n",
      "太神了!\n",
      "y（^ヮ^）yy（^ヮ^）yy（^ヮ^）y\n",
      "要再玩一次嗎? no\n"
     ]
    }
   ],
   "source": [
    "play = True\n",
    "\n",
    "while play:\n",
    "    game()\n",
    "    print('y（^ヮ^）y' * 3)\n",
    "    again = input('要再玩一次嗎? ')\n",
    "    if again == 'no':\n",
    "        play = False"
   ]
  },
  {
   "cell_type": "markdown",
   "metadata": {},
   "source": [
    "#### 魔術指令存成.py檔\n",
    "`%save \"檔名.py\" 儲存格編號`"
   ]
  },
  {
   "cell_type": "code",
   "execution_count": 8,
   "metadata": {},
   "outputs": [
    {
     "name": "stdout",
     "output_type": "stream",
     "text": [
      "The following commands were written to file `guessing_game.py`:\n",
      "from random import randint\n",
      "\n",
      "# 用法與numpy裡的randint不同，這裡的函式會包含前後值\n",
      "# 正式進入猜數字遊戲\n",
      "\n",
      "def game():\n",
      "    ans = randint(1, 100)\n",
      "    guess = -1\n",
      "    \n",
      "    while guess != ans:\n",
      "        guess = int(input('請輸入一個數字: '))\n",
      "        \n",
      "        if guess > ans:\n",
      "            print('太大了!')\n",
      "        elif guess < ans:\n",
      "            print('太小了!')\n",
      "        else:\n",
      "            print('太神了!')\n",
      "play = True\n",
      "\n",
      "while play:\n",
      "    game()\n",
      "    print('y（^ヮ^）y' * 3)\n",
      "    again = input('要再玩一次嗎? ')\n",
      "    if again == 'no':\n",
      "        play = False\n"
     ]
    }
   ],
   "source": [
    "%save \"guessing_game.py\" 2 4 6"
   ]
  },
  {
   "cell_type": "code",
   "execution_count": null,
   "metadata": {},
   "outputs": [],
   "source": []
  }
 ],
 "metadata": {
  "kernelspec": {
   "display_name": "Python 3",
   "language": "python",
   "name": "python3"
  },
  "language_info": {
   "codemirror_mode": {
    "name": "ipython",
    "version": 3
   },
   "file_extension": ".py",
   "mimetype": "text/x-python",
   "name": "python",
   "nbconvert_exporter": "python",
   "pygments_lexer": "ipython3",
   "version": "3.7.6"
  }
 },
 "nbformat": 4,
 "nbformat_minor": 4
}
