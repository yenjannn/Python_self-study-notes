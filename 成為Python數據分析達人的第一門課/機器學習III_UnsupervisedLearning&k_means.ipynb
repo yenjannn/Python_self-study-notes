{
  "nbformat": 4,
  "nbformat_minor": 0,
  "metadata": {
    "colab": {
      "name": "0421Unsupervised Learning & k-means",
      "provenance": []
    },
    "kernelspec": {
      "name": "python3",
      "display_name": "Python 3"
    },
    "language_info": {
      "name": "python"
    }
  },
  "cells": [
    {
      "cell_type": "code",
      "metadata": {
        "id": "0rUn_eeHD05o"
      },
      "source": [
        "%matplotlib inline\n",
        "import numpy as np\n",
        "import matplotlib.pyplot as plt"
      ],
      "execution_count": null,
      "outputs": []
    },
    {
      "cell_type": "code",
      "metadata": {
        "colab": {
          "base_uri": "https://localhost:8080/"
        },
        "id": "AoAC75etbPAM",
        "outputId": "cda721e4-0ebc-4732-8c1d-866ac23e0528"
      },
      "source": [
        "X = np.random.rand(100, 2)  # 一百筆，每一筆有兩個數字\n",
        "X[0]"
      ],
      "execution_count": null,
      "outputs": [
        {
          "output_type": "execute_result",
          "data": {
            "text/plain": [
              "array([0.32473787, 0.66036438])"
            ]
          },
          "metadata": {
            "tags": []
          },
          "execution_count": 3
        }
      ]
    },
    {
      "cell_type": "code",
      "metadata": {
        "colab": {
          "base_uri": "https://localhost:8080/",
          "height": 283
        },
        "id": "q946nBLBbdUK",
        "outputId": "0ad59ee5-5b2e-4c04-f448-e62c8ecbf050"
      },
      "source": [
        "plt.scatter(X[:, 0], X[:, 1], s=50)"
      ],
      "execution_count": null,
      "outputs": [
        {
          "output_type": "execute_result",
          "data": {
            "text/plain": [
              "<matplotlib.collections.PathCollection at 0x7f84ffa2ea50>"
            ]
          },
          "metadata": {
            "tags": []
          },
          "execution_count": 5
        },
        {
          "output_type": "display_data",
          "data": {
            "image/png": "[encoded data removed]",
            "text/plain": [
              "<Figure size 432x288 with 1 Axes>"
            ]
          },
          "metadata": {
            "tags": [],
            "needs_background": "light"
          }
        }
      ]
    },
    {
      "cell_type": "code",
      "metadata": {
        "id": "mXIanc4Ab0WL"
      },
      "source": [
        "from sklearn.cluster import KMeans"
      ],
      "execution_count": null,
      "outputs": []
    },
    {
      "cell_type": "code",
      "metadata": {
        "id": "p8kaEhdPcFGC"
      },
      "source": [
        "clf = KMeans(n_clusters=3)"
      ],
      "execution_count": null,
      "outputs": []
    },
    {
      "cell_type": "code",
      "metadata": {
        "colab": {
          "base_uri": "https://localhost:8080/"
        },
        "id": "Jn-R-FNTcKty",
        "outputId": "86eb8766-db33-4c36-d2a5-829c6f41e83a"
      },
      "source": [
        "clf.fit(X)"
      ],
      "execution_count": null,
      "outputs": [
        {
          "output_type": "execute_result",
          "data": {
            "text/plain": [
              "KMeans(algorithm='auto', copy_x=True, init='k-means++', max_iter=300,\n",
              "       n_clusters=3, n_init=10, n_jobs=None, precompute_distances='auto',\n",
              "       random_state=None, tol=0.0001, verbose=0)"
            ]
          },
          "metadata": {
            "tags": []
          },
          "execution_count": 8
        }
      ]
    },
    {
      "cell_type": "code",
      "metadata": {
        "colab": {
          "base_uri": "https://localhost:8080/"
        },
        "id": "nC3jKf9OcOM0",
        "outputId": "237a99b0-d2af-4cec-8e26-985c5a20cd59"
      },
      "source": [
        "clf.labels_"
      ],
      "execution_count": null,
      "outputs": [
        {
          "output_type": "execute_result",
          "data": {
            "text/plain": [
              "array([0, 1, 2, 1, 1, 2, 0, 1, 0, 0, 2, 0, 1, 0, 0, 2, 0, 1, 1, 1, 0, 1,\n",
              "       0, 0, 1, 2, 0, 0, 1, 0, 0, 0, 0, 0, 2, 2, 1, 2, 0, 2, 1, 2, 0, 0,\n",
              "       1, 2, 2, 0, 0, 0, 1, 0, 2, 2, 1, 1, 1, 1, 2, 0, 0, 0, 1, 0, 0, 2,\n",
              "       2, 2, 0, 0, 1, 0, 2, 0, 0, 2, 2, 2, 2, 0, 1, 0, 0, 2, 2, 1, 1, 2,\n",
              "       1, 2, 1, 0, 0, 2, 2, 0, 2, 2, 1, 2], dtype=int32)"
            ]
          },
          "metadata": {
            "tags": []
          },
          "execution_count": 15
        }
      ]
    },
    {
      "cell_type": "code",
      "metadata": {
        "colab": {
          "base_uri": "https://localhost:8080/"
        },
        "id": "Bwl_zHqncUY4",
        "outputId": "615e6fdd-e9cf-45ab-eb6f-090a4fa5b688"
      },
      "source": [
        "clf.predict(X)"
      ],
      "execution_count": null,
      "outputs": [
        {
          "output_type": "execute_result",
          "data": {
            "text/plain": [
              "array([0, 1, 2, 1, 1, 2, 0, 1, 0, 0, 2, 0, 1, 0, 0, 2, 0, 1, 1, 1, 0, 1,\n",
              "       0, 0, 1, 2, 0, 0, 1, 0, 0, 0, 0, 0, 2, 2, 1, 2, 0, 2, 1, 2, 0, 0,\n",
              "       1, 2, 2, 0, 0, 0, 1, 0, 2, 2, 1, 1, 1, 1, 2, 0, 0, 0, 1, 0, 0, 2,\n",
              "       2, 2, 0, 0, 1, 0, 2, 0, 0, 2, 2, 2, 2, 0, 1, 0, 0, 2, 2, 1, 1, 2,\n",
              "       1, 2, 1, 0, 0, 2, 2, 0, 2, 2, 1, 2], dtype=int32)"
            ]
          },
          "metadata": {
            "tags": []
          },
          "execution_count": 21
        }
      ]
    },
    {
      "cell_type": "code",
      "metadata": {
        "colab": {
          "base_uri": "https://localhost:8080/",
          "height": 283
        },
        "id": "6vP3a-lMc3M1",
        "outputId": "868a2c3b-e1ad-4902-a473-2e2c147d3f54"
      },
      "source": [
        "plt.scatter(X[:, 0], X[:, 1], c=clf.labels_)"
      ],
      "execution_count": null,
      "outputs": [
        {
          "output_type": "execute_result",
          "data": {
            "text/plain": [
              "<matplotlib.collections.PathCollection at 0x7f84e7b3f9d0>"
            ]
          },
          "metadata": {
            "tags": []
          },
          "execution_count": 22
        },
        {
          "output_type": "display_data",
          "data": {
            "image/png": "[encoded data removed]",
            "text/plain": [
              "<Figure size 432x288 with 1 Axes>"
            ]
          },
          "metadata": {
            "tags": [],
            "needs_background": "light"
          }
        }
      ]
    },
    {
      "cell_type": "code",
      "metadata": {
        "id": "sWjH9NnIdBEE"
      },
      "source": [
        ""
      ],
      "execution_count": null,
      "outputs": []
    }
  ]
}